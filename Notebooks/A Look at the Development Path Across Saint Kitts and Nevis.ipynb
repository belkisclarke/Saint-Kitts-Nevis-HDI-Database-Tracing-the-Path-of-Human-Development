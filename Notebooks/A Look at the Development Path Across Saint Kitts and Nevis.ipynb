{
 "cells": [
  {
   "cell_type": "markdown",
   "id": "3674932c",
   "metadata": {},
   "source": [
    "This project aims to create a data lake solution to analyze the trend in human development indicators in Saint Kitts and Nevis over time. The data lake will be built using the data from https://data.world/hdro/663862f6-ca08-4957-8b5e-51471cedd04f/workspace/file?filename=human-development-indicators-for-saint-kitts-and-nevis-1.csv\n",
    "\n",
    "The Analysis Question being looked at is : What humam factors contribute the most to human development in Saint Kitts and Nevis and how have they changed over time?\n",
    "\n",
    "Data Wrangling For Data prepration and exploration, the following packages will be useful:\n",
    "\n",
    "Pandas: For loading, cleaning, and manipulating data.\n",
    "\n",
    "Numpy: For mathematical and scientific computing.\n",
    "\n",
    "Matplotlib: for visulaizing data and creating graphs and charts\n",
    "\n",
    "Seaborn : For creating more advanced visulization and charts\n",
    "\n",
    "Sckit-learn : For machine learning and data analysis.\n",
    "\n",
    "Import Dataset Human development indicators for Saint Kitts and Nevis\n",
    "\n",
    "Import Packages"
   ]
  },
  {
   "cell_type": "code",
   "execution_count": 685,
   "id": "d731809b",
   "metadata": {},
   "outputs": [],
   "source": [
    "import pandas as pd\n",
    "import numpy as np\n",
    "import matplotlib.pyplot as plt\n",
    "import seaborn as sns\n",
    "from sklearn.linear_model import LinearRegression\n",
    "from pandas.plotting import scatter_matrix\n",
    "from sklearn.preprocessing import StandardScaler\n",
    "from sklearn.model_selection import train_test_split\n",
    "from sklearn.metrics import mean_squared_error, r2_score"
   ]
  },
  {
   "cell_type": "markdown",
   "id": "bcc1604b",
   "metadata": {},
   "source": [
    "Import Data"
   ]
  },
  {
   "cell_type": "code",
   "execution_count": 686,
   "id": "a8089131",
   "metadata": {},
   "outputs": [],
   "source": [
    "human_indicators = pd.read_csv(\"C:/Users/admin/Desktop/Entity/Final Project/Datasets/human-development-indicators-for-saint-kitts-and-nevis.csv\")"
   ]
  },
  {
   "cell_type": "code",
   "execution_count": 687,
   "id": "0bc5e030",
   "metadata": {},
   "outputs": [
    {
     "data": {
      "text/html": [
       "<div>\n",
       "<style scoped>\n",
       "    .dataframe tbody tr th:only-of-type {\n",
       "        vertical-align: middle;\n",
       "    }\n",
       "\n",
       "    .dataframe tbody tr th {\n",
       "        vertical-align: top;\n",
       "    }\n",
       "\n",
       "    .dataframe thead th {\n",
       "        text-align: right;\n",
       "    }\n",
       "</style>\n",
       "<table border=\"1\" class=\"dataframe\">\n",
       "  <thead>\n",
       "    <tr style=\"text-align: right;\">\n",
       "      <th></th>\n",
       "      <th>#country+code</th>\n",
       "      <th>#country+name</th>\n",
       "      <th>#indicator+code</th>\n",
       "      <th>#indicator+name</th>\n",
       "      <th>#indicator+value+num</th>\n",
       "      <th>#date+year</th>\n",
       "    </tr>\n",
       "  </thead>\n",
       "  <tbody>\n",
       "    <tr>\n",
       "      <th>0</th>\n",
       "      <td>KNA</td>\n",
       "      <td>Saint Kitts and Nevis</td>\n",
       "      <td>21806</td>\n",
       "      <td>Refugees by country of origin (thousands)</td>\n",
       "      <td>0.050000</td>\n",
       "      <td>2017</td>\n",
       "    </tr>\n",
       "    <tr>\n",
       "      <th>1</th>\n",
       "      <td>KNA</td>\n",
       "      <td>Saint Kitts and Nevis</td>\n",
       "      <td>31706</td>\n",
       "      <td>Share of seats in parliament (% held by women)</td>\n",
       "      <td>13.333333</td>\n",
       "      <td>2017</td>\n",
       "    </tr>\n",
       "    <tr>\n",
       "      <th>2</th>\n",
       "      <td>KNA</td>\n",
       "      <td>Saint Kitts and Nevis</td>\n",
       "      <td>44206</td>\n",
       "      <td>Total population (millions)</td>\n",
       "      <td>0.055345</td>\n",
       "      <td>2017</td>\n",
       "    </tr>\n",
       "    <tr>\n",
       "      <th>3</th>\n",
       "      <td>KNA</td>\n",
       "      <td>Saint Kitts and Nevis</td>\n",
       "      <td>45106</td>\n",
       "      <td>Urban population (%)</td>\n",
       "      <td>30.800000</td>\n",
       "      <td>2017</td>\n",
       "    </tr>\n",
       "    <tr>\n",
       "      <th>4</th>\n",
       "      <td>KNA</td>\n",
       "      <td>Saint Kitts and Nevis</td>\n",
       "      <td>52606</td>\n",
       "      <td>Remittances, inflows (% of GDP)</td>\n",
       "      <td>1.124040</td>\n",
       "      <td>2017</td>\n",
       "    </tr>\n",
       "  </tbody>\n",
       "</table>\n",
       "</div>"
      ],
      "text/plain": [
       "  #country+code          #country+name  #indicator+code  \\\n",
       "0           KNA  Saint Kitts and Nevis            21806   \n",
       "1           KNA  Saint Kitts and Nevis            31706   \n",
       "2           KNA  Saint Kitts and Nevis            44206   \n",
       "3           KNA  Saint Kitts and Nevis            45106   \n",
       "4           KNA  Saint Kitts and Nevis            52606   \n",
       "\n",
       "                                  #indicator+name  #indicator+value+num  \\\n",
       "0       Refugees by country of origin (thousands)              0.050000   \n",
       "1  Share of seats in parliament (% held by women)             13.333333   \n",
       "2                     Total population (millions)              0.055345   \n",
       "3                            Urban population (%)             30.800000   \n",
       "4                 Remittances, inflows (% of GDP)              1.124040   \n",
       "\n",
       "   #date+year  \n",
       "0        2017  \n",
       "1        2017  \n",
       "2        2017  \n",
       "3        2017  \n",
       "4        2017  "
      ]
     },
     "execution_count": 687,
     "metadata": {},
     "output_type": "execute_result"
    }
   ],
   "source": [
    "human_indicators.head()"
   ]
  },
  {
   "cell_type": "code",
   "execution_count": 688,
   "id": "80523b96",
   "metadata": {},
   "outputs": [
    {
     "data": {
      "text/plain": [
       "(538, 6)"
      ]
     },
     "execution_count": 688,
     "metadata": {},
     "output_type": "execute_result"
    }
   ],
   "source": [
    "human_indicators.shape"
   ]
  },
  {
   "cell_type": "markdown",
   "id": "1578a390",
   "metadata": {},
   "source": [
    "Take a look at the data to observe the structure and get familiar with the contents. "
   ]
  },
  {
   "cell_type": "code",
   "execution_count": 689,
   "id": "40aaa95d",
   "metadata": {},
   "outputs": [
    {
     "name": "stdout",
     "output_type": "stream",
     "text": [
      "<class 'pandas.core.frame.DataFrame'>\n",
      "RangeIndex: 538 entries, 0 to 537\n",
      "Data columns (total 6 columns):\n",
      " #   Column                Non-Null Count  Dtype  \n",
      "---  ------                --------------  -----  \n",
      " 0   #country+code         538 non-null    object \n",
      " 1   #country+name         538 non-null    object \n",
      " 2   #indicator+code       538 non-null    int64  \n",
      " 3   #indicator+name       538 non-null    object \n",
      " 4   #indicator+value+num  538 non-null    float64\n",
      " 5   #date+year            538 non-null    int64  \n",
      "dtypes: float64(1), int64(2), object(3)\n",
      "memory usage: 25.3+ KB\n"
     ]
    }
   ],
   "source": [
    "human_indicators.info()"
   ]
  },
  {
   "cell_type": "markdown",
   "id": "eb4bd3d3",
   "metadata": {},
   "source": [
    "Double Check the data was uploaded correctly as a dataframe. "
   ]
  },
  {
   "cell_type": "code",
   "execution_count": 690,
   "id": "5331a321",
   "metadata": {},
   "outputs": [
    {
     "name": "stdout",
     "output_type": "stream",
     "text": [
      "<class 'pandas.core.frame.DataFrame'>\n"
     ]
    }
   ],
   "source": [
    "print(type(human_indicators))"
   ]
  },
  {
   "cell_type": "markdown",
   "id": "91bade86",
   "metadata": {},
   "source": [
    "It is a DataFrame\n",
    "\n",
    "Create a function using the 'def' keyword. The function retruns the dataframe when called. The fucntion can be pulled multiple times to retrieve information in the dataframe."
   ]
  },
  {
   "cell_type": "code",
   "execution_count": 691,
   "id": "3eec37d6",
   "metadata": {},
   "outputs": [],
   "source": [
    "def human_indicators_function():\n",
    "    return human_indicators"
   ]
  },
  {
   "cell_type": "markdown",
   "id": "b4c69188",
   "metadata": {},
   "source": [
    "Call the function"
   ]
  },
  {
   "cell_type": "code",
   "execution_count": 692,
   "id": "a585b8d3",
   "metadata": {},
   "outputs": [],
   "source": [
    "result = human_indicators_function()"
   ]
  },
  {
   "cell_type": "markdown",
   "id": "ab770b4a",
   "metadata": {},
   "source": [
    "Print the results to make sure that the code was succesful"
   ]
  },
  {
   "cell_type": "code",
   "execution_count": 693,
   "id": "7b7f2346",
   "metadata": {},
   "outputs": [
    {
     "name": "stdout",
     "output_type": "stream",
     "text": [
      "    #country+code          #country+name  #indicator+code  \\\n",
      "0             KNA  Saint Kitts and Nevis            21806   \n",
      "1             KNA  Saint Kitts and Nevis            31706   \n",
      "2             KNA  Saint Kitts and Nevis            44206   \n",
      "3             KNA  Saint Kitts and Nevis            45106   \n",
      "4             KNA  Saint Kitts and Nevis            52606   \n",
      "..            ...                    ...              ...   \n",
      "533           KNA  Saint Kitts and Nevis           163906   \n",
      "534           KNA  Saint Kitts and Nevis           174306   \n",
      "535           KNA  Saint Kitts and Nevis           174406   \n",
      "536           KNA  Saint Kitts and Nevis           175206   \n",
      "537           KNA  Saint Kitts and Nevis           181706   \n",
      "\n",
      "                                       #indicator+name  #indicator+value+num  \\\n",
      "0            Refugees by country of origin (thousands)              0.050000   \n",
      "1       Share of seats in parliament (% held by women)             13.333333   \n",
      "2                          Total population (millions)              0.055345   \n",
      "3                                 Urban population (%)             30.800000   \n",
      "4                      Remittances, inflows (% of GDP)              1.124040   \n",
      "..                                                 ...                   ...   \n",
      "533  Renewable energy consumption (% of total final...             40.032326   \n",
      "534  Fossil fuel energy consumption (% of total ene...              0.000000   \n",
      "535  Carbon dioxide emissions (kg per 2011 PPP $ of...              0.181784   \n",
      "536    Antenatal care coverage, at least one visit (%)            100.000000   \n",
      "537    Rural population with access to electricity (%)             82.082064   \n",
      "\n",
      "     #date+year  \n",
      "0          2017  \n",
      "1          2017  \n",
      "2          2017  \n",
      "3          2017  \n",
      "4          2017  \n",
      "..          ...  \n",
      "533        1990  \n",
      "534        1990  \n",
      "535        1990  \n",
      "536        1990  \n",
      "537        1990  \n",
      "\n",
      "[538 rows x 6 columns]\n"
     ]
    }
   ],
   "source": [
    "print(result)"
   ]
  },
  {
   "cell_type": "markdown",
   "id": "59463375",
   "metadata": {},
   "source": [
    "Check for Missing values\n",
    "\n",
    "The 'isna' method is used to check for missing values in the dataframe. The result is a datframe with the same shape as the original data frame, where each element is 'True' if the corresponding value in the original dataframe is missing, and 'False' otherwise.\n",
    "\n",
    "the 'sum' method is then used to count the number of missing values in each column. The result is a series with the number of missing values for each column.\n",
    "\n",
    "Call the function to retrieve the data frame"
   ]
  },
  {
   "cell_type": "code",
   "execution_count": 694,
   "id": "c64d0dd1",
   "metadata": {},
   "outputs": [],
   "source": [
    "human_indicators1 =human_indicators_function()"
   ]
  },
  {
   "cell_type": "markdown",
   "id": "47662036",
   "metadata": {},
   "source": [
    "Check for Missing Vlaues"
   ]
  },
  {
   "cell_type": "code",
   "execution_count": 695,
   "id": "9fe1dc29",
   "metadata": {},
   "outputs": [],
   "source": [
    "missing_values = human_indicators1 = human_indicators.isna()"
   ]
  },
  {
   "cell_type": "markdown",
   "id": "9c7843be",
   "metadata": {},
   "source": [
    "Take a look to make sure it was successful.\n",
    "\n",
    "Print the Results"
   ]
  },
  {
   "cell_type": "code",
   "execution_count": 696,
   "id": "3ccec3d7",
   "metadata": {},
   "outputs": [
    {
     "name": "stdout",
     "output_type": "stream",
     "text": [
      "#country+code           0\n",
      "#country+name           0\n",
      "#indicator+code         0\n",
      "#indicator+name         0\n",
      "#indicator+value+num    0\n",
      "#date+year              0\n",
      "dtype: int64\n"
     ]
    }
   ],
   "source": [
    "print(missing_values.sum())"
   ]
  },
  {
   "cell_type": "markdown",
   "id": "da809ff7",
   "metadata": {},
   "source": [
    "There are no missing results.\n",
    "\n",
    "Continue with Wrangling.\n",
    "\n",
    "Rename Columns then check it was done succesfully"
   ]
  },
  {
   "cell_type": "code",
   "execution_count": 697,
   "id": "17cabab7",
   "metadata": {},
   "outputs": [],
   "source": [
    "human_indicators.rename(columns={'#indicator+value+num':'human_indicator_value',\n",
    "                                         '#country+name':'country_name',\n",
    "                                         '#indicator+code':'human_indicator_code',\n",
    "                                         '#indicator+name':'human_indicator_name',\n",
    "                                         '#date+year':'year'}, inplace=True)"
   ]
  },
  {
   "cell_type": "code",
   "execution_count": 698,
   "id": "88d0eb5c",
   "metadata": {},
   "outputs": [
    {
     "data": {
      "text/html": [
       "<div>\n",
       "<style scoped>\n",
       "    .dataframe tbody tr th:only-of-type {\n",
       "        vertical-align: middle;\n",
       "    }\n",
       "\n",
       "    .dataframe tbody tr th {\n",
       "        vertical-align: top;\n",
       "    }\n",
       "\n",
       "    .dataframe thead th {\n",
       "        text-align: right;\n",
       "    }\n",
       "</style>\n",
       "<table border=\"1\" class=\"dataframe\">\n",
       "  <thead>\n",
       "    <tr style=\"text-align: right;\">\n",
       "      <th></th>\n",
       "      <th>#country+code</th>\n",
       "      <th>country_name</th>\n",
       "      <th>human_indicator_code</th>\n",
       "      <th>human_indicator_name</th>\n",
       "      <th>human_indicator_value</th>\n",
       "      <th>year</th>\n",
       "    </tr>\n",
       "  </thead>\n",
       "  <tbody>\n",
       "    <tr>\n",
       "      <th>0</th>\n",
       "      <td>KNA</td>\n",
       "      <td>Saint Kitts and Nevis</td>\n",
       "      <td>21806</td>\n",
       "      <td>Refugees by country of origin (thousands)</td>\n",
       "      <td>0.050000</td>\n",
       "      <td>2017</td>\n",
       "    </tr>\n",
       "    <tr>\n",
       "      <th>1</th>\n",
       "      <td>KNA</td>\n",
       "      <td>Saint Kitts and Nevis</td>\n",
       "      <td>31706</td>\n",
       "      <td>Share of seats in parliament (% held by women)</td>\n",
       "      <td>13.333333</td>\n",
       "      <td>2017</td>\n",
       "    </tr>\n",
       "    <tr>\n",
       "      <th>2</th>\n",
       "      <td>KNA</td>\n",
       "      <td>Saint Kitts and Nevis</td>\n",
       "      <td>44206</td>\n",
       "      <td>Total population (millions)</td>\n",
       "      <td>0.055345</td>\n",
       "      <td>2017</td>\n",
       "    </tr>\n",
       "    <tr>\n",
       "      <th>3</th>\n",
       "      <td>KNA</td>\n",
       "      <td>Saint Kitts and Nevis</td>\n",
       "      <td>45106</td>\n",
       "      <td>Urban population (%)</td>\n",
       "      <td>30.800000</td>\n",
       "      <td>2017</td>\n",
       "    </tr>\n",
       "    <tr>\n",
       "      <th>4</th>\n",
       "      <td>KNA</td>\n",
       "      <td>Saint Kitts and Nevis</td>\n",
       "      <td>52606</td>\n",
       "      <td>Remittances, inflows (% of GDP)</td>\n",
       "      <td>1.124040</td>\n",
       "      <td>2017</td>\n",
       "    </tr>\n",
       "  </tbody>\n",
       "</table>\n",
       "</div>"
      ],
      "text/plain": [
       "  #country+code           country_name  human_indicator_code  \\\n",
       "0           KNA  Saint Kitts and Nevis                 21806   \n",
       "1           KNA  Saint Kitts and Nevis                 31706   \n",
       "2           KNA  Saint Kitts and Nevis                 44206   \n",
       "3           KNA  Saint Kitts and Nevis                 45106   \n",
       "4           KNA  Saint Kitts and Nevis                 52606   \n",
       "\n",
       "                             human_indicator_name  human_indicator_value  year  \n",
       "0       Refugees by country of origin (thousands)               0.050000  2017  \n",
       "1  Share of seats in parliament (% held by women)              13.333333  2017  \n",
       "2                     Total population (millions)               0.055345  2017  \n",
       "3                            Urban population (%)              30.800000  2017  \n",
       "4                 Remittances, inflows (% of GDP)               1.124040  2017  "
      ]
     },
     "execution_count": 698,
     "metadata": {},
     "output_type": "execute_result"
    }
   ],
   "source": [
    "human_indicators.head()"
   ]
  },
  {
   "cell_type": "code",
   "execution_count": 699,
   "id": "ddcf162b",
   "metadata": {},
   "outputs": [
    {
     "data": {
      "text/plain": [
       "KNA    538\n",
       "Name: #country+code, dtype: int64"
      ]
     },
     "execution_count": 699,
     "metadata": {},
     "output_type": "execute_result"
    }
   ],
   "source": [
    "human_indicators[\"#country+code\"].value_counts()"
   ]
  },
  {
   "cell_type": "code",
   "execution_count": 700,
   "id": "01e15513",
   "metadata": {},
   "outputs": [
    {
     "data": {
      "text/plain": [
       "Gross national income (GNI) per capita (2011 PPP $)                         28\n",
       "Life expectancy at birth (years)                                            28\n",
       "Expected years of schooling (years)                                         28\n",
       "Life expectancy index                                                       28\n",
       "Income index                                                                28\n",
       "Education index                                                             13\n",
       "Human Development Index (HDI)                                               13\n",
       "Mean years of schooling (years)                                             13\n",
       "Expected years of schooling, female (years)                                 12\n",
       "Share of seats in parliament (% held by women)                              12\n",
       "Gross domestic product (GDP), total (2011 PPP $ billions)                   12\n",
       "Domestic credit provided by financial sector (% of GDP)                     12\n",
       "Expected years of schooling, male (years)                                   12\n",
       "GDP per capita (2011 PPP $)                                                 12\n",
       "Infants lacking immunization, DPT (% of one-year-olds)                      12\n",
       "Infants lacking immunization, measles (% of one-year-olds)                  12\n",
       "Remittances, inflows (% of GDP)                                             12\n",
       "Urban population (%)                                                        12\n",
       "Total population (millions)                                                 12\n",
       "Pupil-teacher ratio, primary school (pupils per teacher)                    11\n",
       "Exports and imports (% of GDP)                                              11\n",
       "Private capital flows (% of GDP)                                            11\n",
       "Mortality rate, under-five (per 1,000 live births)                          11\n",
       "Foreign direct investment, net inflows (% of GDP)                           11\n",
       "Mortality rate, infant (per 1,000 live births)                              11\n",
       "Rural population with access to electricity (%)                             11\n",
       "Forest area (% of total land area)                                          10\n",
       "Renewable energy consumption (% of total final energy consumption)          10\n",
       "International inbound tourists (thousands)                                   9\n",
       "Carbon dioxide emissions, per capita (tonnes)                                9\n",
       "Carbon dioxide emissions (kg per 2011 PPP $ of GDP)                          9\n",
       "Tuberculosis incidence (per 100,000 people)                                  9\n",
       "Mobile phone subscriptions (per 100 people)                                  9\n",
       "Primary school teachers trained to teach (%)                                 9\n",
       "Internet users, total (% of population)                                      9\n",
       "Current health expenditure (% of GDP)                                        8\n",
       "Net official development assistance received (% of GNI)                      8\n",
       "Concentration index (exports) (value)                                        7\n",
       "Proportion of births attended by skilled health personnel (%)                7\n",
       "Homicide rate (per 100,000 people)                                           5\n",
       "Government expenditure on education (% of GDP)                               4\n",
       "Survival rate to the last grade of lower secondary general education (%)     4\n",
       "Primary school dropout rate (% of primary school cohort)                     4\n",
       "Population using improved drinking-water sources (%)                         3\n",
       "Population using improved sanitation facilities (%)                          3\n",
       "Antenatal care coverage, at least one visit (%)                              2\n",
       "Fossil fuel energy consumption (% of total energy consumption)               2\n",
       "Mortality rate, female adult (per 1,000 people)                              2\n",
       "Mortality rate, male adult (per 1,000 people)                                2\n",
       "HDI rank                                                                     2\n",
       "Fresh water withdrawals (% of total renewable water resources)               1\n",
       "International student mobility (% of total tertiary enrolment)               1\n",
       "Red List Index (value)                                                       1\n",
       "Refugees by country of origin (thousands)                                    1\n",
       "Name: human_indicator_name, dtype: int64"
      ]
     },
     "execution_count": 700,
     "metadata": {},
     "output_type": "execute_result"
    }
   ],
   "source": [
    "human_indicators[\"human_indicator_name\"].value_counts()"
   ]
  },
  {
   "cell_type": "code",
   "execution_count": 701,
   "id": "2f368922",
   "metadata": {},
   "outputs": [
    {
     "data": {
      "text/plain": [
       "2005    44\n",
       "2010    43\n",
       "2012    42\n",
       "2000    42\n",
       "2014    41\n",
       "2011    41\n",
       "2013    40\n",
       "2015    37\n",
       "2016    32\n",
       "1990    31\n",
       "1995    30\n",
       "2017    22\n",
       "2006     8\n",
       "2007     8\n",
       "2008     8\n",
       "2009     8\n",
       "1997     6\n",
       "2004     5\n",
       "2002     5\n",
       "2001     5\n",
       "1999     5\n",
       "1998     5\n",
       "1996     5\n",
       "1994     5\n",
       "1993     5\n",
       "1992     5\n",
       "1991     5\n",
       "2003     5\n",
       "Name: year, dtype: int64"
      ]
     },
     "execution_count": 701,
     "metadata": {},
     "output_type": "execute_result"
    }
   ],
   "source": [
    "human_indicators[\"year\"].value_counts()"
   ]
  },
  {
   "cell_type": "markdown",
   "id": "4c922348",
   "metadata": {},
   "source": [
    "display(human_indicators)"
   ]
  },
  {
   "cell_type": "markdown",
   "id": "012b470d",
   "metadata": {},
   "source": [
    "All looks as it should.\n",
    "\n",
    "Subset the data.\n",
    "\n",
    "Remove information that I will not be using.\n",
    "\n",
    "Drop the single column 'country+code' that I will not be using"
   ]
  },
  {
   "cell_type": "code",
   "execution_count": 702,
   "id": "a9b30ba3",
   "metadata": {},
   "outputs": [],
   "source": [
    "human_indicators_modified = human_indicators.drop(columns=['#country+code', 'country_name'])"
   ]
  },
  {
   "cell_type": "markdown",
   "id": "862704a2",
   "metadata": {},
   "source": [
    "At every step take a quick look at the data to ensure your code is successful. It helps to identify errors early so they can be corrected. "
   ]
  },
  {
   "cell_type": "code",
   "execution_count": 703,
   "id": "b4d55561",
   "metadata": {},
   "outputs": [
    {
     "data": {
      "text/html": [
       "<div>\n",
       "<style scoped>\n",
       "    .dataframe tbody tr th:only-of-type {\n",
       "        vertical-align: middle;\n",
       "    }\n",
       "\n",
       "    .dataframe tbody tr th {\n",
       "        vertical-align: top;\n",
       "    }\n",
       "\n",
       "    .dataframe thead th {\n",
       "        text-align: right;\n",
       "    }\n",
       "</style>\n",
       "<table border=\"1\" class=\"dataframe\">\n",
       "  <thead>\n",
       "    <tr style=\"text-align: right;\">\n",
       "      <th></th>\n",
       "      <th>human_indicator_code</th>\n",
       "      <th>human_indicator_name</th>\n",
       "      <th>human_indicator_value</th>\n",
       "      <th>year</th>\n",
       "    </tr>\n",
       "  </thead>\n",
       "  <tbody>\n",
       "    <tr>\n",
       "      <th>0</th>\n",
       "      <td>21806</td>\n",
       "      <td>Refugees by country of origin (thousands)</td>\n",
       "      <td>0.050000</td>\n",
       "      <td>2017</td>\n",
       "    </tr>\n",
       "    <tr>\n",
       "      <th>1</th>\n",
       "      <td>31706</td>\n",
       "      <td>Share of seats in parliament (% held by women)</td>\n",
       "      <td>13.333333</td>\n",
       "      <td>2017</td>\n",
       "    </tr>\n",
       "    <tr>\n",
       "      <th>2</th>\n",
       "      <td>44206</td>\n",
       "      <td>Total population (millions)</td>\n",
       "      <td>0.055345</td>\n",
       "      <td>2017</td>\n",
       "    </tr>\n",
       "    <tr>\n",
       "      <th>3</th>\n",
       "      <td>45106</td>\n",
       "      <td>Urban population (%)</td>\n",
       "      <td>30.800000</td>\n",
       "      <td>2017</td>\n",
       "    </tr>\n",
       "    <tr>\n",
       "      <th>4</th>\n",
       "      <td>52606</td>\n",
       "      <td>Remittances, inflows (% of GDP)</td>\n",
       "      <td>1.124040</td>\n",
       "      <td>2017</td>\n",
       "    </tr>\n",
       "    <tr>\n",
       "      <th>...</th>\n",
       "      <td>...</td>\n",
       "      <td>...</td>\n",
       "      <td>...</td>\n",
       "      <td>...</td>\n",
       "    </tr>\n",
       "    <tr>\n",
       "      <th>533</th>\n",
       "      <td>163906</td>\n",
       "      <td>Renewable energy consumption (% of total final...</td>\n",
       "      <td>40.032326</td>\n",
       "      <td>1990</td>\n",
       "    </tr>\n",
       "    <tr>\n",
       "      <th>534</th>\n",
       "      <td>174306</td>\n",
       "      <td>Fossil fuel energy consumption (% of total ene...</td>\n",
       "      <td>0.000000</td>\n",
       "      <td>1990</td>\n",
       "    </tr>\n",
       "    <tr>\n",
       "      <th>535</th>\n",
       "      <td>174406</td>\n",
       "      <td>Carbon dioxide emissions (kg per 2011 PPP $ of...</td>\n",
       "      <td>0.181784</td>\n",
       "      <td>1990</td>\n",
       "    </tr>\n",
       "    <tr>\n",
       "      <th>536</th>\n",
       "      <td>175206</td>\n",
       "      <td>Antenatal care coverage, at least one visit (%)</td>\n",
       "      <td>100.000000</td>\n",
       "      <td>1990</td>\n",
       "    </tr>\n",
       "    <tr>\n",
       "      <th>537</th>\n",
       "      <td>181706</td>\n",
       "      <td>Rural population with access to electricity (%)</td>\n",
       "      <td>82.082064</td>\n",
       "      <td>1990</td>\n",
       "    </tr>\n",
       "  </tbody>\n",
       "</table>\n",
       "<p>538 rows × 4 columns</p>\n",
       "</div>"
      ],
      "text/plain": [
       "     human_indicator_code                               human_indicator_name  \\\n",
       "0                   21806          Refugees by country of origin (thousands)   \n",
       "1                   31706     Share of seats in parliament (% held by women)   \n",
       "2                   44206                        Total population (millions)   \n",
       "3                   45106                               Urban population (%)   \n",
       "4                   52606                    Remittances, inflows (% of GDP)   \n",
       "..                    ...                                                ...   \n",
       "533                163906  Renewable energy consumption (% of total final...   \n",
       "534                174306  Fossil fuel energy consumption (% of total ene...   \n",
       "535                174406  Carbon dioxide emissions (kg per 2011 PPP $ of...   \n",
       "536                175206    Antenatal care coverage, at least one visit (%)   \n",
       "537                181706    Rural population with access to electricity (%)   \n",
       "\n",
       "     human_indicator_value  year  \n",
       "0                 0.050000  2017  \n",
       "1                13.333333  2017  \n",
       "2                 0.055345  2017  \n",
       "3                30.800000  2017  \n",
       "4                 1.124040  2017  \n",
       "..                     ...   ...  \n",
       "533              40.032326  1990  \n",
       "534               0.000000  1990  \n",
       "535               0.181784  1990  \n",
       "536             100.000000  1990  \n",
       "537              82.082064  1990  \n",
       "\n",
       "[538 rows x 4 columns]"
      ]
     },
     "metadata": {},
     "output_type": "display_data"
    }
   ],
   "source": [
    "display(human_indicators_modified)"
   ]
  },
  {
   "cell_type": "markdown",
   "id": "dc219945",
   "metadata": {},
   "source": [
    "All looks as is expected\n",
    "\n",
    "Keep the rows I will use.\n",
    "\n",
    "I will create a list of the rows I wish to keep. The 'isin' method is used to check if each value in the column is in the list. The result will be a new dataframe that only contains the rows where the values in the column are in the list.\n",
    "\n",
    "\n",
    "Create a list of rows I wish to keep."
   ]
  },
  {
   "cell_type": "code",
   "execution_count": 704,
   "id": "72129bbc",
   "metadata": {},
   "outputs": [],
   "source": [
    "keep_list = [\"Life expectancy at birth (years)\", \"Expected years of schooling (years)\", \"GDP per capita (2011 PPP $)\", \"Mean years of schooling (years)\", \"Gross national income (GNI) per capita (2011 PPP $)\", \"Rural population with access to electricity (%)\", \"Proportion of births attended by skilled health personnel (%)\", \"Share of seats in parliament (% held by women)\", \" Income index \", \"Education index\", \"Human Development Index (HDI)\"]"
   ]
  },
  {
   "cell_type": "code",
   "execution_count": 705,
   "id": "72d287ca",
   "metadata": {},
   "outputs": [
    {
     "data": {
      "text/plain": [
       "['Life expectancy at birth (years)',\n",
       " 'Expected years of schooling (years)',\n",
       " 'GDP per capita (2011 PPP $)',\n",
       " 'Mean years of schooling (years)',\n",
       " 'Gross national income (GNI) per capita (2011 PPP $)',\n",
       " 'Rural population with access to electricity (%)',\n",
       " 'Proportion of births attended by skilled health personnel (%)',\n",
       " 'Share of seats in parliament (% held by women)',\n",
       " ' Income index ',\n",
       " 'Education index',\n",
       " 'Human Development Index (HDI)']"
      ]
     },
     "execution_count": 705,
     "metadata": {},
     "output_type": "execute_result"
    }
   ],
   "source": [
    "keep_list"
   ]
  },
  {
   "cell_type": "code",
   "execution_count": 706,
   "id": "091ed2e7",
   "metadata": {},
   "outputs": [],
   "source": [
    "human_indicators2=human_indicators_modified['human_indicator_name'].isin(keep_list)"
   ]
  },
  {
   "cell_type": "code",
   "execution_count": 707,
   "id": "24036346",
   "metadata": {},
   "outputs": [],
   "source": [
    "human_indicators3 = human_indicators_modified[human_indicators2]"
   ]
  },
  {
   "cell_type": "markdown",
   "id": "654abf1f",
   "metadata": {},
   "source": [
    "Take a quick look at the data to ensure it was successful"
   ]
  },
  {
   "cell_type": "code",
   "execution_count": 708,
   "id": "f525754a",
   "metadata": {},
   "outputs": [
    {
     "data": {
      "text/html": [
       "<div>\n",
       "<style scoped>\n",
       "    .dataframe tbody tr th:only-of-type {\n",
       "        vertical-align: middle;\n",
       "    }\n",
       "\n",
       "    .dataframe tbody tr th {\n",
       "        vertical-align: top;\n",
       "    }\n",
       "\n",
       "    .dataframe thead th {\n",
       "        text-align: right;\n",
       "    }\n",
       "</style>\n",
       "<table border=\"1\" class=\"dataframe\">\n",
       "  <thead>\n",
       "    <tr style=\"text-align: right;\">\n",
       "      <th></th>\n",
       "      <th>human_indicator_code</th>\n",
       "      <th>human_indicator_name</th>\n",
       "      <th>human_indicator_value</th>\n",
       "      <th>year</th>\n",
       "    </tr>\n",
       "  </thead>\n",
       "  <tbody>\n",
       "    <tr>\n",
       "      <th>1</th>\n",
       "      <td>31706</td>\n",
       "      <td>Share of seats in parliament (% held by women)</td>\n",
       "      <td>13.333333</td>\n",
       "      <td>2017</td>\n",
       "    </tr>\n",
       "    <tr>\n",
       "      <th>7</th>\n",
       "      <td>69206</td>\n",
       "      <td>Life expectancy at birth (years)</td>\n",
       "      <td>74.372000</td>\n",
       "      <td>2017</td>\n",
       "    </tr>\n",
       "    <tr>\n",
       "      <th>8</th>\n",
       "      <td>69706</td>\n",
       "      <td>Expected years of schooling (years)</td>\n",
       "      <td>14.389470</td>\n",
       "      <td>2017</td>\n",
       "    </tr>\n",
       "    <tr>\n",
       "      <th>9</th>\n",
       "      <td>103006</td>\n",
       "      <td>Mean years of schooling (years)</td>\n",
       "      <td>8.400000</td>\n",
       "      <td>2017</td>\n",
       "    </tr>\n",
       "    <tr>\n",
       "      <th>12</th>\n",
       "      <td>103706</td>\n",
       "      <td>Education index</td>\n",
       "      <td>0.679708</td>\n",
       "      <td>2017</td>\n",
       "    </tr>\n",
       "    <tr>\n",
       "      <th>...</th>\n",
       "      <td>...</td>\n",
       "      <td>...</td>\n",
       "      <td>...</td>\n",
       "      <td>...</td>\n",
       "    </tr>\n",
       "    <tr>\n",
       "      <th>519</th>\n",
       "      <td>69206</td>\n",
       "      <td>Life expectancy at birth (years)</td>\n",
       "      <td>67.314000</td>\n",
       "      <td>1990</td>\n",
       "    </tr>\n",
       "    <tr>\n",
       "      <th>520</th>\n",
       "      <td>69706</td>\n",
       "      <td>Expected years of schooling (years)</td>\n",
       "      <td>12.717320</td>\n",
       "      <td>1990</td>\n",
       "    </tr>\n",
       "    <tr>\n",
       "      <th>530</th>\n",
       "      <td>136706</td>\n",
       "      <td>GDP per capita (2011 PPP $)</td>\n",
       "      <td>14326.225240</td>\n",
       "      <td>1990</td>\n",
       "    </tr>\n",
       "    <tr>\n",
       "      <th>531</th>\n",
       "      <td>141706</td>\n",
       "      <td>Gross national income (GNI) per capita (2011 P...</td>\n",
       "      <td>13992.051630</td>\n",
       "      <td>1990</td>\n",
       "    </tr>\n",
       "    <tr>\n",
       "      <th>537</th>\n",
       "      <td>181706</td>\n",
       "      <td>Rural population with access to electricity (%)</td>\n",
       "      <td>82.082064</td>\n",
       "      <td>1990</td>\n",
       "    </tr>\n",
       "  </tbody>\n",
       "</table>\n",
       "<p>165 rows × 4 columns</p>\n",
       "</div>"
      ],
      "text/plain": [
       "     human_indicator_code                               human_indicator_name  \\\n",
       "1                   31706     Share of seats in parliament (% held by women)   \n",
       "7                   69206                   Life expectancy at birth (years)   \n",
       "8                   69706                Expected years of schooling (years)   \n",
       "9                  103006                    Mean years of schooling (years)   \n",
       "12                 103706                                    Education index   \n",
       "..                    ...                                                ...   \n",
       "519                 69206                   Life expectancy at birth (years)   \n",
       "520                 69706                Expected years of schooling (years)   \n",
       "530                136706                        GDP per capita (2011 PPP $)   \n",
       "531                141706  Gross national income (GNI) per capita (2011 P...   \n",
       "537                181706    Rural population with access to electricity (%)   \n",
       "\n",
       "     human_indicator_value  year  \n",
       "1                13.333333  2017  \n",
       "7                74.372000  2017  \n",
       "8                14.389470  2017  \n",
       "9                 8.400000  2017  \n",
       "12                0.679708  2017  \n",
       "..                     ...   ...  \n",
       "519              67.314000  1990  \n",
       "520              12.717320  1990  \n",
       "530           14326.225240  1990  \n",
       "531           13992.051630  1990  \n",
       "537              82.082064  1990  \n",
       "\n",
       "[165 rows x 4 columns]"
      ]
     },
     "metadata": {},
     "output_type": "display_data"
    }
   ],
   "source": [
    "display(human_indicators3)"
   ]
  },
  {
   "cell_type": "markdown",
   "id": "1bcb9336",
   "metadata": {},
   "source": [
    "All looks as is expected\n",
    "\n",
    "Check the values of the specific column .\n",
    "\n",
    "my intentioon is to do simple linear regression and multiple linear regression.\n",
    "\n",
    "Using the 'value_counts' method check for the values. The 'value_counts' methods returns a series that contains the unique values of the column, along with the count of each value.\n",
    "\n",
    "Checking the values of the columns is an important step in data preparation for multiple regression analysis because:\n",
    "\n",
    "    * Missing values: If there are missing values in the columns, they can impact the accuracy and results of the regression analysis. Check for missing values using the .isna() method.\n",
    "\n",
    "    * Outliers: Outliers can also have a significant impact on the results of the regression analysis. Check for outliers using various visualization methods such as a box plot, scatter plot, or histogram\n",
    "\n",
    "    * Data type: Make sure that the data type of each column is appropriate for the analussi to be conducted. For example, categorical variables should be converted to numeric data types.\n",
    "\n",
    "*Data distribution: Checking the values of the columns can also helps to understand the distribution of the data, which can impact the results of the regression analysis. For example, if the data is not normally distributed, it may need to be transformed to achieve a normal distribution"
   ]
  },
  {
   "cell_type": "code",
   "execution_count": 709,
   "id": "200e6d1e",
   "metadata": {},
   "outputs": [],
   "source": [
    "value_counts= human_indicators3[\"human_indicator_name\"].value_counts()"
   ]
  },
  {
   "cell_type": "code",
   "execution_count": 710,
   "id": "0afc7b37",
   "metadata": {},
   "outputs": [
    {
     "name": "stdout",
     "output_type": "stream",
     "text": [
      "Life expectancy at birth (years)                                 28\n",
      "Expected years of schooling (years)                              28\n",
      "Gross national income (GNI) per capita (2011 PPP $)              28\n",
      "Mean years of schooling (years)                                  13\n",
      "Education index                                                  13\n",
      "Human Development Index (HDI)                                    13\n",
      "Share of seats in parliament (% held by women)                   12\n",
      "GDP per capita (2011 PPP $)                                      12\n",
      "Rural population with access to electricity (%)                  11\n",
      "Proportion of births attended by skilled health personnel (%)     7\n",
      "Name: human_indicator_name, dtype: int64\n"
     ]
    }
   ],
   "source": [
    "print(value_counts)"
   ]
  },
  {
   "cell_type": "markdown",
   "id": "365a5a17",
   "metadata": {},
   "source": [
    "Take a look at the data in varoius ways to esnure it is appropraite for the analysis to be perfomed.\n",
    "\n",
    "The intention is do do simple linear regression and multiple regressioin analysis.\n",
    "\n",
    "The following is to observe the data and to ensure it is ready for  regression analysis."
   ]
  },
  {
   "cell_type": "code",
   "execution_count": 711,
   "id": "245ffaa9",
   "metadata": {},
   "outputs": [
    {
     "name": "stdout",
     "output_type": "stream",
     "text": [
      "<class 'pandas.core.frame.DataFrame'>\n",
      "Int64Index: 165 entries, 1 to 537\n",
      "Data columns (total 4 columns):\n",
      " #   Column                 Non-Null Count  Dtype  \n",
      "---  ------                 --------------  -----  \n",
      " 0   human_indicator_code   165 non-null    int64  \n",
      " 1   human_indicator_name   165 non-null    object \n",
      " 2   human_indicator_value  165 non-null    float64\n",
      " 3   year                   165 non-null    int64  \n",
      "dtypes: float64(1), int64(2), object(1)\n",
      "memory usage: 6.4+ KB\n"
     ]
    }
   ],
   "source": [
    "human_indicators3.info()"
   ]
  },
  {
   "cell_type": "markdown",
   "id": "c3440aab",
   "metadata": {},
   "source": [
    "Check the shape of the dataframe\n",
    "\n",
    "This returns a tuple with the number of rows and cloumns in the dataframe."
   ]
  },
  {
   "cell_type": "code",
   "execution_count": 712,
   "id": "854af252",
   "metadata": {},
   "outputs": [
    {
     "name": "stdout",
     "output_type": "stream",
     "text": [
      "(165, 4)\n"
     ]
    }
   ],
   "source": [
    "print(human_indicators3.shape)"
   ]
  },
  {
   "cell_type": "markdown",
   "id": "2fe0c61a",
   "metadata": {},
   "source": [
    "Summary Statitistics\n",
    "\n",
    "To get summary statitstics use 'describe()' method. This will return the count, mean, standard deviation, minimun, 25th percentile, median (50th percentile). 75th percentile, and maximun column in the dataframe."
   ]
  },
  {
   "cell_type": "code",
   "execution_count": 713,
   "id": "98ee02b0",
   "metadata": {},
   "outputs": [
    {
     "name": "stdout",
     "output_type": "stream",
     "text": [
      "       human_indicator_code  human_indicator_value         year\n",
      "count            165.000000             165.000000   165.000000\n",
      "mean          106789.636364            4841.809407  2006.496970\n",
      "std            43030.043802            8666.868482     7.861316\n",
      "min            31706.000000               0.100000  1990.000000\n",
      "25%            69706.000000               8.400000  2000.000000\n",
      "50%           103706.000000              68.084000  2008.000000\n",
      "75%           141706.000000             100.000000  2013.000000\n",
      "max           181706.000000           24654.385400  2017.000000\n"
     ]
    }
   ],
   "source": [
    "print(human_indicators3.describe())"
   ]
  },
  {
   "cell_type": "markdown",
   "id": "08aa0010",
   "metadata": {},
   "source": [
    "This shows a quick overview of the data. it prvides information about the central tendency, dispersion, and shape of the data. It can be useful for identifying patterns and trends in the data, as well as comparing the distributions of different datasets. \n",
    "\n",
    "It shows begining and end of the data set (1990 - 2017) with 2006 being mean year. The standard deviation gives an overview of the interpretable measure of the spread of data. It will be explored more as we progress. \n",
    "\n",
    "It returns data only for those columns that are numerical which indicate the need to convert the categorical columns to numerical.\n",
    "\n",
    "Check for categorical or numeric Data\n",
    "\n",
    "Use 'dtypes' attibute to checkfor categorical data. It retruns the data type for each column in the dataframe. Categorical data will have the data type 'category'.\n",
    "\n",
    "Find the data type of each column"
   ]
  },
  {
   "cell_type": "code",
   "execution_count": 714,
   "id": "8a0ef8f0",
   "metadata": {},
   "outputs": [
    {
     "data": {
      "text/plain": [
       "human_indicator_code       int64\n",
       "human_indicator_name      object\n",
       "human_indicator_value    float64\n",
       "year                       int64\n",
       "dtype: object"
      ]
     },
     "execution_count": 714,
     "metadata": {},
     "output_type": "execute_result"
    }
   ],
   "source": [
    "human_indicators3.dtypes"
   ]
  },
  {
   "cell_type": "markdown",
   "id": "27ed5313",
   "metadata": {},
   "source": [
    "one columns show up as categorical.\n",
    "\n",
    "Find the categorical column"
   ]
  },
  {
   "cell_type": "code",
   "execution_count": 715,
   "id": "33102f99",
   "metadata": {},
   "outputs": [],
   "source": [
    "categorical_columns = human_indicators3.select_dtypes(include=['object']).columns"
   ]
  },
  {
   "cell_type": "code",
   "execution_count": 716,
   "id": "a251f133",
   "metadata": {},
   "outputs": [
    {
     "name": "stdout",
     "output_type": "stream",
     "text": [
      "Index(['human_indicator_name'], dtype='object')\n"
     ]
    }
   ],
   "source": [
    "print(categorical_columns)"
   ]
  },
  {
   "cell_type": "markdown",
   "id": "81f58a48",
   "metadata": {},
   "source": [
    "It shows that 'country_name' and 'human_indicator_name' columns are categorical.\n",
    "\n",
    "Change categorical data to numeric. \n",
    "\n",
    "First, Replace Specific values in a column\n",
    "\n",
    "Rename the rows under the column human_indicator_name so that the row names do not have objects such as % in them. Modify the column human_indicator_name and replace the old row names in that column with new names. The 'inplace=True' argument tells the 'replace' method to modify the dataframe in place, so I do not need to assign the result to a new dataframe.\n",
    "\n",
    "This will replace all instances of the old values in the specified column with the new values, without splitting the column into multiple columns. This can be useful way to clean and standardize values in a column without changing the structure of the dataframe."
   ]
  },
  {
   "cell_type": "markdown",
   "id": "c06af008",
   "metadata": {},
   "source": [
    "Define a dictionary of old and new names"
   ]
  },
  {
   "cell_type": "code",
   "execution_count": 717,
   "id": "fd0d3867",
   "metadata": {},
   "outputs": [],
   "source": [
    "human_indicator_name_rename = {\"Life expectancy at birth (years)\":\"life_expectancy_at_birth\", \n",
    "                                              \"Expected years of schooling (years)\":\"expected_years_of_schooling\",\n",
    "                                              \"Human Development Index (HDI)\":\"human_development_index\",\n",
    "                                              \"Share of seats in parliament (% held by women)\": \"share_seats_women_in_parliament\",\n",
    "                                              \"Mean years of schooling (years)\":\"mean_years_of_schooling\",\n",
    "                                              \"Proportion of births attended by skilled health personnel (%)\":\"proportion_births_handled_by_skilled_personnel\",\n",
    "                                               \"Rural population with access to electricity (%)\":\"rural_population_access_electricity\",\n",
    "                                               \"Gross national income (GNI) per capita (2011 PPP $)\":\"gross_national_income_per_capita\",\n",
    "                                               \"GDP per capita (2011 PPP $)\":\"gdp_per_capita\",\n",
    "                                                \"Education index\":\"education_index\",\n",
    "                                                \"Income index\":\"income_index\"}"
   ]
  },
  {
   "cell_type": "markdown",
   "id": "e38d4164",
   "metadata": {},
   "source": [
    "Rename the rows in the column `human_indicator_name`. "
   ]
  },
  {
   "cell_type": "code",
   "execution_count": 718,
   "id": "a1380cc5",
   "metadata": {},
   "outputs": [
    {
     "name": "stderr",
     "output_type": "stream",
     "text": [
      "C:\\Users\\admin\\AppData\\Local\\Temp\\ipykernel_19596\\1646776122.py:1: SettingWithCopyWarning: \n",
      "A value is trying to be set on a copy of a slice from a DataFrame\n",
      "\n",
      "See the caveats in the documentation: https://pandas.pydata.org/pandas-docs/stable/user_guide/indexing.html#returning-a-view-versus-a-copy\n",
      "  human_indicators3['human_indicator_name'].replace(human_indicator_name_rename, inplace=True)\n"
     ]
    }
   ],
   "source": [
    "human_indicators3['human_indicator_name'].replace(human_indicator_name_rename, inplace=True)"
   ]
  },
  {
   "cell_type": "code",
   "execution_count": 719,
   "id": "5a7faf3e",
   "metadata": {},
   "outputs": [
    {
     "name": "stdout",
     "output_type": "stream",
     "text": [
      "     human_indicator_code                 human_indicator_name  \\\n",
      "1                   31706      share_seats_women_in_parliament   \n",
      "7                   69206             life_expectancy_at_birth   \n",
      "8                   69706          expected_years_of_schooling   \n",
      "9                  103006              mean_years_of_schooling   \n",
      "12                 103706                      education_index   \n",
      "..                    ...                                  ...   \n",
      "519                 69206             life_expectancy_at_birth   \n",
      "520                 69706          expected_years_of_schooling   \n",
      "530                136706                       gdp_per_capita   \n",
      "531                141706     gross_national_income_per_capita   \n",
      "537                181706  rural_population_access_electricity   \n",
      "\n",
      "     human_indicator_value  year  \n",
      "1                13.333333  2017  \n",
      "7                74.372000  2017  \n",
      "8                14.389470  2017  \n",
      "9                 8.400000  2017  \n",
      "12                0.679708  2017  \n",
      "..                     ...   ...  \n",
      "519              67.314000  1990  \n",
      "520              12.717320  1990  \n",
      "530           14326.225240  1990  \n",
      "531           13992.051630  1990  \n",
      "537              82.082064  1990  \n",
      "\n",
      "[165 rows x 4 columns]\n"
     ]
    }
   ],
   "source": [
    "print(human_indicators3)"
   ]
  },
  {
   "cell_type": "markdown",
   "id": "b3c3a0ef",
   "metadata": {},
   "source": [
    "Always check your data to make sure your code was successful"
   ]
  },
  {
   "cell_type": "code",
   "execution_count": 720,
   "id": "d6401332",
   "metadata": {},
   "outputs": [
    {
     "data": {
      "text/html": [
       "<div>\n",
       "<style scoped>\n",
       "    .dataframe tbody tr th:only-of-type {\n",
       "        vertical-align: middle;\n",
       "    }\n",
       "\n",
       "    .dataframe tbody tr th {\n",
       "        vertical-align: top;\n",
       "    }\n",
       "\n",
       "    .dataframe thead th {\n",
       "        text-align: right;\n",
       "    }\n",
       "</style>\n",
       "<table border=\"1\" class=\"dataframe\">\n",
       "  <thead>\n",
       "    <tr style=\"text-align: right;\">\n",
       "      <th></th>\n",
       "      <th>human_indicator_code</th>\n",
       "      <th>human_indicator_name</th>\n",
       "      <th>human_indicator_value</th>\n",
       "      <th>year</th>\n",
       "    </tr>\n",
       "  </thead>\n",
       "  <tbody>\n",
       "    <tr>\n",
       "      <th>1</th>\n",
       "      <td>31706</td>\n",
       "      <td>share_seats_women_in_parliament</td>\n",
       "      <td>13.333333</td>\n",
       "      <td>2017</td>\n",
       "    </tr>\n",
       "    <tr>\n",
       "      <th>7</th>\n",
       "      <td>69206</td>\n",
       "      <td>life_expectancy_at_birth</td>\n",
       "      <td>74.372000</td>\n",
       "      <td>2017</td>\n",
       "    </tr>\n",
       "    <tr>\n",
       "      <th>8</th>\n",
       "      <td>69706</td>\n",
       "      <td>expected_years_of_schooling</td>\n",
       "      <td>14.389470</td>\n",
       "      <td>2017</td>\n",
       "    </tr>\n",
       "    <tr>\n",
       "      <th>9</th>\n",
       "      <td>103006</td>\n",
       "      <td>mean_years_of_schooling</td>\n",
       "      <td>8.400000</td>\n",
       "      <td>2017</td>\n",
       "    </tr>\n",
       "    <tr>\n",
       "      <th>12</th>\n",
       "      <td>103706</td>\n",
       "      <td>education_index</td>\n",
       "      <td>0.679708</td>\n",
       "      <td>2017</td>\n",
       "    </tr>\n",
       "  </tbody>\n",
       "</table>\n",
       "</div>"
      ],
      "text/plain": [
       "    human_indicator_code             human_indicator_name  \\\n",
       "1                  31706  share_seats_women_in_parliament   \n",
       "7                  69206         life_expectancy_at_birth   \n",
       "8                  69706      expected_years_of_schooling   \n",
       "9                 103006          mean_years_of_schooling   \n",
       "12                103706                  education_index   \n",
       "\n",
       "    human_indicator_value  year  \n",
       "1               13.333333  2017  \n",
       "7               74.372000  2017  \n",
       "8               14.389470  2017  \n",
       "9                8.400000  2017  \n",
       "12               0.679708  2017  "
      ]
     },
     "execution_count": 720,
     "metadata": {},
     "output_type": "execute_result"
    }
   ],
   "source": [
    "human_indicators3.head()"
   ]
  },
  {
   "cell_type": "code",
   "execution_count": 721,
   "id": "9c7d8c9c",
   "metadata": {},
   "outputs": [
    {
     "data": {
      "text/plain": [
       "human_indicator_code       int64\n",
       "human_indicator_name      object\n",
       "human_indicator_value    float64\n",
       "year                       int64\n",
       "dtype: object"
      ]
     },
     "execution_count": 721,
     "metadata": {},
     "output_type": "execute_result"
    }
   ],
   "source": [
    "human_indicators3.dtypes"
   ]
  },
  {
   "cell_type": "code",
   "execution_count": 722,
   "id": "8d360f04",
   "metadata": {},
   "outputs": [
    {
     "data": {
      "text/html": [
       "<div>\n",
       "<style scoped>\n",
       "    .dataframe tbody tr th:only-of-type {\n",
       "        vertical-align: middle;\n",
       "    }\n",
       "\n",
       "    .dataframe tbody tr th {\n",
       "        vertical-align: top;\n",
       "    }\n",
       "\n",
       "    .dataframe thead th {\n",
       "        text-align: right;\n",
       "    }\n",
       "</style>\n",
       "<table border=\"1\" class=\"dataframe\">\n",
       "  <thead>\n",
       "    <tr style=\"text-align: right;\">\n",
       "      <th></th>\n",
       "      <th>human_indicator_code</th>\n",
       "      <th>human_indicator_name</th>\n",
       "      <th>human_indicator_value</th>\n",
       "      <th>year</th>\n",
       "    </tr>\n",
       "  </thead>\n",
       "  <tbody>\n",
       "    <tr>\n",
       "      <th>1</th>\n",
       "      <td>31706</td>\n",
       "      <td>share_seats_women_in_parliament</td>\n",
       "      <td>13.333333</td>\n",
       "      <td>2017</td>\n",
       "    </tr>\n",
       "    <tr>\n",
       "      <th>7</th>\n",
       "      <td>69206</td>\n",
       "      <td>life_expectancy_at_birth</td>\n",
       "      <td>74.372000</td>\n",
       "      <td>2017</td>\n",
       "    </tr>\n",
       "    <tr>\n",
       "      <th>8</th>\n",
       "      <td>69706</td>\n",
       "      <td>expected_years_of_schooling</td>\n",
       "      <td>14.389470</td>\n",
       "      <td>2017</td>\n",
       "    </tr>\n",
       "    <tr>\n",
       "      <th>9</th>\n",
       "      <td>103006</td>\n",
       "      <td>mean_years_of_schooling</td>\n",
       "      <td>8.400000</td>\n",
       "      <td>2017</td>\n",
       "    </tr>\n",
       "    <tr>\n",
       "      <th>12</th>\n",
       "      <td>103706</td>\n",
       "      <td>education_index</td>\n",
       "      <td>0.679708</td>\n",
       "      <td>2017</td>\n",
       "    </tr>\n",
       "    <tr>\n",
       "      <th>...</th>\n",
       "      <td>...</td>\n",
       "      <td>...</td>\n",
       "      <td>...</td>\n",
       "      <td>...</td>\n",
       "    </tr>\n",
       "    <tr>\n",
       "      <th>519</th>\n",
       "      <td>69206</td>\n",
       "      <td>life_expectancy_at_birth</td>\n",
       "      <td>67.314000</td>\n",
       "      <td>1990</td>\n",
       "    </tr>\n",
       "    <tr>\n",
       "      <th>520</th>\n",
       "      <td>69706</td>\n",
       "      <td>expected_years_of_schooling</td>\n",
       "      <td>12.717320</td>\n",
       "      <td>1990</td>\n",
       "    </tr>\n",
       "    <tr>\n",
       "      <th>530</th>\n",
       "      <td>136706</td>\n",
       "      <td>gdp_per_capita</td>\n",
       "      <td>14326.225240</td>\n",
       "      <td>1990</td>\n",
       "    </tr>\n",
       "    <tr>\n",
       "      <th>531</th>\n",
       "      <td>141706</td>\n",
       "      <td>gross_national_income_per_capita</td>\n",
       "      <td>13992.051630</td>\n",
       "      <td>1990</td>\n",
       "    </tr>\n",
       "    <tr>\n",
       "      <th>537</th>\n",
       "      <td>181706</td>\n",
       "      <td>rural_population_access_electricity</td>\n",
       "      <td>82.082064</td>\n",
       "      <td>1990</td>\n",
       "    </tr>\n",
       "  </tbody>\n",
       "</table>\n",
       "<p>165 rows × 4 columns</p>\n",
       "</div>"
      ],
      "text/plain": [
       "     human_indicator_code                 human_indicator_name  \\\n",
       "1                   31706      share_seats_women_in_parliament   \n",
       "7                   69206             life_expectancy_at_birth   \n",
       "8                   69706          expected_years_of_schooling   \n",
       "9                  103006              mean_years_of_schooling   \n",
       "12                 103706                      education_index   \n",
       "..                    ...                                  ...   \n",
       "519                 69206             life_expectancy_at_birth   \n",
       "520                 69706          expected_years_of_schooling   \n",
       "530                136706                       gdp_per_capita   \n",
       "531                141706     gross_national_income_per_capita   \n",
       "537                181706  rural_population_access_electricity   \n",
       "\n",
       "     human_indicator_value  year  \n",
       "1                13.333333  2017  \n",
       "7                74.372000  2017  \n",
       "8                14.389470  2017  \n",
       "9                 8.400000  2017  \n",
       "12                0.679708  2017  \n",
       "..                     ...   ...  \n",
       "519              67.314000  1990  \n",
       "520              12.717320  1990  \n",
       "530           14326.225240  1990  \n",
       "531           13992.051630  1990  \n",
       "537              82.082064  1990  \n",
       "\n",
       "[165 rows x 4 columns]"
      ]
     },
     "metadata": {},
     "output_type": "display_data"
    }
   ],
   "source": [
    "display(human_indicators3)"
   ]
  },
  {
   "cell_type": "markdown",
   "id": "f71b70bc",
   "metadata": {},
   "source": [
    "Changing Categorical values to Numerical  Values\n",
    "\n",
    "use 'map' to assign specific numerical values to each variable in a column. The 'map()' method takes a dictionary as an argument, where the keys are the variables in the column and the values are the numerical values to be assigned to each varaible. After running the code the varaibles in the specified column will be replaced with the corresponding numerical values.\n",
    "\n",
    "The 'map' method is important in linear regression analysis because it allows you to map specific values in the dataset to new values that are more suyitable for analysis. The text values are not suitable for use in regression analysis. By using'map' method they are converted to numerical values that can be used in regression analysis, presenting the relationships between the values and allowing more meaningful analysis. This conversion from categorical to numerical also helps reduce potential biases and inaccuarcies that can occur when working with text data. "
   ]
  },
  {
   "cell_type": "code",
   "execution_count": 723,
   "id": "cf37dee7",
   "metadata": {},
   "outputs": [],
   "source": [
    "mapping = {'life_expectancy_at_birth':1, 'expected_years_of_schooling':2, 'gdp_per_capita':3, 'human_development_index':4, 'gross_national_income_per_capita':5, 'mean_years_of_schooling':6, 'rural_population_access_electricity':7, 'share_seats_women_in_parliament':8, 'proportion_births_handled_by_skilled_personnel':9, 'education_index':10, 'income_index':11}"
   ]
  },
  {
   "cell_type": "code",
   "execution_count": 724,
   "id": "7ea79e8b",
   "metadata": {},
   "outputs": [
    {
     "name": "stderr",
     "output_type": "stream",
     "text": [
      "C:\\Users\\admin\\AppData\\Local\\Temp\\ipykernel_19596\\4272388598.py:1: SettingWithCopyWarning: \n",
      "A value is trying to be set on a copy of a slice from a DataFrame.\n",
      "Try using .loc[row_indexer,col_indexer] = value instead\n",
      "\n",
      "See the caveats in the documentation: https://pandas.pydata.org/pandas-docs/stable/user_guide/indexing.html#returning-a-view-versus-a-copy\n",
      "  human_indicators3['human_indicators_nameR'] = human_indicators3['human_indicator_name'].map(mapping)\n"
     ]
    }
   ],
   "source": [
    "human_indicators3['human_indicators_nameR'] = human_indicators3['human_indicator_name'].map(mapping)"
   ]
  },
  {
   "cell_type": "markdown",
   "id": "4b33e60a",
   "metadata": {},
   "source": [
    "Examine the data to ensure the code was successful"
   ]
  },
  {
   "cell_type": "code",
   "execution_count": 725,
   "id": "8cddd660",
   "metadata": {},
   "outputs": [
    {
     "data": {
      "text/html": [
       "<div>\n",
       "<style scoped>\n",
       "    .dataframe tbody tr th:only-of-type {\n",
       "        vertical-align: middle;\n",
       "    }\n",
       "\n",
       "    .dataframe tbody tr th {\n",
       "        vertical-align: top;\n",
       "    }\n",
       "\n",
       "    .dataframe thead th {\n",
       "        text-align: right;\n",
       "    }\n",
       "</style>\n",
       "<table border=\"1\" class=\"dataframe\">\n",
       "  <thead>\n",
       "    <tr style=\"text-align: right;\">\n",
       "      <th></th>\n",
       "      <th>human_indicator_code</th>\n",
       "      <th>human_indicator_name</th>\n",
       "      <th>human_indicator_value</th>\n",
       "      <th>year</th>\n",
       "      <th>human_indicators_nameR</th>\n",
       "    </tr>\n",
       "  </thead>\n",
       "  <tbody>\n",
       "    <tr>\n",
       "      <th>1</th>\n",
       "      <td>31706</td>\n",
       "      <td>share_seats_women_in_parliament</td>\n",
       "      <td>13.333333</td>\n",
       "      <td>2017</td>\n",
       "      <td>8</td>\n",
       "    </tr>\n",
       "    <tr>\n",
       "      <th>7</th>\n",
       "      <td>69206</td>\n",
       "      <td>life_expectancy_at_birth</td>\n",
       "      <td>74.372000</td>\n",
       "      <td>2017</td>\n",
       "      <td>1</td>\n",
       "    </tr>\n",
       "    <tr>\n",
       "      <th>8</th>\n",
       "      <td>69706</td>\n",
       "      <td>expected_years_of_schooling</td>\n",
       "      <td>14.389470</td>\n",
       "      <td>2017</td>\n",
       "      <td>2</td>\n",
       "    </tr>\n",
       "    <tr>\n",
       "      <th>9</th>\n",
       "      <td>103006</td>\n",
       "      <td>mean_years_of_schooling</td>\n",
       "      <td>8.400000</td>\n",
       "      <td>2017</td>\n",
       "      <td>6</td>\n",
       "    </tr>\n",
       "    <tr>\n",
       "      <th>12</th>\n",
       "      <td>103706</td>\n",
       "      <td>education_index</td>\n",
       "      <td>0.679708</td>\n",
       "      <td>2017</td>\n",
       "      <td>10</td>\n",
       "    </tr>\n",
       "    <tr>\n",
       "      <th>...</th>\n",
       "      <td>...</td>\n",
       "      <td>...</td>\n",
       "      <td>...</td>\n",
       "      <td>...</td>\n",
       "      <td>...</td>\n",
       "    </tr>\n",
       "    <tr>\n",
       "      <th>519</th>\n",
       "      <td>69206</td>\n",
       "      <td>life_expectancy_at_birth</td>\n",
       "      <td>67.314000</td>\n",
       "      <td>1990</td>\n",
       "      <td>1</td>\n",
       "    </tr>\n",
       "    <tr>\n",
       "      <th>520</th>\n",
       "      <td>69706</td>\n",
       "      <td>expected_years_of_schooling</td>\n",
       "      <td>12.717320</td>\n",
       "      <td>1990</td>\n",
       "      <td>2</td>\n",
       "    </tr>\n",
       "    <tr>\n",
       "      <th>530</th>\n",
       "      <td>136706</td>\n",
       "      <td>gdp_per_capita</td>\n",
       "      <td>14326.225240</td>\n",
       "      <td>1990</td>\n",
       "      <td>3</td>\n",
       "    </tr>\n",
       "    <tr>\n",
       "      <th>531</th>\n",
       "      <td>141706</td>\n",
       "      <td>gross_national_income_per_capita</td>\n",
       "      <td>13992.051630</td>\n",
       "      <td>1990</td>\n",
       "      <td>5</td>\n",
       "    </tr>\n",
       "    <tr>\n",
       "      <th>537</th>\n",
       "      <td>181706</td>\n",
       "      <td>rural_population_access_electricity</td>\n",
       "      <td>82.082064</td>\n",
       "      <td>1990</td>\n",
       "      <td>7</td>\n",
       "    </tr>\n",
       "  </tbody>\n",
       "</table>\n",
       "<p>165 rows × 5 columns</p>\n",
       "</div>"
      ],
      "text/plain": [
       "     human_indicator_code                 human_indicator_name  \\\n",
       "1                   31706      share_seats_women_in_parliament   \n",
       "7                   69206             life_expectancy_at_birth   \n",
       "8                   69706          expected_years_of_schooling   \n",
       "9                  103006              mean_years_of_schooling   \n",
       "12                 103706                      education_index   \n",
       "..                    ...                                  ...   \n",
       "519                 69206             life_expectancy_at_birth   \n",
       "520                 69706          expected_years_of_schooling   \n",
       "530                136706                       gdp_per_capita   \n",
       "531                141706     gross_national_income_per_capita   \n",
       "537                181706  rural_population_access_electricity   \n",
       "\n",
       "     human_indicator_value  year  human_indicators_nameR  \n",
       "1                13.333333  2017                       8  \n",
       "7                74.372000  2017                       1  \n",
       "8                14.389470  2017                       2  \n",
       "9                 8.400000  2017                       6  \n",
       "12                0.679708  2017                      10  \n",
       "..                     ...   ...                     ...  \n",
       "519              67.314000  1990                       1  \n",
       "520              12.717320  1990                       2  \n",
       "530           14326.225240  1990                       3  \n",
       "531           13992.051630  1990                       5  \n",
       "537              82.082064  1990                       7  \n",
       "\n",
       "[165 rows x 5 columns]"
      ]
     },
     "metadata": {},
     "output_type": "display_data"
    }
   ],
   "source": [
    "display(human_indicators3)"
   ]
  },
  {
   "cell_type": "markdown",
   "id": "c71f43af",
   "metadata": {},
   "source": [
    "Identify columns with strings using 'dtypes' attribute, which returns the data type of each column. Filter the columns with string data type"
   ]
  },
  {
   "cell_type": "code",
   "execution_count": 726,
   "id": "8daf8788",
   "metadata": {},
   "outputs": [],
   "source": [
    "string_cols = human_indicators3.select_dtypes(include=['object']).columns"
   ]
  },
  {
   "cell_type": "code",
   "execution_count": 727,
   "id": "8cdf76e0",
   "metadata": {},
   "outputs": [
    {
     "data": {
      "text/plain": [
       "Index(['human_indicator_name'], dtype='object')"
      ]
     },
     "metadata": {},
     "output_type": "display_data"
    }
   ],
   "source": [
    "display (string_cols)"
   ]
  },
  {
   "cell_type": "code",
   "execution_count": 728,
   "id": "9bc708b0",
   "metadata": {},
   "outputs": [
    {
     "name": "stdout",
     "output_type": "stream",
     "text": [
      "human_indicator_code        int64\n",
      "human_indicator_name       object\n",
      "human_indicator_value     float64\n",
      "year                        int64\n",
      "human_indicators_nameR      int64\n",
      "dtype: object\n"
     ]
    }
   ],
   "source": [
    "print (human_indicators3.dtypes)"
   ]
  },
  {
   "cell_type": "markdown",
   "id": "5a5c1ad4",
   "metadata": {},
   "source": [
    "The data type is now numerical and ready for regression analysis"
   ]
  },
  {
   "cell_type": "markdown",
   "id": "2a1ab5cf",
   "metadata": {},
   "source": [
    "Reset the Index\n",
    "\n",
    "\n",
    "This makes it easy to manipulate the dataframe and help eliminate index-related errors or issues that may arise during analysis."
   ]
  },
  {
   "cell_type": "code",
   "execution_count": 729,
   "id": "cc626a3e",
   "metadata": {},
   "outputs": [
    {
     "data": {
      "text/html": [
       "<div>\n",
       "<style scoped>\n",
       "    .dataframe tbody tr th:only-of-type {\n",
       "        vertical-align: middle;\n",
       "    }\n",
       "\n",
       "    .dataframe tbody tr th {\n",
       "        vertical-align: top;\n",
       "    }\n",
       "\n",
       "    .dataframe thead th {\n",
       "        text-align: right;\n",
       "    }\n",
       "</style>\n",
       "<table border=\"1\" class=\"dataframe\">\n",
       "  <thead>\n",
       "    <tr style=\"text-align: right;\">\n",
       "      <th></th>\n",
       "      <th>human_indicator_code</th>\n",
       "      <th>human_indicator_name</th>\n",
       "      <th>human_indicator_value</th>\n",
       "      <th>year</th>\n",
       "      <th>human_indicators_nameR</th>\n",
       "    </tr>\n",
       "  </thead>\n",
       "  <tbody>\n",
       "    <tr>\n",
       "      <th>0</th>\n",
       "      <td>31706</td>\n",
       "      <td>share_seats_women_in_parliament</td>\n",
       "      <td>13.333333</td>\n",
       "      <td>2017</td>\n",
       "      <td>8</td>\n",
       "    </tr>\n",
       "    <tr>\n",
       "      <th>1</th>\n",
       "      <td>69206</td>\n",
       "      <td>life_expectancy_at_birth</td>\n",
       "      <td>74.372000</td>\n",
       "      <td>2017</td>\n",
       "      <td>1</td>\n",
       "    </tr>\n",
       "    <tr>\n",
       "      <th>2</th>\n",
       "      <td>69706</td>\n",
       "      <td>expected_years_of_schooling</td>\n",
       "      <td>14.389470</td>\n",
       "      <td>2017</td>\n",
       "      <td>2</td>\n",
       "    </tr>\n",
       "    <tr>\n",
       "      <th>3</th>\n",
       "      <td>103006</td>\n",
       "      <td>mean_years_of_schooling</td>\n",
       "      <td>8.400000</td>\n",
       "      <td>2017</td>\n",
       "      <td>6</td>\n",
       "    </tr>\n",
       "    <tr>\n",
       "      <th>4</th>\n",
       "      <td>103706</td>\n",
       "      <td>education_index</td>\n",
       "      <td>0.679708</td>\n",
       "      <td>2017</td>\n",
       "      <td>10</td>\n",
       "    </tr>\n",
       "    <tr>\n",
       "      <th>...</th>\n",
       "      <td>...</td>\n",
       "      <td>...</td>\n",
       "      <td>...</td>\n",
       "      <td>...</td>\n",
       "      <td>...</td>\n",
       "    </tr>\n",
       "    <tr>\n",
       "      <th>160</th>\n",
       "      <td>69206</td>\n",
       "      <td>life_expectancy_at_birth</td>\n",
       "      <td>67.314000</td>\n",
       "      <td>1990</td>\n",
       "      <td>1</td>\n",
       "    </tr>\n",
       "    <tr>\n",
       "      <th>161</th>\n",
       "      <td>69706</td>\n",
       "      <td>expected_years_of_schooling</td>\n",
       "      <td>12.717320</td>\n",
       "      <td>1990</td>\n",
       "      <td>2</td>\n",
       "    </tr>\n",
       "    <tr>\n",
       "      <th>162</th>\n",
       "      <td>136706</td>\n",
       "      <td>gdp_per_capita</td>\n",
       "      <td>14326.225240</td>\n",
       "      <td>1990</td>\n",
       "      <td>3</td>\n",
       "    </tr>\n",
       "    <tr>\n",
       "      <th>163</th>\n",
       "      <td>141706</td>\n",
       "      <td>gross_national_income_per_capita</td>\n",
       "      <td>13992.051630</td>\n",
       "      <td>1990</td>\n",
       "      <td>5</td>\n",
       "    </tr>\n",
       "    <tr>\n",
       "      <th>164</th>\n",
       "      <td>181706</td>\n",
       "      <td>rural_population_access_electricity</td>\n",
       "      <td>82.082064</td>\n",
       "      <td>1990</td>\n",
       "      <td>7</td>\n",
       "    </tr>\n",
       "  </tbody>\n",
       "</table>\n",
       "<p>165 rows × 5 columns</p>\n",
       "</div>"
      ],
      "text/plain": [
       "     human_indicator_code                 human_indicator_name  \\\n",
       "0                   31706      share_seats_women_in_parliament   \n",
       "1                   69206             life_expectancy_at_birth   \n",
       "2                   69706          expected_years_of_schooling   \n",
       "3                  103006              mean_years_of_schooling   \n",
       "4                  103706                      education_index   \n",
       "..                    ...                                  ...   \n",
       "160                 69206             life_expectancy_at_birth   \n",
       "161                 69706          expected_years_of_schooling   \n",
       "162                136706                       gdp_per_capita   \n",
       "163                141706     gross_national_income_per_capita   \n",
       "164                181706  rural_population_access_electricity   \n",
       "\n",
       "     human_indicator_value  year  human_indicators_nameR  \n",
       "0                13.333333  2017                       8  \n",
       "1                74.372000  2017                       1  \n",
       "2                14.389470  2017                       2  \n",
       "3                 8.400000  2017                       6  \n",
       "4                 0.679708  2017                      10  \n",
       "..                     ...   ...                     ...  \n",
       "160              67.314000  1990                       1  \n",
       "161              12.717320  1990                       2  \n",
       "162           14326.225240  1990                       3  \n",
       "163           13992.051630  1990                       5  \n",
       "164              82.082064  1990                       7  \n",
       "\n",
       "[165 rows x 5 columns]"
      ]
     },
     "execution_count": 729,
     "metadata": {},
     "output_type": "execute_result"
    }
   ],
   "source": [
    "human_indicators3.reset_index(drop=True)"
   ]
  },
  {
   "cell_type": "markdown",
   "id": "2923cb60",
   "metadata": {},
   "source": [
    "Testing For Assumptions\n",
    "\n",
    "\n",
    "Testing for assumptions is important when preparing to do linear regression because it helps to ensure that the results obtained from the regression analysis are reliable and accurate.\n",
    "\n",
    "There are several assumptions that must be met for regression analysis to produce valid results. Some of these assumptions include:\n",
    "\n",
    "Linearity: The relationship between the dependent and independent variables should be linear.\n",
    "\n",
    "Independence: The observations should be independent of each other.\n",
    "\n",
    "Homoscedasticity: The variance of the residuals should be constant for all levels of the independent variables.\n",
    "\n",
    "Normality: The residuals should be normally distributed.\n",
    "\n",
    "No multicollinearity: The independent variables should not be highly correlated with each other.\n",
    "\n",
    "By testing for these assumptions, it is possible to identify any potential issues with the data and make necessary adjustments before conducting the regression analysis. This helps to improve the accuracy and reliability of the results and provides more meaningful insights into the relationship between the variables being studied."
   ]
  },
  {
   "cell_type": "markdown",
   "id": "cfabb2c9",
   "metadata": {},
   "source": [
    "Check For Linearity\n",
    "\n",
    "Checking for linearity is important because simple linear regression assumes that there is a linear relationship between the independent variable (time) and the dependent variable (human development index). If the relationship between the two variables is non-linear, the results of the regression analysis may not be meaningful or accurate.\n",
    "\n",
    "In general, if the relationship between the variables is non-linear, it may be necessary to transform one or both of the variables to make the relationship linear. This could involve transforming the variables using techniques such as logarithmic transformation or polynomial transformation.\n",
    "Checking for linearity is an important step in the regression analysis process, as it helps ensure that the results of the analysis are meaningful and accurate.\n"
   ]
  },
  {
   "cell_type": "code",
   "execution_count": 730,
   "id": "337c9159",
   "metadata": {},
   "outputs": [],
   "source": [
    "from pylab import *\n",
    "%matplotlib inline\n",
    "import  statsmodels.api as sm\n",
    "import statsmodels.stats.api as sms\n",
    "from scipy.stats import boxcox"
   ]
  },
  {
   "cell_type": "code",
   "execution_count": 731,
   "id": "85a735bc",
   "metadata": {},
   "outputs": [
    {
     "data": {
      "text/html": [
       "<div>\n",
       "<style scoped>\n",
       "    .dataframe tbody tr th:only-of-type {\n",
       "        vertical-align: middle;\n",
       "    }\n",
       "\n",
       "    .dataframe tbody tr th {\n",
       "        vertical-align: top;\n",
       "    }\n",
       "\n",
       "    .dataframe thead th {\n",
       "        text-align: right;\n",
       "    }\n",
       "</style>\n",
       "<table border=\"1\" class=\"dataframe\">\n",
       "  <thead>\n",
       "    <tr style=\"text-align: right;\">\n",
       "      <th></th>\n",
       "      <th>human_indicator_code</th>\n",
       "      <th>human_indicator_name</th>\n",
       "      <th>human_indicator_value</th>\n",
       "      <th>year</th>\n",
       "      <th>human_indicators_nameR</th>\n",
       "    </tr>\n",
       "  </thead>\n",
       "  <tbody>\n",
       "    <tr>\n",
       "      <th>1</th>\n",
       "      <td>31706</td>\n",
       "      <td>share_seats_women_in_parliament</td>\n",
       "      <td>13.333333</td>\n",
       "      <td>2017</td>\n",
       "      <td>8</td>\n",
       "    </tr>\n",
       "    <tr>\n",
       "      <th>7</th>\n",
       "      <td>69206</td>\n",
       "      <td>life_expectancy_at_birth</td>\n",
       "      <td>74.372000</td>\n",
       "      <td>2017</td>\n",
       "      <td>1</td>\n",
       "    </tr>\n",
       "    <tr>\n",
       "      <th>8</th>\n",
       "      <td>69706</td>\n",
       "      <td>expected_years_of_schooling</td>\n",
       "      <td>14.389470</td>\n",
       "      <td>2017</td>\n",
       "      <td>2</td>\n",
       "    </tr>\n",
       "    <tr>\n",
       "      <th>9</th>\n",
       "      <td>103006</td>\n",
       "      <td>mean_years_of_schooling</td>\n",
       "      <td>8.400000</td>\n",
       "      <td>2017</td>\n",
       "      <td>6</td>\n",
       "    </tr>\n",
       "    <tr>\n",
       "      <th>12</th>\n",
       "      <td>103706</td>\n",
       "      <td>education_index</td>\n",
       "      <td>0.679708</td>\n",
       "      <td>2017</td>\n",
       "      <td>10</td>\n",
       "    </tr>\n",
       "  </tbody>\n",
       "</table>\n",
       "</div>"
      ],
      "text/plain": [
       "    human_indicator_code             human_indicator_name  \\\n",
       "1                  31706  share_seats_women_in_parliament   \n",
       "7                  69206         life_expectancy_at_birth   \n",
       "8                  69706      expected_years_of_schooling   \n",
       "9                 103006          mean_years_of_schooling   \n",
       "12                103706                  education_index   \n",
       "\n",
       "    human_indicator_value  year  human_indicators_nameR  \n",
       "1               13.333333  2017                       8  \n",
       "7               74.372000  2017                       1  \n",
       "8               14.389470  2017                       2  \n",
       "9                8.400000  2017                       6  \n",
       "12               0.679708  2017                      10  "
      ]
     },
     "execution_count": 731,
     "metadata": {},
     "output_type": "execute_result"
    }
   ],
   "source": [
    "human_indicators3.head()"
   ]
  },
  {
   "cell_type": "markdown",
   "id": "1a8cd773",
   "metadata": {},
   "source": [
    "Extract the independent variables and dependent variable\n"
   ]
  },
  {
   "cell_type": "code",
   "execution_count": 732,
   "id": "e1de69a8",
   "metadata": {},
   "outputs": [],
   "source": [
    "X = pd.get_dummies(human_indicators3['human_indicators_nameR'])\n",
    "y = human_indicators3['human_indicator_value']"
   ]
  },
  {
   "cell_type": "code",
   "execution_count": 733,
   "id": "3d56e48c",
   "metadata": {},
   "outputs": [],
   "source": [
    "import statsmodels.formula.api as smf\n",
    "import statsmodels.stats.diagnostic as smd"
   ]
  },
  {
   "cell_type": "code",
   "execution_count": 734,
   "id": "33c47d2b",
   "metadata": {},
   "outputs": [
    {
     "name": "stdout",
     "output_type": "stream",
     "text": [
      "Int64Index([1, 2, 3, 4, 5, 6, 7, 8, 9, 10], dtype='int64')\n"
     ]
    }
   ],
   "source": [
    "print(X.columns)"
   ]
  },
  {
   "cell_type": "markdown",
   "id": "f2eeca90",
   "metadata": {},
   "source": [
    "Check for missing data"
   ]
  },
  {
   "cell_type": "code",
   "execution_count": 735,
   "id": "75474616",
   "metadata": {},
   "outputs": [],
   "source": [
    "missing_data = human_indicators3.isna()"
   ]
  },
  {
   "cell_type": "code",
   "execution_count": 736,
   "id": "376d7072",
   "metadata": {},
   "outputs": [
    {
     "name": "stdout",
     "output_type": "stream",
     "text": [
      "Missing data:\n",
      "      human_indicator_code  human_indicator_name  human_indicator_value   year  \\\n",
      "1                   False                 False                  False  False   \n",
      "7                   False                 False                  False  False   \n",
      "8                   False                 False                  False  False   \n",
      "9                   False                 False                  False  False   \n",
      "12                  False                 False                  False  False   \n",
      "..                    ...                   ...                    ...    ...   \n",
      "519                 False                 False                  False  False   \n",
      "520                 False                 False                  False  False   \n",
      "530                 False                 False                  False  False   \n",
      "531                 False                 False                  False  False   \n",
      "537                 False                 False                  False  False   \n",
      "\n",
      "     human_indicators_nameR  \n",
      "1                     False  \n",
      "7                     False  \n",
      "8                     False  \n",
      "9                     False  \n",
      "12                    False  \n",
      "..                      ...  \n",
      "519                   False  \n",
      "520                   False  \n",
      "530                   False  \n",
      "531                   False  \n",
      "537                   False  \n",
      "\n",
      "[165 rows x 5 columns]\n"
     ]
    }
   ],
   "source": [
    "print(\"Missing data:\\n\", missing_data)"
   ]
  },
  {
   "cell_type": "markdown",
   "id": "9448edbb",
   "metadata": {},
   "source": [
    "Count the number of missing values in each column"
   ]
  },
  {
   "cell_type": "code",
   "execution_count": 737,
   "id": "e6591e12",
   "metadata": {},
   "outputs": [],
   "source": [
    "num_missing = missing_data.sum()"
   ]
  },
  {
   "cell_type": "code",
   "execution_count": 738,
   "id": "f9181fce",
   "metadata": {},
   "outputs": [
    {
     "name": "stdout",
     "output_type": "stream",
     "text": [
      "Number of missing values:\n",
      " human_indicator_code      0\n",
      "human_indicator_name      0\n",
      "human_indicator_value     0\n",
      "year                      0\n",
      "human_indicators_nameR    0\n",
      "dtype: int64\n"
     ]
    }
   ],
   "source": [
    "print(\"Number of missing values:\\n\", num_missing)"
   ]
  },
  {
   "cell_type": "markdown",
   "id": "8bd84e66",
   "metadata": {},
   "source": [
    "Split the data into training and testing sets\n"
   ]
  },
  {
   "cell_type": "code",
   "execution_count": 739,
   "id": "b2bcacc9",
   "metadata": {},
   "outputs": [],
   "source": [
    "X_train, X_test, y_train, y_test = train_test_split(X, y, test_size=0.2, random_state=0)"
   ]
  },
  {
   "cell_type": "markdown",
   "id": "f19e0c20",
   "metadata": {},
   "source": [
    "Fit a linear regression model to the training data\n"
   ]
  },
  {
   "cell_type": "code",
   "execution_count": 740,
   "id": "41059c2f",
   "metadata": {},
   "outputs": [
    {
     "data": {
      "text/html": [
       "<style>#sk-container-id-8 {color: black;background-color: white;}#sk-container-id-8 pre{padding: 0;}#sk-container-id-8 div.sk-toggleable {background-color: white;}#sk-container-id-8 label.sk-toggleable__label {cursor: pointer;display: block;width: 100%;margin-bottom: 0;padding: 0.3em;box-sizing: border-box;text-align: center;}#sk-container-id-8 label.sk-toggleable__label-arrow:before {content: \"▸\";float: left;margin-right: 0.25em;color: #696969;}#sk-container-id-8 label.sk-toggleable__label-arrow:hover:before {color: black;}#sk-container-id-8 div.sk-estimator:hover label.sk-toggleable__label-arrow:before {color: black;}#sk-container-id-8 div.sk-toggleable__content {max-height: 0;max-width: 0;overflow: hidden;text-align: left;background-color: #f0f8ff;}#sk-container-id-8 div.sk-toggleable__content pre {margin: 0.2em;color: black;border-radius: 0.25em;background-color: #f0f8ff;}#sk-container-id-8 input.sk-toggleable__control:checked~div.sk-toggleable__content {max-height: 200px;max-width: 100%;overflow: auto;}#sk-container-id-8 input.sk-toggleable__control:checked~label.sk-toggleable__label-arrow:before {content: \"▾\";}#sk-container-id-8 div.sk-estimator input.sk-toggleable__control:checked~label.sk-toggleable__label {background-color: #d4ebff;}#sk-container-id-8 div.sk-label input.sk-toggleable__control:checked~label.sk-toggleable__label {background-color: #d4ebff;}#sk-container-id-8 input.sk-hidden--visually {border: 0;clip: rect(1px 1px 1px 1px);clip: rect(1px, 1px, 1px, 1px);height: 1px;margin: -1px;overflow: hidden;padding: 0;position: absolute;width: 1px;}#sk-container-id-8 div.sk-estimator {font-family: monospace;background-color: #f0f8ff;border: 1px dotted black;border-radius: 0.25em;box-sizing: border-box;margin-bottom: 0.5em;}#sk-container-id-8 div.sk-estimator:hover {background-color: #d4ebff;}#sk-container-id-8 div.sk-parallel-item::after {content: \"\";width: 100%;border-bottom: 1px solid gray;flex-grow: 1;}#sk-container-id-8 div.sk-label:hover label.sk-toggleable__label {background-color: #d4ebff;}#sk-container-id-8 div.sk-serial::before {content: \"\";position: absolute;border-left: 1px solid gray;box-sizing: border-box;top: 0;bottom: 0;left: 50%;z-index: 0;}#sk-container-id-8 div.sk-serial {display: flex;flex-direction: column;align-items: center;background-color: white;padding-right: 0.2em;padding-left: 0.2em;position: relative;}#sk-container-id-8 div.sk-item {position: relative;z-index: 1;}#sk-container-id-8 div.sk-parallel {display: flex;align-items: stretch;justify-content: center;background-color: white;position: relative;}#sk-container-id-8 div.sk-item::before, #sk-container-id-8 div.sk-parallel-item::before {content: \"\";position: absolute;border-left: 1px solid gray;box-sizing: border-box;top: 0;bottom: 0;left: 50%;z-index: -1;}#sk-container-id-8 div.sk-parallel-item {display: flex;flex-direction: column;z-index: 1;position: relative;background-color: white;}#sk-container-id-8 div.sk-parallel-item:first-child::after {align-self: flex-end;width: 50%;}#sk-container-id-8 div.sk-parallel-item:last-child::after {align-self: flex-start;width: 50%;}#sk-container-id-8 div.sk-parallel-item:only-child::after {width: 0;}#sk-container-id-8 div.sk-dashed-wrapped {border: 1px dashed gray;margin: 0 0.4em 0.5em 0.4em;box-sizing: border-box;padding-bottom: 0.4em;background-color: white;}#sk-container-id-8 div.sk-label label {font-family: monospace;font-weight: bold;display: inline-block;line-height: 1.2em;}#sk-container-id-8 div.sk-label-container {text-align: center;}#sk-container-id-8 div.sk-container {/* jupyter's `normalize.less` sets `[hidden] { display: none; }` but bootstrap.min.css set `[hidden] { display: none !important; }` so we also need the `!important` here to be able to override the default hidden behavior on the sphinx rendered scikit-learn.org. See: https://github.com/scikit-learn/scikit-learn/issues/21755 */display: inline-block !important;position: relative;}#sk-container-id-8 div.sk-text-repr-fallback {display: none;}</style><div id=\"sk-container-id-8\" class=\"sk-top-container\"><div class=\"sk-text-repr-fallback\"><pre>LinearRegression()</pre><b>In a Jupyter environment, please rerun this cell to show the HTML representation or trust the notebook. <br />On GitHub, the HTML representation is unable to render, please try loading this page with nbviewer.org.</b></div><div class=\"sk-container\" hidden><div class=\"sk-item\"><div class=\"sk-estimator sk-toggleable\"><input class=\"sk-toggleable__control sk-hidden--visually\" id=\"sk-estimator-id-8\" type=\"checkbox\" checked><label for=\"sk-estimator-id-8\" class=\"sk-toggleable__label sk-toggleable__label-arrow\">LinearRegression</label><div class=\"sk-toggleable__content\"><pre>LinearRegression()</pre></div></div></div></div></div>"
      ],
      "text/plain": [
       "LinearRegression()"
      ]
     },
     "execution_count": 740,
     "metadata": {},
     "output_type": "execute_result"
    }
   ],
   "source": [
    "model = LinearRegression()\n",
    "model.fit(X_train, y_train)"
   ]
  },
  {
   "cell_type": "markdown",
   "id": "1f214bc8",
   "metadata": {},
   "source": [
    "Evaluate the model on the test data"
   ]
  },
  {
   "cell_type": "code",
   "execution_count": 741,
   "id": "4de8bd44",
   "metadata": {},
   "outputs": [],
   "source": [
    "score = model.score(X_test, y_test)"
   ]
  },
  {
   "cell_type": "code",
   "execution_count": 742,
   "id": "8adf5141",
   "metadata": {},
   "outputs": [
    {
     "name": "stdout",
     "output_type": "stream",
     "text": [
      "R-squared score: 0.97\n"
     ]
    }
   ],
   "source": [
    "print(\"R-squared score: {:.2f}\".format(score))"
   ]
  },
  {
   "cell_type": "markdown",
   "id": "6c85744a",
   "metadata": {},
   "source": [
    "Generate scatter plots of each independent variable against the dependent variable"
   ]
  },
  {
   "cell_type": "code",
   "execution_count": 743,
   "id": "d3571548",
   "metadata": {},
   "outputs": [],
   "source": [
    "columns = human_indicators3['human_indicators_nameR'].unique()"
   ]
  },
  {
   "cell_type": "code",
   "execution_count": 744,
   "id": "0aaaecb4",
   "metadata": {},
   "outputs": [
    {
     "data": {
      "image/png": "[encoded data removed]",
      "text/plain": [
       "<Figure size 640x480 with 1 Axes>"
      ]
     },
     "metadata": {},
     "output_type": "display_data"
    },
    {
     "data": {
      "image/png": "[encoded data removed]",
      "text/plain": [
       "<Figure size 640x480 with 1 Axes>"
      ]
     },
     "metadata": {},
     "output_type": "display_data"
    },
    {
     "data": {
      "image/png": "[encoded data removed]",
      "text/plain": [
       "<Figure size 640x480 with 1 Axes>"
      ]
     },
     "metadata": {},
     "output_type": "display_data"
    },
    {
     "data": {
      "image/png": "[encoded data removed]",
      "text/plain": [
       "<Figure size 640x480 with 1 Axes>"
      ]
     },
     "metadata": {},
     "output_type": "display_data"
    },
    {
     "data": {
      "image/png": "[encoded data removed]",
      "text/plain": [
       "<Figure size 640x480 with 1 Axes>"
      ]
     },
     "metadata": {},
     "output_type": "display_data"
    },
    {
     "data": {
      "image/png": "[encoded data removed]",
      "text/plain": [
       "<Figure size 640x480 with 1 Axes>"
      ]
     },
     "metadata": {},
     "output_type": "display_data"
    },
    {
     "data": {
      "image/png": "[encoded data removed]",
      "text/plain": [
       "<Figure size 640x480 with 1 Axes>"
      ]
     },
     "metadata": {},
     "output_type": "display_data"
    },
    {
     "data": {
      "image/png": "[encoded data removed]",
      "text/plain": [
       "<Figure size 640x480 with 1 Axes>"
      ]
     },
     "metadata": {},
     "output_type": "display_data"
    },
    {
     "data": {
      "image/png": "[encoded data removed]",
      "text/plain": [
       "<Figure size 640x480 with 1 Axes>"
      ]
     },
     "metadata": {},
     "output_type": "display_data"
    },
    {
     "data": {
      "image/png": "[encoded data removed]",
      "text/plain": [
       "<Figure size 640x480 with 1 Axes>"
      ]
     },
     "metadata": {},
     "output_type": "display_data"
    }
   ],
   "source": [
    "for col in columns:\n",
    "    x = human_indicators3[human_indicators3['human_indicators_nameR'] == col]['human_indicator_value']\n",
    "    y = human_indicators3[human_indicators3['human_indicators_nameR'] == col]['human_indicator_value']\n",
    "    plt.scatter(y, x)\n",
    "    plt.xlabel(col)\n",
    "    plt.ylabel('human_indicator_value')\n",
    "    plt.show()"
   ]
  },
  {
   "cell_type": "markdown",
   "id": "a679a2c3",
   "metadata": {},
   "source": [
    "Testing for Multicollinearity"
   ]
  },
  {
   "cell_type": "code",
   "execution_count": 746,
   "id": "abff9a1c",
   "metadata": {},
   "outputs": [
    {
     "name": "stderr",
     "output_type": "stream",
     "text": [
      "C:\\Users\\admin\\AppData\\Local\\Temp\\ipykernel_19596\\2480912489.py:1: FutureWarning: The default value of numeric_only in DataFrame.corr is deprecated. In a future version, it will default to False. Select only valid columns or specify the value of numeric_only to silence this warning.\n",
      "  corr_matrix = human_indicators3.corr()\n"
     ]
    }
   ],
   "source": [
    "corr_matrix = human_indicators3.corr()"
   ]
  },
  {
   "cell_type": "markdown",
   "id": "185da204",
   "metadata": {},
   "source": [
    "Display the correlation matrix"
   ]
  },
  {
   "cell_type": "code",
   "execution_count": 747,
   "id": "312e7d54",
   "metadata": {},
   "outputs": [
    {
     "name": "stdout",
     "output_type": "stream",
     "text": [
      "                        human_indicator_code  human_indicator_value      year  \\\n",
      "human_indicator_code                1.000000               0.433153  0.098566   \n",
      "human_indicator_value               0.433153               1.000000 -0.021075   \n",
      "year                                0.098566              -0.021075  1.000000   \n",
      "human_indicators_nameR              0.347096              -0.045197  0.276919   \n",
      "\n",
      "                        human_indicators_nameR  \n",
      "human_indicator_code                  0.347096  \n",
      "human_indicator_value                -0.045197  \n",
      "year                                  0.276919  \n",
      "human_indicators_nameR                1.000000  \n"
     ]
    }
   ],
   "source": [
    "print(corr_matrix)"
   ]
  },
  {
   "cell_type": "markdown",
   "id": "6925ec89",
   "metadata": {},
   "source": [
    "produce heatmap"
   ]
  },
  {
   "cell_type": "code",
   "execution_count": 748,
   "id": "275ce1c5",
   "metadata": {},
   "outputs": [
    {
     "name": "stderr",
     "output_type": "stream",
     "text": [
      "C:\\Users\\admin\\AppData\\Local\\Temp\\ipykernel_19596\\257090627.py:1: FutureWarning: The default value of numeric_only in DataFrame.corr is deprecated. In a future version, it will default to False. Select only valid columns or specify the value of numeric_only to silence this warning.\n",
      "  sns.heatmap(human_indicators3.corr(), annot=True)\n"
     ]
    },
    {
     "data": {
      "text/plain": [
       "<AxesSubplot: >"
      ]
     },
     "execution_count": 748,
     "metadata": {},
     "output_type": "execute_result"
    },
    {
     "data": {
      "image/png": "[encoded data removed]",
      "text/plain": [
       "<Figure size 640x480 with 2 Axes>"
      ]
     },
     "metadata": {},
     "output_type": "display_data"
    }
   ],
   "source": [
    "sns.heatmap(human_indicators3.corr(), annot=True)"
   ]
  },
  {
   "cell_type": "markdown",
   "id": "594ac737",
   "metadata": {},
   "source": [
    "The Varance inflation factor VIF was calculated. A VIF value of 1 indicates that there is no multicollinearity, while a VIF value greater than 1 indicates increasing levels of multicollinearity. A VIF value of 5 or higher is generally considered to be a high level of multicollinearity. If there are any of the VIF values that are high, the varaible may need to be removed or find a way to reduce its correlation with the other variables. However, this is not the case as all values are one or lower."
   ]
  },
  {
   "cell_type": "markdown",
   "id": "cca5decd",
   "metadata": {},
   "source": [
    "Screening for Outliers"
   ]
  },
  {
   "cell_type": "markdown",
   "id": "01584bae",
   "metadata": {},
   "source": [
    "Extract the variable names from the independent variable column"
   ]
  },
  {
   "cell_type": "code",
   "execution_count": 632,
   "id": "7a2fc69f",
   "metadata": {},
   "outputs": [],
   "source": [
    "variable_names = list(set(human_indicators3['human_indicators_nameR'].str.split('_', expand=True)[0]))"
   ]
  },
  {
   "cell_type": "markdown",
   "id": "a74549f1",
   "metadata": {},
   "source": [
    "Split the independent variable column into separate columns"
   ]
  },
  {
   "cell_type": "code",
   "execution_count": 633,
   "id": "98c6a0da",
   "metadata": {},
   "outputs": [],
   "source": [
    "variable_names = list(set(human_indicators3['human_indicators_nameR'].str.split('_', expand=True)[0]))"
   ]
  },
  {
   "cell_type": "markdown",
   "id": "4d6ca21a",
   "metadata": {},
   "source": [
    "Create a boxplot for each independent variable"
   ]
  },
  {
   "cell_type": "code",
   "execution_count": 634,
   "id": "a3fa8735",
   "metadata": {},
   "outputs": [
    {
     "data": {
      "image/png": "[encoded data removed]",
      "text/plain": [
       "<Figure size 640x480 with 1 Axes>"
      ]
     },
     "metadata": {},
     "output_type": "display_data"
    }
   ],
   "source": [
    "for column in X.columns:\n",
    "    sns.boxplot(x=X[column])"
   ]
  },
  {
   "cell_type": "code",
   "execution_count": 641,
   "id": "207998d2",
   "metadata": {},
   "outputs": [
    {
     "data": {
      "image/png": "[encoded data removed]",
      "text/plain": [
       "<Figure size 1200x800 with 1 Axes>"
      ]
     },
     "metadata": {},
     "output_type": "display_data"
    }
   ],
   "source": [
    "fig, ax = plt.subplots(figsize=(12,8))\n",
    "X.boxplot(ax=ax)\n",
    "ax.set_title('Boxplot of Independent Variables')\n",
    "ax.set_xlabel('Independent Variables')\n",
    "ax.set_ylabel('Values')\n",
    "plt.show()"
   ]
  },
  {
   "cell_type": "markdown",
   "id": "0c722797",
   "metadata": {},
   "source": [
    "Breusch Pagan Test"
   ]
  },
  {
   "cell_type": "code",
   "execution_count": 749,
   "id": "583c9f0d",
   "metadata": {},
   "outputs": [],
   "source": [
    "import statsmodels.stats.api as sms"
   ]
  },
  {
   "cell_type": "code",
   "execution_count": 755,
   "id": "3c682a4e",
   "metadata": {},
   "outputs": [
    {
     "ename": "ValueError",
     "evalue": "The indices for endog and exog are not aligned",
     "output_type": "error",
     "traceback": [
      "\u001b[1;31m---------------------------------------------------------------------------\u001b[0m",
      "\u001b[1;31mValueError\u001b[0m                                Traceback (most recent call last)",
      "Cell \u001b[1;32mIn [755], line 1\u001b[0m\n\u001b[1;32m----> 1\u001b[0m model \u001b[38;5;241m=\u001b[39m \u001b[43msm\u001b[49m\u001b[38;5;241;43m.\u001b[39;49m\u001b[43mOLS\u001b[49m\u001b[43m(\u001b[49m\u001b[43my\u001b[49m\u001b[43m,\u001b[49m\u001b[43mX\u001b[49m\u001b[43m)\u001b[49m\u001b[38;5;241m.\u001b[39mfit()\n",
      "File \u001b[1;32mC:\\Python3\\lib\\site-packages\\statsmodels\\regression\\linear_model.py:906\u001b[0m, in \u001b[0;36mOLS.__init__\u001b[1;34m(self, endog, exog, missing, hasconst, **kwargs)\u001b[0m\n\u001b[0;32m    903\u001b[0m     msg \u001b[38;5;241m=\u001b[39m (\u001b[38;5;124m\"\u001b[39m\u001b[38;5;124mWeights are not supported in OLS and will be ignored\u001b[39m\u001b[38;5;124m\"\u001b[39m\n\u001b[0;32m    904\u001b[0m            \u001b[38;5;124m\"\u001b[39m\u001b[38;5;124mAn exception will be raised in the next version.\u001b[39m\u001b[38;5;124m\"\u001b[39m)\n\u001b[0;32m    905\u001b[0m     warnings\u001b[38;5;241m.\u001b[39mwarn(msg, ValueWarning)\n\u001b[1;32m--> 906\u001b[0m \u001b[38;5;28msuper\u001b[39m(OLS, \u001b[38;5;28mself\u001b[39m)\u001b[38;5;241m.\u001b[39m\u001b[38;5;21m__init__\u001b[39m(endog, exog, missing\u001b[38;5;241m=\u001b[39mmissing,\n\u001b[0;32m    907\u001b[0m                           hasconst\u001b[38;5;241m=\u001b[39mhasconst, \u001b[38;5;241m*\u001b[39m\u001b[38;5;241m*\u001b[39mkwargs)\n\u001b[0;32m    908\u001b[0m \u001b[38;5;28;01mif\u001b[39;00m \u001b[38;5;124m\"\u001b[39m\u001b[38;5;124mweights\u001b[39m\u001b[38;5;124m\"\u001b[39m \u001b[38;5;129;01min\u001b[39;00m \u001b[38;5;28mself\u001b[39m\u001b[38;5;241m.\u001b[39m_init_keys:\n\u001b[0;32m    909\u001b[0m     \u001b[38;5;28mself\u001b[39m\u001b[38;5;241m.\u001b[39m_init_keys\u001b[38;5;241m.\u001b[39mremove(\u001b[38;5;124m\"\u001b[39m\u001b[38;5;124mweights\u001b[39m\u001b[38;5;124m\"\u001b[39m)\n",
      "File \u001b[1;32mC:\\Python3\\lib\\site-packages\\statsmodels\\regression\\linear_model.py:733\u001b[0m, in \u001b[0;36mWLS.__init__\u001b[1;34m(self, endog, exog, weights, missing, hasconst, **kwargs)\u001b[0m\n\u001b[0;32m    731\u001b[0m \u001b[38;5;28;01melse\u001b[39;00m:\n\u001b[0;32m    732\u001b[0m     weights \u001b[38;5;241m=\u001b[39m weights\u001b[38;5;241m.\u001b[39msqueeze()\n\u001b[1;32m--> 733\u001b[0m \u001b[38;5;28msuper\u001b[39m(WLS, \u001b[38;5;28mself\u001b[39m)\u001b[38;5;241m.\u001b[39m\u001b[38;5;21m__init__\u001b[39m(endog, exog, missing\u001b[38;5;241m=\u001b[39mmissing,\n\u001b[0;32m    734\u001b[0m                           weights\u001b[38;5;241m=\u001b[39mweights, hasconst\u001b[38;5;241m=\u001b[39mhasconst, \u001b[38;5;241m*\u001b[39m\u001b[38;5;241m*\u001b[39mkwargs)\n\u001b[0;32m    735\u001b[0m nobs \u001b[38;5;241m=\u001b[39m \u001b[38;5;28mself\u001b[39m\u001b[38;5;241m.\u001b[39mexog\u001b[38;5;241m.\u001b[39mshape[\u001b[38;5;241m0\u001b[39m]\n\u001b[0;32m    736\u001b[0m weights \u001b[38;5;241m=\u001b[39m \u001b[38;5;28mself\u001b[39m\u001b[38;5;241m.\u001b[39mweights\n",
      "File \u001b[1;32mC:\\Python3\\lib\\site-packages\\statsmodels\\regression\\linear_model.py:190\u001b[0m, in \u001b[0;36mRegressionModel.__init__\u001b[1;34m(self, endog, exog, **kwargs)\u001b[0m\n\u001b[0;32m    189\u001b[0m \u001b[38;5;28;01mdef\u001b[39;00m \u001b[38;5;21m__init__\u001b[39m(\u001b[38;5;28mself\u001b[39m, endog, exog, \u001b[38;5;241m*\u001b[39m\u001b[38;5;241m*\u001b[39mkwargs):\n\u001b[1;32m--> 190\u001b[0m     \u001b[38;5;28msuper\u001b[39m(RegressionModel, \u001b[38;5;28mself\u001b[39m)\u001b[38;5;241m.\u001b[39m\u001b[38;5;21m__init__\u001b[39m(endog, exog, \u001b[38;5;241m*\u001b[39m\u001b[38;5;241m*\u001b[39mkwargs)\n\u001b[0;32m    191\u001b[0m     \u001b[38;5;28mself\u001b[39m\u001b[38;5;241m.\u001b[39m_data_attr\u001b[38;5;241m.\u001b[39mextend([\u001b[38;5;124m'\u001b[39m\u001b[38;5;124mpinv_wexog\u001b[39m\u001b[38;5;124m'\u001b[39m, \u001b[38;5;124m'\u001b[39m\u001b[38;5;124mwendog\u001b[39m\u001b[38;5;124m'\u001b[39m, \u001b[38;5;124m'\u001b[39m\u001b[38;5;124mwexog\u001b[39m\u001b[38;5;124m'\u001b[39m, \u001b[38;5;124m'\u001b[39m\u001b[38;5;124mweights\u001b[39m\u001b[38;5;124m'\u001b[39m])\n",
      "File \u001b[1;32mC:\\Python3\\lib\\site-packages\\statsmodels\\base\\model.py:267\u001b[0m, in \u001b[0;36mLikelihoodModel.__init__\u001b[1;34m(self, endog, exog, **kwargs)\u001b[0m\n\u001b[0;32m    266\u001b[0m \u001b[38;5;28;01mdef\u001b[39;00m \u001b[38;5;21m__init__\u001b[39m(\u001b[38;5;28mself\u001b[39m, endog, exog\u001b[38;5;241m=\u001b[39m\u001b[38;5;28;01mNone\u001b[39;00m, \u001b[38;5;241m*\u001b[39m\u001b[38;5;241m*\u001b[39mkwargs):\n\u001b[1;32m--> 267\u001b[0m     \u001b[38;5;28msuper\u001b[39m()\u001b[38;5;241m.\u001b[39m\u001b[38;5;21m__init__\u001b[39m(endog, exog, \u001b[38;5;241m*\u001b[39m\u001b[38;5;241m*\u001b[39mkwargs)\n\u001b[0;32m    268\u001b[0m     \u001b[38;5;28mself\u001b[39m\u001b[38;5;241m.\u001b[39minitialize()\n",
      "File \u001b[1;32mC:\\Python3\\lib\\site-packages\\statsmodels\\base\\model.py:92\u001b[0m, in \u001b[0;36mModel.__init__\u001b[1;34m(self, endog, exog, **kwargs)\u001b[0m\n\u001b[0;32m     90\u001b[0m missing \u001b[38;5;241m=\u001b[39m kwargs\u001b[38;5;241m.\u001b[39mpop(\u001b[38;5;124m'\u001b[39m\u001b[38;5;124mmissing\u001b[39m\u001b[38;5;124m'\u001b[39m, \u001b[38;5;124m'\u001b[39m\u001b[38;5;124mnone\u001b[39m\u001b[38;5;124m'\u001b[39m)\n\u001b[0;32m     91\u001b[0m hasconst \u001b[38;5;241m=\u001b[39m kwargs\u001b[38;5;241m.\u001b[39mpop(\u001b[38;5;124m'\u001b[39m\u001b[38;5;124mhasconst\u001b[39m\u001b[38;5;124m'\u001b[39m, \u001b[38;5;28;01mNone\u001b[39;00m)\n\u001b[1;32m---> 92\u001b[0m \u001b[38;5;28mself\u001b[39m\u001b[38;5;241m.\u001b[39mdata \u001b[38;5;241m=\u001b[39m \u001b[38;5;28mself\u001b[39m\u001b[38;5;241m.\u001b[39m_handle_data(endog, exog, missing, hasconst,\n\u001b[0;32m     93\u001b[0m                               \u001b[38;5;241m*\u001b[39m\u001b[38;5;241m*\u001b[39mkwargs)\n\u001b[0;32m     94\u001b[0m \u001b[38;5;28mself\u001b[39m\u001b[38;5;241m.\u001b[39mk_constant \u001b[38;5;241m=\u001b[39m \u001b[38;5;28mself\u001b[39m\u001b[38;5;241m.\u001b[39mdata\u001b[38;5;241m.\u001b[39mk_constant\n\u001b[0;32m     95\u001b[0m \u001b[38;5;28mself\u001b[39m\u001b[38;5;241m.\u001b[39mexog \u001b[38;5;241m=\u001b[39m \u001b[38;5;28mself\u001b[39m\u001b[38;5;241m.\u001b[39mdata\u001b[38;5;241m.\u001b[39mexog\n",
      "File \u001b[1;32mC:\\Python3\\lib\\site-packages\\statsmodels\\base\\model.py:132\u001b[0m, in \u001b[0;36mModel._handle_data\u001b[1;34m(self, endog, exog, missing, hasconst, **kwargs)\u001b[0m\n\u001b[0;32m    131\u001b[0m \u001b[38;5;28;01mdef\u001b[39;00m \u001b[38;5;21m_handle_data\u001b[39m(\u001b[38;5;28mself\u001b[39m, endog, exog, missing, hasconst, \u001b[38;5;241m*\u001b[39m\u001b[38;5;241m*\u001b[39mkwargs):\n\u001b[1;32m--> 132\u001b[0m     data \u001b[38;5;241m=\u001b[39m handle_data(endog, exog, missing, hasconst, \u001b[38;5;241m*\u001b[39m\u001b[38;5;241m*\u001b[39mkwargs)\n\u001b[0;32m    133\u001b[0m     \u001b[38;5;66;03m# kwargs arrays could have changed, easier to just attach here\u001b[39;00m\n\u001b[0;32m    134\u001b[0m     \u001b[38;5;28;01mfor\u001b[39;00m key \u001b[38;5;129;01min\u001b[39;00m kwargs:\n",
      "File \u001b[1;32mC:\\Python3\\lib\\site-packages\\statsmodels\\base\\data.py:700\u001b[0m, in \u001b[0;36mhandle_data\u001b[1;34m(endog, exog, missing, hasconst, **kwargs)\u001b[0m\n\u001b[0;32m    697\u001b[0m     exog \u001b[38;5;241m=\u001b[39m np\u001b[38;5;241m.\u001b[39masarray(exog)\n\u001b[0;32m    699\u001b[0m klass \u001b[38;5;241m=\u001b[39m handle_data_class_factory(endog, exog)\n\u001b[1;32m--> 700\u001b[0m \u001b[38;5;28;01mreturn\u001b[39;00m klass(endog, exog\u001b[38;5;241m=\u001b[39mexog, missing\u001b[38;5;241m=\u001b[39mmissing, hasconst\u001b[38;5;241m=\u001b[39mhasconst,\n\u001b[0;32m    701\u001b[0m              \u001b[38;5;241m*\u001b[39m\u001b[38;5;241m*\u001b[39mkwargs)\n",
      "File \u001b[1;32mC:\\Python3\\lib\\site-packages\\statsmodels\\base\\data.py:89\u001b[0m, in \u001b[0;36mModelData.__init__\u001b[1;34m(self, endog, exog, missing, hasconst, **kwargs)\u001b[0m\n\u001b[0;32m     87\u001b[0m \u001b[38;5;28mself\u001b[39m\u001b[38;5;241m.\u001b[39mk_constant \u001b[38;5;241m=\u001b[39m \u001b[38;5;241m0\u001b[39m\n\u001b[0;32m     88\u001b[0m \u001b[38;5;28mself\u001b[39m\u001b[38;5;241m.\u001b[39m_handle_constant(hasconst)\n\u001b[1;32m---> 89\u001b[0m \u001b[38;5;28;43mself\u001b[39;49m\u001b[38;5;241;43m.\u001b[39;49m\u001b[43m_check_integrity\u001b[49m\u001b[43m(\u001b[49m\u001b[43m)\u001b[49m\n\u001b[0;32m     90\u001b[0m \u001b[38;5;28mself\u001b[39m\u001b[38;5;241m.\u001b[39m_cache \u001b[38;5;241m=\u001b[39m {}\n",
      "File \u001b[1;32mC:\\Python3\\lib\\site-packages\\statsmodels\\base\\data.py:558\u001b[0m, in \u001b[0;36mPandasData._check_integrity\u001b[1;34m(self)\u001b[0m\n\u001b[0;32m    554\u001b[0m \u001b[38;5;66;03m# exog can be None and we could be upcasting one or the other\u001b[39;00m\n\u001b[0;32m    555\u001b[0m \u001b[38;5;28;01mif\u001b[39;00m (exog \u001b[38;5;129;01mis\u001b[39;00m \u001b[38;5;129;01mnot\u001b[39;00m \u001b[38;5;28;01mNone\u001b[39;00m \u001b[38;5;129;01mand\u001b[39;00m\n\u001b[0;32m    556\u001b[0m         (\u001b[38;5;28mhasattr\u001b[39m(endog, \u001b[38;5;124m'\u001b[39m\u001b[38;5;124mindex\u001b[39m\u001b[38;5;124m'\u001b[39m) \u001b[38;5;129;01mand\u001b[39;00m \u001b[38;5;28mhasattr\u001b[39m(exog, \u001b[38;5;124m'\u001b[39m\u001b[38;5;124mindex\u001b[39m\u001b[38;5;124m'\u001b[39m)) \u001b[38;5;129;01mand\u001b[39;00m\n\u001b[0;32m    557\u001b[0m         \u001b[38;5;129;01mnot\u001b[39;00m \u001b[38;5;28mself\u001b[39m\u001b[38;5;241m.\u001b[39morig_endog\u001b[38;5;241m.\u001b[39mindex\u001b[38;5;241m.\u001b[39mequals(\u001b[38;5;28mself\u001b[39m\u001b[38;5;241m.\u001b[39morig_exog\u001b[38;5;241m.\u001b[39mindex)):\n\u001b[1;32m--> 558\u001b[0m     \u001b[38;5;28;01mraise\u001b[39;00m \u001b[38;5;167;01mValueError\u001b[39;00m(\u001b[38;5;124m\"\u001b[39m\u001b[38;5;124mThe indices for endog and exog are not aligned\u001b[39m\u001b[38;5;124m\"\u001b[39m)\n\u001b[0;32m    559\u001b[0m \u001b[38;5;28msuper\u001b[39m(PandasData, \u001b[38;5;28mself\u001b[39m)\u001b[38;5;241m.\u001b[39m_check_integrity()\n",
      "\u001b[1;31mValueError\u001b[0m: The indices for endog and exog are not aligned"
     ]
    }
   ],
   "source": [
    "model = sm.OLS(y,X).fit()"
   ]
  },
  {
   "cell_type": "code",
   "execution_count": 753,
   "id": "cda7f31a",
   "metadata": {},
   "outputs": [
    {
     "ename": "ValueError",
     "evalue": "operands could not be broadcast together with shapes (165,) (7,) ",
     "output_type": "error",
     "traceback": [
      "\u001b[1;31m---------------------------------------------------------------------------\u001b[0m",
      "\u001b[1;31mValueError\u001b[0m                                Traceback (most recent call last)",
      "Cell \u001b[1;32mIn [753], line 3\u001b[0m\n\u001b[0;32m      1\u001b[0m pred_val \u001b[38;5;241m=\u001b[39m model\u001b[38;5;241m.\u001b[39mfittedvalues\u001b[38;5;241m.\u001b[39mcopy()\n\u001b[0;32m      2\u001b[0m true_val \u001b[38;5;241m=\u001b[39m human_indicators3[\u001b[38;5;124m'\u001b[39m\u001b[38;5;124mhuman_indicators_nameR\u001b[39m\u001b[38;5;124m'\u001b[39m]\u001b[38;5;241m.\u001b[39mvalues\u001b[38;5;241m.\u001b[39mcopy()\n\u001b[1;32m----> 3\u001b[0m residual \u001b[38;5;241m=\u001b[39m \u001b[43mtrue_val\u001b[49m\u001b[43m \u001b[49m\u001b[38;5;241;43m-\u001b[39;49m\u001b[43m \u001b[49m\u001b[43mpred_val\u001b[49m\n",
      "File \u001b[1;32mC:\\Python3\\lib\\site-packages\\pandas\\core\\generic.py:2112\u001b[0m, in \u001b[0;36mNDFrame.__array_ufunc__\u001b[1;34m(self, ufunc, method, *inputs, **kwargs)\u001b[0m\n\u001b[0;32m   2108\u001b[0m \u001b[38;5;129m@final\u001b[39m\n\u001b[0;32m   2109\u001b[0m \u001b[38;5;28;01mdef\u001b[39;00m \u001b[38;5;21m__array_ufunc__\u001b[39m(\n\u001b[0;32m   2110\u001b[0m     \u001b[38;5;28mself\u001b[39m, ufunc: np\u001b[38;5;241m.\u001b[39mufunc, method: \u001b[38;5;28mstr\u001b[39m, \u001b[38;5;241m*\u001b[39minputs: Any, \u001b[38;5;241m*\u001b[39m\u001b[38;5;241m*\u001b[39mkwargs: Any\n\u001b[0;32m   2111\u001b[0m ):\n\u001b[1;32m-> 2112\u001b[0m     \u001b[38;5;28;01mreturn\u001b[39;00m arraylike\u001b[38;5;241m.\u001b[39marray_ufunc(\u001b[38;5;28mself\u001b[39m, ufunc, method, \u001b[38;5;241m*\u001b[39minputs, \u001b[38;5;241m*\u001b[39m\u001b[38;5;241m*\u001b[39mkwargs)\n",
      "File \u001b[1;32mC:\\Python3\\lib\\site-packages\\pandas\\core\\arraylike.py:266\u001b[0m, in \u001b[0;36marray_ufunc\u001b[1;34m(self, ufunc, method, *inputs, **kwargs)\u001b[0m\n\u001b[0;32m    263\u001b[0m     \u001b[38;5;28;01mreturn\u001b[39;00m result\n\u001b[0;32m    265\u001b[0m \u001b[38;5;66;03m# for binary ops, use our custom dunder methods\u001b[39;00m\n\u001b[1;32m--> 266\u001b[0m result \u001b[38;5;241m=\u001b[39m maybe_dispatch_ufunc_to_dunder_op(\u001b[38;5;28mself\u001b[39m, ufunc, method, \u001b[38;5;241m*\u001b[39minputs, \u001b[38;5;241m*\u001b[39m\u001b[38;5;241m*\u001b[39mkwargs)\n\u001b[0;32m    267\u001b[0m \u001b[38;5;28;01mif\u001b[39;00m result \u001b[38;5;129;01mis\u001b[39;00m \u001b[38;5;129;01mnot\u001b[39;00m \u001b[38;5;28mNotImplemented\u001b[39m:\n\u001b[0;32m    268\u001b[0m     \u001b[38;5;28;01mreturn\u001b[39;00m result\n",
      "File \u001b[1;32mC:\\Python3\\lib\\site-packages\\pandas\\_libs\\ops_dispatch.pyx:113\u001b[0m, in \u001b[0;36mpandas._libs.ops_dispatch.maybe_dispatch_ufunc_to_dunder_op\u001b[1;34m()\u001b[0m\n",
      "File \u001b[1;32mC:\\Python3\\lib\\site-packages\\pandas\\core\\ops\\common.py:72\u001b[0m, in \u001b[0;36m_unpack_zerodim_and_defer.<locals>.new_method\u001b[1;34m(self, other)\u001b[0m\n\u001b[0;32m     68\u001b[0m             \u001b[38;5;28;01mreturn\u001b[39;00m \u001b[38;5;28mNotImplemented\u001b[39m\n\u001b[0;32m     70\u001b[0m other \u001b[38;5;241m=\u001b[39m item_from_zerodim(other)\n\u001b[1;32m---> 72\u001b[0m \u001b[38;5;28;01mreturn\u001b[39;00m \u001b[43mmethod\u001b[49m\u001b[43m(\u001b[49m\u001b[38;5;28;43mself\u001b[39;49m\u001b[43m,\u001b[49m\u001b[43m \u001b[49m\u001b[43mother\u001b[49m\u001b[43m)\u001b[49m\n",
      "File \u001b[1;32mC:\\Python3\\lib\\site-packages\\pandas\\core\\arraylike.py:115\u001b[0m, in \u001b[0;36mOpsMixin.__rsub__\u001b[1;34m(self, other)\u001b[0m\n\u001b[0;32m    113\u001b[0m \u001b[38;5;129m@unpack_zerodim_and_defer\u001b[39m(\u001b[38;5;124m\"\u001b[39m\u001b[38;5;124m__rsub__\u001b[39m\u001b[38;5;124m\"\u001b[39m)\n\u001b[0;32m    114\u001b[0m \u001b[38;5;28;01mdef\u001b[39;00m \u001b[38;5;21m__rsub__\u001b[39m(\u001b[38;5;28mself\u001b[39m, other):\n\u001b[1;32m--> 115\u001b[0m     \u001b[38;5;28;01mreturn\u001b[39;00m \u001b[38;5;28;43mself\u001b[39;49m\u001b[38;5;241;43m.\u001b[39;49m\u001b[43m_arith_method\u001b[49m\u001b[43m(\u001b[49m\u001b[43mother\u001b[49m\u001b[43m,\u001b[49m\u001b[43m \u001b[49m\u001b[43mroperator\u001b[49m\u001b[38;5;241;43m.\u001b[39;49m\u001b[43mrsub\u001b[49m\u001b[43m)\u001b[49m\n",
      "File \u001b[1;32mC:\\Python3\\lib\\site-packages\\pandas\\core\\series.py:6262\u001b[0m, in \u001b[0;36mSeries._arith_method\u001b[1;34m(self, other, op)\u001b[0m\n\u001b[0;32m   6260\u001b[0m \u001b[38;5;28;01mdef\u001b[39;00m \u001b[38;5;21m_arith_method\u001b[39m(\u001b[38;5;28mself\u001b[39m, other, op):\n\u001b[0;32m   6261\u001b[0m     \u001b[38;5;28mself\u001b[39m, other \u001b[38;5;241m=\u001b[39m ops\u001b[38;5;241m.\u001b[39malign_method_SERIES(\u001b[38;5;28mself\u001b[39m, other)\n\u001b[1;32m-> 6262\u001b[0m     \u001b[38;5;28;01mreturn\u001b[39;00m \u001b[43mbase\u001b[49m\u001b[38;5;241;43m.\u001b[39;49m\u001b[43mIndexOpsMixin\u001b[49m\u001b[38;5;241;43m.\u001b[39;49m\u001b[43m_arith_method\u001b[49m\u001b[43m(\u001b[49m\u001b[38;5;28;43mself\u001b[39;49m\u001b[43m,\u001b[49m\u001b[43m \u001b[49m\u001b[43mother\u001b[49m\u001b[43m,\u001b[49m\u001b[43m \u001b[49m\u001b[43mop\u001b[49m\u001b[43m)\u001b[49m\n",
      "File \u001b[1;32mC:\\Python3\\lib\\site-packages\\pandas\\core\\base.py:1325\u001b[0m, in \u001b[0;36mIndexOpsMixin._arith_method\u001b[1;34m(self, other, op)\u001b[0m\n\u001b[0;32m   1322\u001b[0m rvalues \u001b[38;5;241m=\u001b[39m ensure_wrapped_if_datetimelike(rvalues)\n\u001b[0;32m   1324\u001b[0m \u001b[38;5;28;01mwith\u001b[39;00m np\u001b[38;5;241m.\u001b[39merrstate(\u001b[38;5;28mall\u001b[39m\u001b[38;5;241m=\u001b[39m\u001b[38;5;124m\"\u001b[39m\u001b[38;5;124mignore\u001b[39m\u001b[38;5;124m\"\u001b[39m):\n\u001b[1;32m-> 1325\u001b[0m     result \u001b[38;5;241m=\u001b[39m \u001b[43mops\u001b[49m\u001b[38;5;241;43m.\u001b[39;49m\u001b[43marithmetic_op\u001b[49m\u001b[43m(\u001b[49m\u001b[43mlvalues\u001b[49m\u001b[43m,\u001b[49m\u001b[43m \u001b[49m\u001b[43mrvalues\u001b[49m\u001b[43m,\u001b[49m\u001b[43m \u001b[49m\u001b[43mop\u001b[49m\u001b[43m)\u001b[49m\n\u001b[0;32m   1327\u001b[0m \u001b[38;5;28;01mreturn\u001b[39;00m \u001b[38;5;28mself\u001b[39m\u001b[38;5;241m.\u001b[39m_construct_result(result, name\u001b[38;5;241m=\u001b[39mres_name)\n",
      "File \u001b[1;32mC:\\Python3\\lib\\site-packages\\pandas\\core\\ops\\array_ops.py:226\u001b[0m, in \u001b[0;36marithmetic_op\u001b[1;34m(left, right, op)\u001b[0m\n\u001b[0;32m    222\u001b[0m     _bool_arith_check(op, left, right)\n\u001b[0;32m    224\u001b[0m     \u001b[38;5;66;03m# error: Argument 1 to \"_na_arithmetic_op\" has incompatible type\u001b[39;00m\n\u001b[0;32m    225\u001b[0m     \u001b[38;5;66;03m# \"Union[ExtensionArray, ndarray[Any, Any]]\"; expected \"ndarray[Any, Any]\"\u001b[39;00m\n\u001b[1;32m--> 226\u001b[0m     res_values \u001b[38;5;241m=\u001b[39m \u001b[43m_na_arithmetic_op\u001b[49m\u001b[43m(\u001b[49m\u001b[43mleft\u001b[49m\u001b[43m,\u001b[49m\u001b[43m \u001b[49m\u001b[43mright\u001b[49m\u001b[43m,\u001b[49m\u001b[43m \u001b[49m\u001b[43mop\u001b[49m\u001b[43m)\u001b[49m  \u001b[38;5;66;03m# type: ignore[arg-type]\u001b[39;00m\n\u001b[0;32m    228\u001b[0m \u001b[38;5;28;01mreturn\u001b[39;00m res_values\n",
      "File \u001b[1;32mC:\\Python3\\lib\\site-packages\\pandas\\core\\ops\\array_ops.py:165\u001b[0m, in \u001b[0;36m_na_arithmetic_op\u001b[1;34m(left, right, op, is_cmp)\u001b[0m\n\u001b[0;32m    162\u001b[0m     func \u001b[38;5;241m=\u001b[39m partial(expressions\u001b[38;5;241m.\u001b[39mevaluate, op)\n\u001b[0;32m    164\u001b[0m \u001b[38;5;28;01mtry\u001b[39;00m:\n\u001b[1;32m--> 165\u001b[0m     result \u001b[38;5;241m=\u001b[39m \u001b[43mfunc\u001b[49m\u001b[43m(\u001b[49m\u001b[43mleft\u001b[49m\u001b[43m,\u001b[49m\u001b[43m \u001b[49m\u001b[43mright\u001b[49m\u001b[43m)\u001b[49m\n\u001b[0;32m    166\u001b[0m \u001b[38;5;28;01mexcept\u001b[39;00m \u001b[38;5;167;01mTypeError\u001b[39;00m:\n\u001b[0;32m    167\u001b[0m     \u001b[38;5;28;01mif\u001b[39;00m \u001b[38;5;129;01mnot\u001b[39;00m is_cmp \u001b[38;5;129;01mand\u001b[39;00m (is_object_dtype(left\u001b[38;5;241m.\u001b[39mdtype) \u001b[38;5;129;01mor\u001b[39;00m is_object_dtype(right)):\n\u001b[0;32m    168\u001b[0m         \u001b[38;5;66;03m# For object dtype, fallback to a masked operation (only operating\u001b[39;00m\n\u001b[0;32m    169\u001b[0m         \u001b[38;5;66;03m#  on the non-missing values)\u001b[39;00m\n\u001b[0;32m    170\u001b[0m         \u001b[38;5;66;03m# Don't do this for comparisons, as that will handle complex numbers\u001b[39;00m\n\u001b[0;32m    171\u001b[0m         \u001b[38;5;66;03m#  incorrectly, see GH#32047\u001b[39;00m\n",
      "File \u001b[1;32mC:\\Python3\\lib\\site-packages\\pandas\\core\\computation\\expressions.py:242\u001b[0m, in \u001b[0;36mevaluate\u001b[1;34m(op, a, b, use_numexpr)\u001b[0m\n\u001b[0;32m    239\u001b[0m \u001b[38;5;28;01mif\u001b[39;00m op_str \u001b[38;5;129;01mis\u001b[39;00m \u001b[38;5;129;01mnot\u001b[39;00m \u001b[38;5;28;01mNone\u001b[39;00m:\n\u001b[0;32m    240\u001b[0m     \u001b[38;5;28;01mif\u001b[39;00m use_numexpr:\n\u001b[0;32m    241\u001b[0m         \u001b[38;5;66;03m# error: \"None\" not callable\u001b[39;00m\n\u001b[1;32m--> 242\u001b[0m         \u001b[38;5;28;01mreturn\u001b[39;00m \u001b[43m_evaluate\u001b[49m\u001b[43m(\u001b[49m\u001b[43mop\u001b[49m\u001b[43m,\u001b[49m\u001b[43m \u001b[49m\u001b[43mop_str\u001b[49m\u001b[43m,\u001b[49m\u001b[43m \u001b[49m\u001b[43ma\u001b[49m\u001b[43m,\u001b[49m\u001b[43m \u001b[49m\u001b[43mb\u001b[49m\u001b[43m)\u001b[49m  \u001b[38;5;66;03m# type: ignore[misc]\u001b[39;00m\n\u001b[0;32m    243\u001b[0m \u001b[38;5;28;01mreturn\u001b[39;00m _evaluate_standard(op, op_str, a, b)\n",
      "File \u001b[1;32mC:\\Python3\\lib\\site-packages\\pandas\\core\\computation\\expressions.py:71\u001b[0m, in \u001b[0;36m_evaluate_standard\u001b[1;34m(op, op_str, a, b)\u001b[0m\n\u001b[0;32m     69\u001b[0m \u001b[38;5;28;01mif\u001b[39;00m _TEST_MODE:\n\u001b[0;32m     70\u001b[0m     _store_test_result(\u001b[38;5;28;01mFalse\u001b[39;00m)\n\u001b[1;32m---> 71\u001b[0m \u001b[38;5;28;01mreturn\u001b[39;00m \u001b[43mop\u001b[49m\u001b[43m(\u001b[49m\u001b[43ma\u001b[49m\u001b[43m,\u001b[49m\u001b[43m \u001b[49m\u001b[43mb\u001b[49m\u001b[43m)\u001b[49m\n",
      "File \u001b[1;32mC:\\Python3\\lib\\site-packages\\pandas\\core\\roperator.py:15\u001b[0m, in \u001b[0;36mrsub\u001b[1;34m(left, right)\u001b[0m\n\u001b[0;32m     14\u001b[0m \u001b[38;5;28;01mdef\u001b[39;00m \u001b[38;5;21mrsub\u001b[39m(left, right):\n\u001b[1;32m---> 15\u001b[0m     \u001b[38;5;28;01mreturn\u001b[39;00m \u001b[43mright\u001b[49m\u001b[43m \u001b[49m\u001b[38;5;241;43m-\u001b[39;49m\u001b[43m \u001b[49m\u001b[43mleft\u001b[49m\n",
      "\u001b[1;31mValueError\u001b[0m: operands could not be broadcast together with shapes (165,) (7,) "
     ]
    }
   ],
   "source": [
    "pred_val = model.fittedvalues.copy()\n",
    "true_val = human_indicators3['human_indicators_nameR'].values.copy()\n",
    "residual = true_val - pred_val"
   ]
  },
  {
   "cell_type": "code",
   "execution_count": 750,
   "id": "b879733b",
   "metadata": {},
   "outputs": [
    {
     "ename": "NameError",
     "evalue": "name 'residual' is not defined",
     "output_type": "error",
     "traceback": [
      "\u001b[1;31m---------------------------------------------------------------------------\u001b[0m",
      "\u001b[1;31mNameError\u001b[0m                                 Traceback (most recent call last)",
      "Cell \u001b[1;32mIn [750], line 1\u001b[0m\n\u001b[1;32m----> 1\u001b[0m bp_test \u001b[38;5;241m=\u001b[39m sms\u001b[38;5;241m.\u001b[39mhet_breuschpagan(\u001b[43mresidual\u001b[49m, model\u001b[38;5;241m.\u001b[39mmodel\u001b[38;5;241m.\u001b[39mexog)\n",
      "\u001b[1;31mNameError\u001b[0m: name 'residual' is not defined"
     ]
    }
   ],
   "source": [
    "bp_test = sms.het_breuschpagan(residual, model.model.exog)"
   ]
  },
  {
   "cell_type": "code",
   "execution_count": null,
   "id": "cec9e86f",
   "metadata": {},
   "outputs": [],
   "source": [
    "print(bp_test)"
   ]
  },
  {
   "cell_type": "markdown",
   "id": "6d29331b",
   "metadata": {},
   "source": [
    "1738.36 is the F value to test for homoscedasticity. Like all F values, the bigger it is, the more likely it is to be statistically significant.\n",
    "\n",
    "9.564159156983852e-85 has 85 zeros before the decimal place followed by 96. This is the p value to test for homoscedasticity. If it is < .05 (stastically significant), then this means you have violated the assumption of homoscedasticity and your data is, in fact, heteroscedastic. Therefore the data above is heteroscedastic.\n",
    "\n"
   ]
  },
  {
   "cell_type": "markdown",
   "id": "7c653234",
   "metadata": {},
   "source": [
    "Transform the data so they become homocedastic"
   ]
  },
  {
   "cell_type": "code",
   "execution_count": null,
   "id": "1be0f8a3",
   "metadata": {},
   "outputs": [],
   "source": [
    "transformed, _ = boxcox(human_indicators2['human_indicator_nameR'])"
   ]
  },
  {
   "cell_type": "code",
   "execution_count": null,
   "id": "9bafdcbe",
   "metadata": {},
   "outputs": [],
   "source": [
    "plt.hist(transformed)"
   ]
  },
  {
   "cell_type": "markdown",
   "id": "d13050e9",
   "metadata": {},
   "source": [
    "still don't have a normal distribution with a beautiful bell curve, therefore it is unlikely hetereoscedasticity has been corrected.  Pull these values into a and re-run tests for homoscedasticity. Just re-assign x as transformed and create a new model:"
   ]
  },
  {
   "cell_type": "code",
   "execution_count": null,
   "id": "943b2248",
   "metadata": {},
   "outputs": [],
   "source": [
    "x = transformed\n",
    "model1 = OLS(y, X).fit()\n",
    "model1.summary()"
   ]
  },
  {
   "cell_type": "markdown",
   "id": "6a8fffde",
   "metadata": {},
   "source": [
    "Create new residual values"
   ]
  },
  {
   "cell_type": "code",
   "execution_count": null,
   "id": "0717e998",
   "metadata": {},
   "outputs": [],
   "source": [
    "y_pred = model1.predict(X)\n",
    "residuals = y - y_pred"
   ]
  },
  {
   "cell_type": "markdown",
   "id": "f56c7a34",
   "metadata": {},
   "source": [
    "Replot the graph"
   ]
  },
  {
   "cell_type": "code",
   "execution_count": null,
   "id": "38e0d46f",
   "metadata": {},
   "outputs": [],
   "source": [
    "plt.scatter(y, residuals)\n",
    "plt.show()"
   ]
  },
  {
   "cell_type": "markdown",
   "id": "e4f708e7",
   "metadata": {},
   "source": [
    "Data has not been fixed. "
   ]
  },
  {
   "cell_type": "markdown",
   "id": "d213d3f8",
   "metadata": {},
   "source": [
    "Screening for outliers"
   ]
  },
  {
   "cell_type": "code",
   "execution_count": null,
   "id": "0fd5e48d",
   "metadata": {},
   "outputs": [],
   "source": [
    "fig, ax = plt.subplots(figsize=(12,8))\n",
    "fig = sm.graphics.influence_plot(model, alpha = .05, ax = ax, criterion=\"cooks\")"
   ]
  },
  {
   "cell_type": "markdown",
   "id": "fb590c4b",
   "metadata": {},
   "source": [
    "The larger the dot on this plot, the more likely something is to be an outlier. However, something is only officially an outlier when it has a row number next to it. In this case, there are two rows that need to be addressed. "
   ]
  },
  {
   "cell_type": "code",
   "execution_count": null,
   "id": "a3d596b0",
   "metadata": {},
   "outputs": [],
   "source": [
    "model.get_influence()\n",
    "print(infl.summary_frame())"
   ]
  },
  {
   "cell_type": "markdown",
   "id": "e89cd067",
   "metadata": {},
   "source": [
    "The DFBETAS value is shown in the dfb_human_indicator_nameR column, and if any value is greater than 1, then there is a problem with an influential value. \n",
    "\n",
    "The DFFITS value is shown in the dffits column, and like DFBETAS, if there is  a value greater than 1, this indicates a problem.\n",
    "\n",
    "Leverage values are shown in the hat_diag column, and if a value is in the .2 - .5 range, there may be a moderate outlier problem, and if it is over .5, then you have a large outlier problem.\n",
    "\n",
    "Studentized deleted residuals are shown in the student_resid column, and if there is a value over 2.5 or 3, there is probably an outlier problem.\n",
    "\n",
    "There do not seem to be an outlier problem"
   ]
  },
  {
   "cell_type": "code",
   "execution_count": null,
   "id": "fbf09c16",
   "metadata": {},
   "outputs": [],
   "source": [
    "Taking at look at the distribution of the data."
   ]
  },
  {
   "cell_type": "code",
   "execution_count": null,
   "id": "e00b865d",
   "metadata": {},
   "outputs": [],
   "source": [
    " for column in X.columns:\n",
    "        sns.boxplot(x=X[column], color=\"red\")\n",
    "        plt.show()"
   ]
  },
  {
   "cell_type": "code",
   "execution_count": null,
   "id": "204f924b",
   "metadata": {},
   "outputs": [],
   "source": [
    "for column in X.columns:\n",
    "        sns.scatterplot(x=X[column], y=y, color=\"blue\")\n",
    "        plt.show()"
   ]
  },
  {
   "cell_type": "markdown",
   "id": "0c99ba15",
   "metadata": {},
   "source": [
    "The presence of outliers can be determined by observing any points that lie outside of the whiskers in the boxplot. Additionally, a scatter plot is plotted for each independent variable against the dependent variable to visualize the relationship between the variables and identify any outliers.\n",
    "\n",
    "There seem to be very little outliers. "
   ]
  }
 ],
 "metadata": {
  "kernelspec": {
   "display_name": "Python 3 (ipykernel)",
   "language": "python",
   "name": "python3"
  },
  "language_info": {
   "codemirror_mode": {
    "name": "ipython",
    "version": 3
   },
   "file_extension": ".py",
   "mimetype": "text/x-python",
   "name": "python",
   "nbconvert_exporter": "python",
   "pygments_lexer": "ipython3",
   "version": "3.10.6"
  }
 },
 "nbformat": 4,
 "nbformat_minor": 5
}
