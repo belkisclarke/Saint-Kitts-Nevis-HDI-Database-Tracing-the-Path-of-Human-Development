{
 "cells": [
  {
   "cell_type": "markdown",
   "id": "3674932c",
   "metadata": {},
   "source": [
    "This project aims to create a data lake solution to analyze the trend in human development indicators in Saint Kitts and Nevis over time. The data lake will be built using the data from https://data.world/hdro/663862f6-ca08-4957-8b5e-51471cedd04f/workspace/file?filename=human-development-indicators-for-saint-kitts-and-nevis-1.csv\n",
    "\n",
    "The Analysis Question being looked at is : What humam factors contribute the most to human development in Saint Kitts and Nevis and how have they changed over time?\n",
    "\n",
    "Data Wrangling For Data prepration and exploration, the following packages will be useful:\n",
    "\n",
    "Pandas: For loading, cleaning, and manipulating data.\n",
    "\n",
    "Numpy: For mathematical and scientific computing.\n",
    "\n",
    "Matplotlib: for visulaizing data and creating graphs and charts\n",
    "\n",
    "Seaborn : For creating more advanced visulization and charts\n",
    "\n",
    "Sckit-learn : For machine learning and data analysis.\n",
    "\n",
    "Import Dataset Human development indicators for Saint Kitts and Nevis\n",
    "\n",
    "Import Packages"
   ]
  },
  {
   "cell_type": "code",
   "execution_count": 208,
   "id": "d731809b",
   "metadata": {},
   "outputs": [],
   "source": [
    "import pandas as pd\n",
    "import numpy as np\n",
    "import matplotlib.pyplot as plt\n",
    "import seaborn as sns\n",
    "from sklearn.linear_model import LinearRegression\n",
    "from pandas.plotting import scatter_matrix\n",
    "from sklearn.preprocessing import StandardScaler\n",
    "from sklearn.model_selection import train_test_split\n",
    "from sklearn.metrics import mean_squared_error, r2_score"
   ]
  },
  {
   "cell_type": "markdown",
   "id": "bcc1604b",
   "metadata": {},
   "source": [
    "Import Data"
   ]
  },
  {
   "cell_type": "code",
   "execution_count": 209,
   "id": "a8089131",
   "metadata": {},
   "outputs": [],
   "source": [
    "human_indicators = pd.read_csv(\"C:/Users/admin/Desktop/Entity/Final Project/Datasets/human-development-indicators-for-saint-kitts-and-nevis.csv\")"
   ]
  },
  {
   "cell_type": "code",
   "execution_count": 210,
   "id": "0bc5e030",
   "metadata": {},
   "outputs": [
    {
     "data": {
      "text/html": [
       "<div>\n",
       "<style scoped>\n",
       "    .dataframe tbody tr th:only-of-type {\n",
       "        vertical-align: middle;\n",
       "    }\n",
       "\n",
       "    .dataframe tbody tr th {\n",
       "        vertical-align: top;\n",
       "    }\n",
       "\n",
       "    .dataframe thead th {\n",
       "        text-align: right;\n",
       "    }\n",
       "</style>\n",
       "<table border=\"1\" class=\"dataframe\">\n",
       "  <thead>\n",
       "    <tr style=\"text-align: right;\">\n",
       "      <th></th>\n",
       "      <th>#country+code</th>\n",
       "      <th>#country+name</th>\n",
       "      <th>#indicator+code</th>\n",
       "      <th>#indicator+name</th>\n",
       "      <th>#indicator+value+num</th>\n",
       "      <th>#date+year</th>\n",
       "    </tr>\n",
       "  </thead>\n",
       "  <tbody>\n",
       "    <tr>\n",
       "      <th>0</th>\n",
       "      <td>KNA</td>\n",
       "      <td>Saint Kitts and Nevis</td>\n",
       "      <td>21806</td>\n",
       "      <td>Refugees by country of origin (thousands)</td>\n",
       "      <td>0.050000</td>\n",
       "      <td>2017</td>\n",
       "    </tr>\n",
       "    <tr>\n",
       "      <th>1</th>\n",
       "      <td>KNA</td>\n",
       "      <td>Saint Kitts and Nevis</td>\n",
       "      <td>31706</td>\n",
       "      <td>Share of seats in parliament (% held by women)</td>\n",
       "      <td>13.333333</td>\n",
       "      <td>2017</td>\n",
       "    </tr>\n",
       "    <tr>\n",
       "      <th>2</th>\n",
       "      <td>KNA</td>\n",
       "      <td>Saint Kitts and Nevis</td>\n",
       "      <td>44206</td>\n",
       "      <td>Total population (millions)</td>\n",
       "      <td>0.055345</td>\n",
       "      <td>2017</td>\n",
       "    </tr>\n",
       "    <tr>\n",
       "      <th>3</th>\n",
       "      <td>KNA</td>\n",
       "      <td>Saint Kitts and Nevis</td>\n",
       "      <td>45106</td>\n",
       "      <td>Urban population (%)</td>\n",
       "      <td>30.800000</td>\n",
       "      <td>2017</td>\n",
       "    </tr>\n",
       "    <tr>\n",
       "      <th>4</th>\n",
       "      <td>KNA</td>\n",
       "      <td>Saint Kitts and Nevis</td>\n",
       "      <td>52606</td>\n",
       "      <td>Remittances, inflows (% of GDP)</td>\n",
       "      <td>1.124040</td>\n",
       "      <td>2017</td>\n",
       "    </tr>\n",
       "  </tbody>\n",
       "</table>\n",
       "</div>"
      ],
      "text/plain": [
       "  #country+code          #country+name  #indicator+code  \\\n",
       "0           KNA  Saint Kitts and Nevis            21806   \n",
       "1           KNA  Saint Kitts and Nevis            31706   \n",
       "2           KNA  Saint Kitts and Nevis            44206   \n",
       "3           KNA  Saint Kitts and Nevis            45106   \n",
       "4           KNA  Saint Kitts and Nevis            52606   \n",
       "\n",
       "                                  #indicator+name  #indicator+value+num  \\\n",
       "0       Refugees by country of origin (thousands)              0.050000   \n",
       "1  Share of seats in parliament (% held by women)             13.333333   \n",
       "2                     Total population (millions)              0.055345   \n",
       "3                            Urban population (%)             30.800000   \n",
       "4                 Remittances, inflows (% of GDP)              1.124040   \n",
       "\n",
       "   #date+year  \n",
       "0        2017  \n",
       "1        2017  \n",
       "2        2017  \n",
       "3        2017  \n",
       "4        2017  "
      ]
     },
     "execution_count": 210,
     "metadata": {},
     "output_type": "execute_result"
    }
   ],
   "source": [
    "human_indicators.head()"
   ]
  },
  {
   "cell_type": "code",
   "execution_count": 211,
   "id": "80523b96",
   "metadata": {},
   "outputs": [
    {
     "data": {
      "text/plain": [
       "(538, 6)"
      ]
     },
     "execution_count": 211,
     "metadata": {},
     "output_type": "execute_result"
    }
   ],
   "source": [
    "human_indicators.shape"
   ]
  },
  {
   "cell_type": "markdown",
   "id": "1578a390",
   "metadata": {},
   "source": [
    "Take a look at the data to observe the structure and get familiar with the contents. "
   ]
  },
  {
   "cell_type": "code",
   "execution_count": 212,
   "id": "40aaa95d",
   "metadata": {},
   "outputs": [
    {
     "name": "stdout",
     "output_type": "stream",
     "text": [
      "<class 'pandas.core.frame.DataFrame'>\n",
      "RangeIndex: 538 entries, 0 to 537\n",
      "Data columns (total 6 columns):\n",
      " #   Column                Non-Null Count  Dtype  \n",
      "---  ------                --------------  -----  \n",
      " 0   #country+code         538 non-null    object \n",
      " 1   #country+name         538 non-null    object \n",
      " 2   #indicator+code       538 non-null    int64  \n",
      " 3   #indicator+name       538 non-null    object \n",
      " 4   #indicator+value+num  538 non-null    float64\n",
      " 5   #date+year            538 non-null    int64  \n",
      "dtypes: float64(1), int64(2), object(3)\n",
      "memory usage: 25.3+ KB\n"
     ]
    }
   ],
   "source": [
    "human_indicators.info()"
   ]
  },
  {
   "cell_type": "markdown",
   "id": "eb4bd3d3",
   "metadata": {},
   "source": [
    "Double Check the data was uploaded correctly as a dataframe. "
   ]
  },
  {
   "cell_type": "code",
   "execution_count": 213,
   "id": "5331a321",
   "metadata": {},
   "outputs": [
    {
     "name": "stdout",
     "output_type": "stream",
     "text": [
      "<class 'pandas.core.frame.DataFrame'>\n"
     ]
    }
   ],
   "source": [
    "print(type(human_indicators))"
   ]
  },
  {
   "cell_type": "markdown",
   "id": "91bade86",
   "metadata": {},
   "source": [
    "It is a DataFrame\n",
    "\n",
    "Create a function using the 'def' keyword. The function retruns the dataframe when called. The fucntion can be pulled multiple times to retrieve information in the dataframe."
   ]
  },
  {
   "cell_type": "code",
   "execution_count": 214,
   "id": "3eec37d6",
   "metadata": {},
   "outputs": [],
   "source": [
    "def human_indicators_function():\n",
    "    return human_indicators"
   ]
  },
  {
   "cell_type": "markdown",
   "id": "b4c69188",
   "metadata": {},
   "source": [
    "Call the function"
   ]
  },
  {
   "cell_type": "code",
   "execution_count": 215,
   "id": "a585b8d3",
   "metadata": {},
   "outputs": [],
   "source": [
    "result = human_indicators_function()"
   ]
  },
  {
   "cell_type": "markdown",
   "id": "ab770b4a",
   "metadata": {},
   "source": [
    "Print the results to make sure that the code was succesful"
   ]
  },
  {
   "cell_type": "code",
   "execution_count": 216,
   "id": "7b7f2346",
   "metadata": {},
   "outputs": [
    {
     "name": "stdout",
     "output_type": "stream",
     "text": [
      "    #country+code          #country+name  #indicator+code  \\\n",
      "0             KNA  Saint Kitts and Nevis            21806   \n",
      "1             KNA  Saint Kitts and Nevis            31706   \n",
      "2             KNA  Saint Kitts and Nevis            44206   \n",
      "3             KNA  Saint Kitts and Nevis            45106   \n",
      "4             KNA  Saint Kitts and Nevis            52606   \n",
      "..            ...                    ...              ...   \n",
      "533           KNA  Saint Kitts and Nevis           163906   \n",
      "534           KNA  Saint Kitts and Nevis           174306   \n",
      "535           KNA  Saint Kitts and Nevis           174406   \n",
      "536           KNA  Saint Kitts and Nevis           175206   \n",
      "537           KNA  Saint Kitts and Nevis           181706   \n",
      "\n",
      "                                       #indicator+name  #indicator+value+num  \\\n",
      "0            Refugees by country of origin (thousands)              0.050000   \n",
      "1       Share of seats in parliament (% held by women)             13.333333   \n",
      "2                          Total population (millions)              0.055345   \n",
      "3                                 Urban population (%)             30.800000   \n",
      "4                      Remittances, inflows (% of GDP)              1.124040   \n",
      "..                                                 ...                   ...   \n",
      "533  Renewable energy consumption (% of total final...             40.032326   \n",
      "534  Fossil fuel energy consumption (% of total ene...              0.000000   \n",
      "535  Carbon dioxide emissions (kg per 2011 PPP $ of...              0.181784   \n",
      "536    Antenatal care coverage, at least one visit (%)            100.000000   \n",
      "537    Rural population with access to electricity (%)             82.082064   \n",
      "\n",
      "     #date+year  \n",
      "0          2017  \n",
      "1          2017  \n",
      "2          2017  \n",
      "3          2017  \n",
      "4          2017  \n",
      "..          ...  \n",
      "533        1990  \n",
      "534        1990  \n",
      "535        1990  \n",
      "536        1990  \n",
      "537        1990  \n",
      "\n",
      "[538 rows x 6 columns]\n"
     ]
    }
   ],
   "source": [
    "print(result)"
   ]
  },
  {
   "cell_type": "markdown",
   "id": "59463375",
   "metadata": {},
   "source": [
    "Check for Missing values\n",
    "\n",
    "The 'isna' method is used to check for missing values in the dataframe. The result is a datframe with the same shape as the original data frame, where each element is 'True' if the corresponding value in teh original dataframe is missing, and 'False' otherwise.\n",
    "\n",
    "the 'sum' method is then used to count the number of missing values in each column. The result is a series with the number of missing values for each column.\n",
    "\n",
    "Call the function to retrieve the data frame"
   ]
  },
  {
   "cell_type": "code",
   "execution_count": 217,
   "id": "c64d0dd1",
   "metadata": {},
   "outputs": [],
   "source": [
    "human_indicators1 =human_indicators_function()"
   ]
  },
  {
   "cell_type": "markdown",
   "id": "47662036",
   "metadata": {},
   "source": [
    "Check for Missing Vlaues"
   ]
  },
  {
   "cell_type": "code",
   "execution_count": 218,
   "id": "9fe1dc29",
   "metadata": {},
   "outputs": [],
   "source": [
    "missing_values = human_indicators1 = human_indicators.isna()"
   ]
  },
  {
   "cell_type": "markdown",
   "id": "9c7843be",
   "metadata": {},
   "source": [
    "Take a look to make sure it was successful.\n",
    "\n",
    "Print the Results"
   ]
  },
  {
   "cell_type": "code",
   "execution_count": 219,
   "id": "3ccec3d7",
   "metadata": {},
   "outputs": [
    {
     "name": "stdout",
     "output_type": "stream",
     "text": [
      "#country+code           0\n",
      "#country+name           0\n",
      "#indicator+code         0\n",
      "#indicator+name         0\n",
      "#indicator+value+num    0\n",
      "#date+year              0\n",
      "dtype: int64\n"
     ]
    }
   ],
   "source": [
    "print(missing_values.sum())"
   ]
  },
  {
   "cell_type": "markdown",
   "id": "da809ff7",
   "metadata": {},
   "source": [
    "There are no missing results.\n",
    "\n",
    "Continue with Wrangling.\n",
    "\n",
    "Rename Columns then check it was done succesfully"
   ]
  },
  {
   "cell_type": "code",
   "execution_count": 220,
   "id": "17cabab7",
   "metadata": {},
   "outputs": [],
   "source": [
    "human_indicators.rename(columns={'#indicator+value+num':'human_indicator_value',\n",
    "                                         '#country+name':'country_name',\n",
    "                                         '#indicator+code':'human_indicator_code',\n",
    "                                         '#indicator+name':'human_indicator_name',\n",
    "                                         '#date+year':'year'}, inplace=True)"
   ]
  },
  {
   "cell_type": "code",
   "execution_count": 221,
   "id": "88d0eb5c",
   "metadata": {},
   "outputs": [
    {
     "data": {
      "text/html": [
       "<div>\n",
       "<style scoped>\n",
       "    .dataframe tbody tr th:only-of-type {\n",
       "        vertical-align: middle;\n",
       "    }\n",
       "\n",
       "    .dataframe tbody tr th {\n",
       "        vertical-align: top;\n",
       "    }\n",
       "\n",
       "    .dataframe thead th {\n",
       "        text-align: right;\n",
       "    }\n",
       "</style>\n",
       "<table border=\"1\" class=\"dataframe\">\n",
       "  <thead>\n",
       "    <tr style=\"text-align: right;\">\n",
       "      <th></th>\n",
       "      <th>#country+code</th>\n",
       "      <th>country_name</th>\n",
       "      <th>human_indicator_code</th>\n",
       "      <th>human_indicator_name</th>\n",
       "      <th>human_indicator_value</th>\n",
       "      <th>year</th>\n",
       "    </tr>\n",
       "  </thead>\n",
       "  <tbody>\n",
       "    <tr>\n",
       "      <th>0</th>\n",
       "      <td>KNA</td>\n",
       "      <td>Saint Kitts and Nevis</td>\n",
       "      <td>21806</td>\n",
       "      <td>Refugees by country of origin (thousands)</td>\n",
       "      <td>0.050000</td>\n",
       "      <td>2017</td>\n",
       "    </tr>\n",
       "    <tr>\n",
       "      <th>1</th>\n",
       "      <td>KNA</td>\n",
       "      <td>Saint Kitts and Nevis</td>\n",
       "      <td>31706</td>\n",
       "      <td>Share of seats in parliament (% held by women)</td>\n",
       "      <td>13.333333</td>\n",
       "      <td>2017</td>\n",
       "    </tr>\n",
       "    <tr>\n",
       "      <th>2</th>\n",
       "      <td>KNA</td>\n",
       "      <td>Saint Kitts and Nevis</td>\n",
       "      <td>44206</td>\n",
       "      <td>Total population (millions)</td>\n",
       "      <td>0.055345</td>\n",
       "      <td>2017</td>\n",
       "    </tr>\n",
       "    <tr>\n",
       "      <th>3</th>\n",
       "      <td>KNA</td>\n",
       "      <td>Saint Kitts and Nevis</td>\n",
       "      <td>45106</td>\n",
       "      <td>Urban population (%)</td>\n",
       "      <td>30.800000</td>\n",
       "      <td>2017</td>\n",
       "    </tr>\n",
       "    <tr>\n",
       "      <th>4</th>\n",
       "      <td>KNA</td>\n",
       "      <td>Saint Kitts and Nevis</td>\n",
       "      <td>52606</td>\n",
       "      <td>Remittances, inflows (% of GDP)</td>\n",
       "      <td>1.124040</td>\n",
       "      <td>2017</td>\n",
       "    </tr>\n",
       "  </tbody>\n",
       "</table>\n",
       "</div>"
      ],
      "text/plain": [
       "  #country+code           country_name  human_indicator_code  \\\n",
       "0           KNA  Saint Kitts and Nevis                 21806   \n",
       "1           KNA  Saint Kitts and Nevis                 31706   \n",
       "2           KNA  Saint Kitts and Nevis                 44206   \n",
       "3           KNA  Saint Kitts and Nevis                 45106   \n",
       "4           KNA  Saint Kitts and Nevis                 52606   \n",
       "\n",
       "                             human_indicator_name  human_indicator_value  year  \n",
       "0       Refugees by country of origin (thousands)               0.050000  2017  \n",
       "1  Share of seats in parliament (% held by women)              13.333333  2017  \n",
       "2                     Total population (millions)               0.055345  2017  \n",
       "3                            Urban population (%)              30.800000  2017  \n",
       "4                 Remittances, inflows (% of GDP)               1.124040  2017  "
      ]
     },
     "execution_count": 221,
     "metadata": {},
     "output_type": "execute_result"
    }
   ],
   "source": [
    "human_indicators.head()"
   ]
  },
  {
   "cell_type": "code",
   "execution_count": 222,
   "id": "ddcf162b",
   "metadata": {},
   "outputs": [
    {
     "data": {
      "text/plain": [
       "KNA    538\n",
       "Name: #country+code, dtype: int64"
      ]
     },
     "execution_count": 222,
     "metadata": {},
     "output_type": "execute_result"
    }
   ],
   "source": [
    "human_indicators[\"#country+code\"].value_counts()"
   ]
  },
  {
   "cell_type": "code",
   "execution_count": 223,
   "id": "01e15513",
   "metadata": {},
   "outputs": [
    {
     "data": {
      "text/plain": [
       "Gross national income (GNI) per capita (2011 PPP $)                         28\n",
       "Life expectancy at birth (years)                                            28\n",
       "Expected years of schooling (years)                                         28\n",
       "Life expectancy index                                                       28\n",
       "Income index                                                                28\n",
       "Education index                                                             13\n",
       "Human Development Index (HDI)                                               13\n",
       "Mean years of schooling (years)                                             13\n",
       "Expected years of schooling, female (years)                                 12\n",
       "Share of seats in parliament (% held by women)                              12\n",
       "Gross domestic product (GDP), total (2011 PPP $ billions)                   12\n",
       "Domestic credit provided by financial sector (% of GDP)                     12\n",
       "Expected years of schooling, male (years)                                   12\n",
       "GDP per capita (2011 PPP $)                                                 12\n",
       "Infants lacking immunization, DPT (% of one-year-olds)                      12\n",
       "Infants lacking immunization, measles (% of one-year-olds)                  12\n",
       "Remittances, inflows (% of GDP)                                             12\n",
       "Urban population (%)                                                        12\n",
       "Total population (millions)                                                 12\n",
       "Pupil-teacher ratio, primary school (pupils per teacher)                    11\n",
       "Exports and imports (% of GDP)                                              11\n",
       "Private capital flows (% of GDP)                                            11\n",
       "Mortality rate, under-five (per 1,000 live births)                          11\n",
       "Foreign direct investment, net inflows (% of GDP)                           11\n",
       "Mortality rate, infant (per 1,000 live births)                              11\n",
       "Rural population with access to electricity (%)                             11\n",
       "Forest area (% of total land area)                                          10\n",
       "Renewable energy consumption (% of total final energy consumption)          10\n",
       "International inbound tourists (thousands)                                   9\n",
       "Carbon dioxide emissions, per capita (tonnes)                                9\n",
       "Carbon dioxide emissions (kg per 2011 PPP $ of GDP)                          9\n",
       "Tuberculosis incidence (per 100,000 people)                                  9\n",
       "Mobile phone subscriptions (per 100 people)                                  9\n",
       "Primary school teachers trained to teach (%)                                 9\n",
       "Internet users, total (% of population)                                      9\n",
       "Current health expenditure (% of GDP)                                        8\n",
       "Net official development assistance received (% of GNI)                      8\n",
       "Concentration index (exports) (value)                                        7\n",
       "Proportion of births attended by skilled health personnel (%)                7\n",
       "Homicide rate (per 100,000 people)                                           5\n",
       "Government expenditure on education (% of GDP)                               4\n",
       "Survival rate to the last grade of lower secondary general education (%)     4\n",
       "Primary school dropout rate (% of primary school cohort)                     4\n",
       "Population using improved drinking-water sources (%)                         3\n",
       "Population using improved sanitation facilities (%)                          3\n",
       "Antenatal care coverage, at least one visit (%)                              2\n",
       "Fossil fuel energy consumption (% of total energy consumption)               2\n",
       "Mortality rate, female adult (per 1,000 people)                              2\n",
       "Mortality rate, male adult (per 1,000 people)                                2\n",
       "HDI rank                                                                     2\n",
       "Fresh water withdrawals (% of total renewable water resources)               1\n",
       "International student mobility (% of total tertiary enrolment)               1\n",
       "Red List Index (value)                                                       1\n",
       "Refugees by country of origin (thousands)                                    1\n",
       "Name: human_indicator_name, dtype: int64"
      ]
     },
     "execution_count": 223,
     "metadata": {},
     "output_type": "execute_result"
    }
   ],
   "source": [
    "human_indicators[\"human_indicator_name\"].value_counts()"
   ]
  },
  {
   "cell_type": "code",
   "execution_count": 224,
   "id": "2f368922",
   "metadata": {},
   "outputs": [
    {
     "data": {
      "text/plain": [
       "2005    44\n",
       "2010    43\n",
       "2012    42\n",
       "2000    42\n",
       "2014    41\n",
       "2011    41\n",
       "2013    40\n",
       "2015    37\n",
       "2016    32\n",
       "1990    31\n",
       "1995    30\n",
       "2017    22\n",
       "2006     8\n",
       "2007     8\n",
       "2008     8\n",
       "2009     8\n",
       "1997     6\n",
       "2004     5\n",
       "2002     5\n",
       "2001     5\n",
       "1999     5\n",
       "1998     5\n",
       "1996     5\n",
       "1994     5\n",
       "1993     5\n",
       "1992     5\n",
       "1991     5\n",
       "2003     5\n",
       "Name: year, dtype: int64"
      ]
     },
     "execution_count": 224,
     "metadata": {},
     "output_type": "execute_result"
    }
   ],
   "source": [
    "human_indicators[\"year\"].value_counts()"
   ]
  },
  {
   "cell_type": "markdown",
   "id": "4c922348",
   "metadata": {},
   "source": [
    "display(human_indicators)"
   ]
  },
  {
   "cell_type": "markdown",
   "id": "012b470d",
   "metadata": {},
   "source": [
    "All looks as it should.\n",
    "\n",
    "Subset the data.\n",
    "\n",
    "Remove information that I will not be using.\n",
    "\n",
    "Drop the single column 'country+code' that I will not be using"
   ]
  },
  {
   "cell_type": "code",
   "execution_count": 225,
   "id": "a9b30ba3",
   "metadata": {},
   "outputs": [],
   "source": [
    "human_indicators_modified = human_indicators.drop(\"#country+code\",axis=1)"
   ]
  },
  {
   "cell_type": "markdown",
   "id": "862704a2",
   "metadata": {},
   "source": [
    "At every step take a quick look at the data to ensure your code is successful. It helps to identify errors early so they can be corrected. "
   ]
  },
  {
   "cell_type": "code",
   "execution_count": 226,
   "id": "b4d55561",
   "metadata": {},
   "outputs": [
    {
     "data": {
      "text/html": [
       "<div>\n",
       "<style scoped>\n",
       "    .dataframe tbody tr th:only-of-type {\n",
       "        vertical-align: middle;\n",
       "    }\n",
       "\n",
       "    .dataframe tbody tr th {\n",
       "        vertical-align: top;\n",
       "    }\n",
       "\n",
       "    .dataframe thead th {\n",
       "        text-align: right;\n",
       "    }\n",
       "</style>\n",
       "<table border=\"1\" class=\"dataframe\">\n",
       "  <thead>\n",
       "    <tr style=\"text-align: right;\">\n",
       "      <th></th>\n",
       "      <th>country_name</th>\n",
       "      <th>human_indicator_code</th>\n",
       "      <th>human_indicator_name</th>\n",
       "      <th>human_indicator_value</th>\n",
       "      <th>year</th>\n",
       "    </tr>\n",
       "  </thead>\n",
       "  <tbody>\n",
       "    <tr>\n",
       "      <th>0</th>\n",
       "      <td>Saint Kitts and Nevis</td>\n",
       "      <td>21806</td>\n",
       "      <td>Refugees by country of origin (thousands)</td>\n",
       "      <td>0.050000</td>\n",
       "      <td>2017</td>\n",
       "    </tr>\n",
       "    <tr>\n",
       "      <th>1</th>\n",
       "      <td>Saint Kitts and Nevis</td>\n",
       "      <td>31706</td>\n",
       "      <td>Share of seats in parliament (% held by women)</td>\n",
       "      <td>13.333333</td>\n",
       "      <td>2017</td>\n",
       "    </tr>\n",
       "    <tr>\n",
       "      <th>2</th>\n",
       "      <td>Saint Kitts and Nevis</td>\n",
       "      <td>44206</td>\n",
       "      <td>Total population (millions)</td>\n",
       "      <td>0.055345</td>\n",
       "      <td>2017</td>\n",
       "    </tr>\n",
       "    <tr>\n",
       "      <th>3</th>\n",
       "      <td>Saint Kitts and Nevis</td>\n",
       "      <td>45106</td>\n",
       "      <td>Urban population (%)</td>\n",
       "      <td>30.800000</td>\n",
       "      <td>2017</td>\n",
       "    </tr>\n",
       "    <tr>\n",
       "      <th>4</th>\n",
       "      <td>Saint Kitts and Nevis</td>\n",
       "      <td>52606</td>\n",
       "      <td>Remittances, inflows (% of GDP)</td>\n",
       "      <td>1.124040</td>\n",
       "      <td>2017</td>\n",
       "    </tr>\n",
       "    <tr>\n",
       "      <th>...</th>\n",
       "      <td>...</td>\n",
       "      <td>...</td>\n",
       "      <td>...</td>\n",
       "      <td>...</td>\n",
       "      <td>...</td>\n",
       "    </tr>\n",
       "    <tr>\n",
       "      <th>533</th>\n",
       "      <td>Saint Kitts and Nevis</td>\n",
       "      <td>163906</td>\n",
       "      <td>Renewable energy consumption (% of total final...</td>\n",
       "      <td>40.032326</td>\n",
       "      <td>1990</td>\n",
       "    </tr>\n",
       "    <tr>\n",
       "      <th>534</th>\n",
       "      <td>Saint Kitts and Nevis</td>\n",
       "      <td>174306</td>\n",
       "      <td>Fossil fuel energy consumption (% of total ene...</td>\n",
       "      <td>0.000000</td>\n",
       "      <td>1990</td>\n",
       "    </tr>\n",
       "    <tr>\n",
       "      <th>535</th>\n",
       "      <td>Saint Kitts and Nevis</td>\n",
       "      <td>174406</td>\n",
       "      <td>Carbon dioxide emissions (kg per 2011 PPP $ of...</td>\n",
       "      <td>0.181784</td>\n",
       "      <td>1990</td>\n",
       "    </tr>\n",
       "    <tr>\n",
       "      <th>536</th>\n",
       "      <td>Saint Kitts and Nevis</td>\n",
       "      <td>175206</td>\n",
       "      <td>Antenatal care coverage, at least one visit (%)</td>\n",
       "      <td>100.000000</td>\n",
       "      <td>1990</td>\n",
       "    </tr>\n",
       "    <tr>\n",
       "      <th>537</th>\n",
       "      <td>Saint Kitts and Nevis</td>\n",
       "      <td>181706</td>\n",
       "      <td>Rural population with access to electricity (%)</td>\n",
       "      <td>82.082064</td>\n",
       "      <td>1990</td>\n",
       "    </tr>\n",
       "  </tbody>\n",
       "</table>\n",
       "<p>538 rows × 5 columns</p>\n",
       "</div>"
      ],
      "text/plain": [
       "              country_name  human_indicator_code  \\\n",
       "0    Saint Kitts and Nevis                 21806   \n",
       "1    Saint Kitts and Nevis                 31706   \n",
       "2    Saint Kitts and Nevis                 44206   \n",
       "3    Saint Kitts and Nevis                 45106   \n",
       "4    Saint Kitts and Nevis                 52606   \n",
       "..                     ...                   ...   \n",
       "533  Saint Kitts and Nevis                163906   \n",
       "534  Saint Kitts and Nevis                174306   \n",
       "535  Saint Kitts and Nevis                174406   \n",
       "536  Saint Kitts and Nevis                175206   \n",
       "537  Saint Kitts and Nevis                181706   \n",
       "\n",
       "                                  human_indicator_name  human_indicator_value  \\\n",
       "0            Refugees by country of origin (thousands)               0.050000   \n",
       "1       Share of seats in parliament (% held by women)              13.333333   \n",
       "2                          Total population (millions)               0.055345   \n",
       "3                                 Urban population (%)              30.800000   \n",
       "4                      Remittances, inflows (% of GDP)               1.124040   \n",
       "..                                                 ...                    ...   \n",
       "533  Renewable energy consumption (% of total final...              40.032326   \n",
       "534  Fossil fuel energy consumption (% of total ene...               0.000000   \n",
       "535  Carbon dioxide emissions (kg per 2011 PPP $ of...               0.181784   \n",
       "536    Antenatal care coverage, at least one visit (%)             100.000000   \n",
       "537    Rural population with access to electricity (%)              82.082064   \n",
       "\n",
       "     year  \n",
       "0    2017  \n",
       "1    2017  \n",
       "2    2017  \n",
       "3    2017  \n",
       "4    2017  \n",
       "..    ...  \n",
       "533  1990  \n",
       "534  1990  \n",
       "535  1990  \n",
       "536  1990  \n",
       "537  1990  \n",
       "\n",
       "[538 rows x 5 columns]"
      ]
     },
     "metadata": {},
     "output_type": "display_data"
    }
   ],
   "source": [
    "display(human_indicators_modified)"
   ]
  },
  {
   "cell_type": "markdown",
   "id": "dc219945",
   "metadata": {},
   "source": [
    "All looks as is expected\n",
    "\n",
    "Keep the rows I will use.\n",
    "\n",
    "I will create a list of the rows I wish to keep. The 'isin' method is used to check if each value in the column is in the list. The result will be a new dataframe that only contains the rows where the values in the column are in the list.\n",
    "\n",
    "\n",
    "Create a list of rows I wish to keep."
   ]
  },
  {
   "cell_type": "code",
   "execution_count": 227,
   "id": "72129bbc",
   "metadata": {},
   "outputs": [],
   "source": [
    "keep_list = [\"Life expectancy at birth (years)\", \"Expected years of schooling (years)\", \"GDP per capita (2011 PPP $)\", \"Mean years of schooling (years)\", \"Gross national income (GNI) per capita (2011 PPP $)\", \"Rural population with access to electricity (%)\", \"Proportion of births attended by skilled health personnel (%)\", \"Share of seats in parliament (% held by women)\", \"Human Development Index (HDI)\"]"
   ]
  },
  {
   "cell_type": "code",
   "execution_count": 228,
   "id": "72d287ca",
   "metadata": {},
   "outputs": [
    {
     "data": {
      "text/plain": [
       "['Life expectancy at birth (years)',\n",
       " 'Expected years of schooling (years)',\n",
       " 'GDP per capita (2011 PPP $)',\n",
       " 'Mean years of schooling (years)',\n",
       " 'Gross national income (GNI) per capita (2011 PPP $)',\n",
       " 'Rural population with access to electricity (%)',\n",
       " 'Proportion of births attended by skilled health personnel (%)',\n",
       " 'Share of seats in parliament (% held by women)',\n",
       " 'Human Development Index (HDI)']"
      ]
     },
     "execution_count": 228,
     "metadata": {},
     "output_type": "execute_result"
    }
   ],
   "source": [
    "keep_list"
   ]
  },
  {
   "cell_type": "code",
   "execution_count": 229,
   "id": "091ed2e7",
   "metadata": {},
   "outputs": [],
   "source": [
    "human_indicators2=human_indicators_modified[human_indicators_modified[\"human_indicator_name\"].isin(keep_list)]"
   ]
  },
  {
   "cell_type": "markdown",
   "id": "654abf1f",
   "metadata": {},
   "source": [
    "Take a quick look at the data to ensure it was successful"
   ]
  },
  {
   "cell_type": "code",
   "execution_count": 230,
   "id": "f525754a",
   "metadata": {},
   "outputs": [
    {
     "data": {
      "text/html": [
       "<div>\n",
       "<style scoped>\n",
       "    .dataframe tbody tr th:only-of-type {\n",
       "        vertical-align: middle;\n",
       "    }\n",
       "\n",
       "    .dataframe tbody tr th {\n",
       "        vertical-align: top;\n",
       "    }\n",
       "\n",
       "    .dataframe thead th {\n",
       "        text-align: right;\n",
       "    }\n",
       "</style>\n",
       "<table border=\"1\" class=\"dataframe\">\n",
       "  <thead>\n",
       "    <tr style=\"text-align: right;\">\n",
       "      <th></th>\n",
       "      <th>country_name</th>\n",
       "      <th>human_indicator_code</th>\n",
       "      <th>human_indicator_name</th>\n",
       "      <th>human_indicator_value</th>\n",
       "      <th>year</th>\n",
       "    </tr>\n",
       "  </thead>\n",
       "  <tbody>\n",
       "    <tr>\n",
       "      <th>1</th>\n",
       "      <td>Saint Kitts and Nevis</td>\n",
       "      <td>31706</td>\n",
       "      <td>Share of seats in parliament (% held by women)</td>\n",
       "      <td>13.333333</td>\n",
       "      <td>2017</td>\n",
       "    </tr>\n",
       "    <tr>\n",
       "      <th>7</th>\n",
       "      <td>Saint Kitts and Nevis</td>\n",
       "      <td>69206</td>\n",
       "      <td>Life expectancy at birth (years)</td>\n",
       "      <td>74.372000</td>\n",
       "      <td>2017</td>\n",
       "    </tr>\n",
       "    <tr>\n",
       "      <th>8</th>\n",
       "      <td>Saint Kitts and Nevis</td>\n",
       "      <td>69706</td>\n",
       "      <td>Expected years of schooling (years)</td>\n",
       "      <td>14.389470</td>\n",
       "      <td>2017</td>\n",
       "    </tr>\n",
       "    <tr>\n",
       "      <th>9</th>\n",
       "      <td>Saint Kitts and Nevis</td>\n",
       "      <td>103006</td>\n",
       "      <td>Mean years of schooling (years)</td>\n",
       "      <td>8.400000</td>\n",
       "      <td>2017</td>\n",
       "    </tr>\n",
       "    <tr>\n",
       "      <th>16</th>\n",
       "      <td>Saint Kitts and Nevis</td>\n",
       "      <td>136706</td>\n",
       "      <td>GDP per capita (2011 PPP $)</td>\n",
       "      <td>24654.385400</td>\n",
       "      <td>2017</td>\n",
       "    </tr>\n",
       "    <tr>\n",
       "      <th>...</th>\n",
       "      <td>...</td>\n",
       "      <td>...</td>\n",
       "      <td>...</td>\n",
       "      <td>...</td>\n",
       "      <td>...</td>\n",
       "    </tr>\n",
       "    <tr>\n",
       "      <th>519</th>\n",
       "      <td>Saint Kitts and Nevis</td>\n",
       "      <td>69206</td>\n",
       "      <td>Life expectancy at birth (years)</td>\n",
       "      <td>67.314000</td>\n",
       "      <td>1990</td>\n",
       "    </tr>\n",
       "    <tr>\n",
       "      <th>520</th>\n",
       "      <td>Saint Kitts and Nevis</td>\n",
       "      <td>69706</td>\n",
       "      <td>Expected years of schooling (years)</td>\n",
       "      <td>12.717320</td>\n",
       "      <td>1990</td>\n",
       "    </tr>\n",
       "    <tr>\n",
       "      <th>530</th>\n",
       "      <td>Saint Kitts and Nevis</td>\n",
       "      <td>136706</td>\n",
       "      <td>GDP per capita (2011 PPP $)</td>\n",
       "      <td>14326.225240</td>\n",
       "      <td>1990</td>\n",
       "    </tr>\n",
       "    <tr>\n",
       "      <th>531</th>\n",
       "      <td>Saint Kitts and Nevis</td>\n",
       "      <td>141706</td>\n",
       "      <td>Gross national income (GNI) per capita (2011 P...</td>\n",
       "      <td>13992.051630</td>\n",
       "      <td>1990</td>\n",
       "    </tr>\n",
       "    <tr>\n",
       "      <th>537</th>\n",
       "      <td>Saint Kitts and Nevis</td>\n",
       "      <td>181706</td>\n",
       "      <td>Rural population with access to electricity (%)</td>\n",
       "      <td>82.082064</td>\n",
       "      <td>1990</td>\n",
       "    </tr>\n",
       "  </tbody>\n",
       "</table>\n",
       "<p>152 rows × 5 columns</p>\n",
       "</div>"
      ],
      "text/plain": [
       "              country_name  human_indicator_code  \\\n",
       "1    Saint Kitts and Nevis                 31706   \n",
       "7    Saint Kitts and Nevis                 69206   \n",
       "8    Saint Kitts and Nevis                 69706   \n",
       "9    Saint Kitts and Nevis                103006   \n",
       "16   Saint Kitts and Nevis                136706   \n",
       "..                     ...                   ...   \n",
       "519  Saint Kitts and Nevis                 69206   \n",
       "520  Saint Kitts and Nevis                 69706   \n",
       "530  Saint Kitts and Nevis                136706   \n",
       "531  Saint Kitts and Nevis                141706   \n",
       "537  Saint Kitts and Nevis                181706   \n",
       "\n",
       "                                  human_indicator_name  human_indicator_value  \\\n",
       "1       Share of seats in parliament (% held by women)              13.333333   \n",
       "7                     Life expectancy at birth (years)              74.372000   \n",
       "8                  Expected years of schooling (years)              14.389470   \n",
       "9                      Mean years of schooling (years)               8.400000   \n",
       "16                         GDP per capita (2011 PPP $)           24654.385400   \n",
       "..                                                 ...                    ...   \n",
       "519                   Life expectancy at birth (years)              67.314000   \n",
       "520                Expected years of schooling (years)              12.717320   \n",
       "530                        GDP per capita (2011 PPP $)           14326.225240   \n",
       "531  Gross national income (GNI) per capita (2011 P...           13992.051630   \n",
       "537    Rural population with access to electricity (%)              82.082064   \n",
       "\n",
       "     year  \n",
       "1    2017  \n",
       "7    2017  \n",
       "8    2017  \n",
       "9    2017  \n",
       "16   2017  \n",
       "..    ...  \n",
       "519  1990  \n",
       "520  1990  \n",
       "530  1990  \n",
       "531  1990  \n",
       "537  1990  \n",
       "\n",
       "[152 rows x 5 columns]"
      ]
     },
     "metadata": {},
     "output_type": "display_data"
    }
   ],
   "source": [
    "display(human_indicators2)"
   ]
  },
  {
   "cell_type": "markdown",
   "id": "1bcb9336",
   "metadata": {},
   "source": [
    "All looks as is expected\n",
    "\n",
    "Check the values of the specific column .\n",
    "\n",
    "my intentioon is to do simple linear regression and multiple linear regression.\n",
    "\n",
    "Using the 'value_counts' method check for the values. The 'value_counts' methods returns a series that contains the unique values of the column, along with the count of each value.\n",
    "\n",
    "Checking the values of the columns is an important step in data preparation for multiple regression analysis because:\n",
    "\n",
    "    * Missing values: If there are missing values in the columns, they can impact the accuracy and results of the regression analysis. Check for missing values using the .isna() method.\n",
    "\n",
    "    * Outliers: Outliers can also have a significant impact on the results of the regression analysis. Check for outliers using various visualization methods such as a box plot, scatter plot, or histogram\n",
    "\n",
    "    * Data type: Make sure that the data type of each column is appropriate for the analussi to be conducted. For example, categorical variables should be converted to numeric data types.\n",
    "\n",
    "*Data distribution: Checking the values of the columns can also helps to understand the distribution of the data, which can impact the results of the regression analysis. For example, if the data is not normally distributed, it may need to be transformed to achieve a normal distribution"
   ]
  },
  {
   "cell_type": "code",
   "execution_count": 231,
   "id": "200e6d1e",
   "metadata": {},
   "outputs": [],
   "source": [
    "value_counts= human_indicators2[\"human_indicator_name\"].value_counts()"
   ]
  },
  {
   "cell_type": "code",
   "execution_count": 232,
   "id": "0afc7b37",
   "metadata": {},
   "outputs": [
    {
     "name": "stdout",
     "output_type": "stream",
     "text": [
      "Life expectancy at birth (years)                                 28\n",
      "Expected years of schooling (years)                              28\n",
      "Gross national income (GNI) per capita (2011 PPP $)              28\n",
      "Mean years of schooling (years)                                  13\n",
      "Human Development Index (HDI)                                    13\n",
      "Share of seats in parliament (% held by women)                   12\n",
      "GDP per capita (2011 PPP $)                                      12\n",
      "Rural population with access to electricity (%)                  11\n",
      "Proportion of births attended by skilled health personnel (%)     7\n",
      "Name: human_indicator_name, dtype: int64\n"
     ]
    }
   ],
   "source": [
    "print(value_counts)"
   ]
  },
  {
   "cell_type": "markdown",
   "id": "365a5a17",
   "metadata": {},
   "source": [
    "Take a look at the data in varoius ways to esnure it is appropraite for the analysis to be perfomed.\n",
    "\n",
    "The intention is do do simple linear regression and multiple regressioin analysis.\n",
    "\n",
    "The following is to observe the data and to ensure it is ready for  regression analysis."
   ]
  },
  {
   "cell_type": "code",
   "execution_count": 233,
   "id": "245ffaa9",
   "metadata": {},
   "outputs": [
    {
     "name": "stdout",
     "output_type": "stream",
     "text": [
      "<class 'pandas.core.frame.DataFrame'>\n",
      "Int64Index: 152 entries, 1 to 537\n",
      "Data columns (total 5 columns):\n",
      " #   Column                 Non-Null Count  Dtype  \n",
      "---  ------                 --------------  -----  \n",
      " 0   country_name           152 non-null    object \n",
      " 1   human_indicator_code   152 non-null    int64  \n",
      " 2   human_indicator_name   152 non-null    object \n",
      " 3   human_indicator_value  152 non-null    float64\n",
      " 4   year                   152 non-null    int64  \n",
      "dtypes: float64(1), int64(2), object(2)\n",
      "memory usage: 7.1+ KB\n"
     ]
    }
   ],
   "source": [
    "human_indicators2.info()"
   ]
  },
  {
   "cell_type": "markdown",
   "id": "c3440aab",
   "metadata": {},
   "source": [
    "Check the shape of the dataframe\n",
    "\n",
    "This returns a tuple with the number of rows and cloumns in the dataframe."
   ]
  },
  {
   "cell_type": "code",
   "execution_count": 234,
   "id": "854af252",
   "metadata": {},
   "outputs": [
    {
     "name": "stdout",
     "output_type": "stream",
     "text": [
      "(152, 5)\n"
     ]
    }
   ],
   "source": [
    "print(human_indicators2.shape)"
   ]
  },
  {
   "cell_type": "markdown",
   "id": "2fe0c61a",
   "metadata": {},
   "source": [
    "Summary Statitistics\n",
    "\n",
    "To get summary statitstics use 'describe()' method. This will return the count, mean, standard deviation, minimun, 25th percentile, median (50th percentile). 75th percentile, and maximun column in the dataframe."
   ]
  },
  {
   "cell_type": "code",
   "execution_count": 235,
   "id": "98ee02b0",
   "metadata": {},
   "outputs": [
    {
     "name": "stdout",
     "output_type": "stream",
     "text": [
      "       human_indicator_code  human_indicator_value         year\n",
      "count            152.000000             152.000000   152.000000\n",
      "mean          107053.368421            5255.856767  2006.111842\n",
      "std            44834.183014            8910.168992     8.001282\n",
      "min            31706.000000               0.100000  1990.000000\n",
      "25%            69206.000000              12.899190  2000.000000\n",
      "50%           103006.000000              70.031500  2008.000000\n",
      "75%           141706.000000           14046.836143  2013.000000\n",
      "max           181706.000000           24654.385400  2017.000000\n"
     ]
    }
   ],
   "source": [
    "print(human_indicators2.describe())"
   ]
  },
  {
   "cell_type": "markdown",
   "id": "08aa0010",
   "metadata": {},
   "source": [
    "This shows a quick overview of the data. it prvides information about the central tendency, dispersion, and shape of the data. It can be useful for identifying patterns and trends in the data, as well as comparing the distributions of different datasets. \n",
    "\n",
    "It shows begining and end of the data set (1990 - 2017) with 2006 being mean year. The standard deviation gives an overview of the interpretable measure of the spread of data. It will be explored more as we progress. \n",
    "\n",
    "It returns data only for those columns that are numerical which indicate the need to convert the categorical columns to numerical.\n",
    "\n",
    "Check for categorical or numeric Data\n",
    "\n",
    "Use 'dtypes' attibute to checkfor categorical data. It retruns the data type for each column in the dataframe. Categorical data will have the data type 'category'.\n",
    "\n",
    "Find the data type of each column"
   ]
  },
  {
   "cell_type": "code",
   "execution_count": 236,
   "id": "8a0ef8f0",
   "metadata": {},
   "outputs": [
    {
     "data": {
      "text/plain": [
       "country_name              object\n",
       "human_indicator_code       int64\n",
       "human_indicator_name      object\n",
       "human_indicator_value    float64\n",
       "year                       int64\n",
       "dtype: object"
      ]
     },
     "execution_count": 236,
     "metadata": {},
     "output_type": "execute_result"
    }
   ],
   "source": [
    "human_indicators2.dtypes"
   ]
  },
  {
   "cell_type": "markdown",
   "id": "27ed5313",
   "metadata": {},
   "source": [
    "Two columns show up as categorical.\n",
    "\n",
    "Find the categorical columns"
   ]
  },
  {
   "cell_type": "code",
   "execution_count": 237,
   "id": "33102f99",
   "metadata": {},
   "outputs": [],
   "source": [
    "categorical_columns = human_indicators2.select_dtypes(include=['object']).columns"
   ]
  },
  {
   "cell_type": "code",
   "execution_count": 238,
   "id": "a251f133",
   "metadata": {},
   "outputs": [
    {
     "name": "stdout",
     "output_type": "stream",
     "text": [
      "Index(['country_name', 'human_indicator_name'], dtype='object')\n"
     ]
    }
   ],
   "source": [
    "print(categorical_columns)"
   ]
  },
  {
   "cell_type": "markdown",
   "id": "81f58a48",
   "metadata": {},
   "source": [
    "It shows that 'country_name' and 'human_indicator_name' columns are categorical.\n",
    "\n",
    "Change categorical data to numeric. \n",
    "\n",
    "First, Replace Specific values in a column\n",
    "\n",
    "Rename the rows under the column human_indicator_name so that the row names do not have objects such as % in them. Modify the column human_indicator_name and replace the old row names in that column with new names. The 'inplace=True' argument tells the 'replace' method to modify the dataframe in place, so I do not need to assign the result to a new dataframe.\n",
    "\n",
    "This will replace all instances of the old values in the specified column with the new values, without splitting the column into multiple columns. This can be useful way to clean and standardize values in a column without changing the structure of the dataframe."
   ]
  },
  {
   "cell_type": "code",
   "execution_count": 239,
   "id": "598dae2b",
   "metadata": {},
   "outputs": [
    {
     "name": "stderr",
     "output_type": "stream",
     "text": [
      "C:\\Users\\admin\\AppData\\Local\\Temp\\ipykernel_15084\\1520186217.py:1: SettingWithCopyWarning: \n",
      "A value is trying to be set on a copy of a slice from a DataFrame\n",
      "\n",
      "See the caveats in the documentation: https://pandas.pydata.org/pandas-docs/stable/user_guide/indexing.html#returning-a-view-versus-a-copy\n",
      "  human_indicators2 [\"human_indicator_name\"].replace({\"Life expectancy at birth (years)\":\"life_expectancy_at_birth\",\n"
     ]
    }
   ],
   "source": [
    "human_indicators2 [\"human_indicator_name\"].replace({\"Life expectancy at birth (years)\":\"life_expectancy_at_birth\", \n",
    "                                              \"Expected years of schooling (years)\":\"expected_years_of_schooling\",\n",
    "                                              \"Human Development Index (HDI)\":\"human_development_index\",\n",
    "                                              \"Share of seats in parliament (% held by women)\": \"share_seats_women_in_parliament\",\n",
    "                                              \"Mean years of schooling (years)\":\"mean_years_of_schooling\",\n",
    "                                              \"Proportion of births attended by skilled health personnel (%)\":\"proportion_births_handled_by_skilled_personnel\",\n",
    "                                               \"Rural population with access to electricity (%)\":\"rural_population_access_electricity\",\n",
    "                                               \"Gross national income (GNI) per capita (2011 PPP $)\":\"gross_national_income_per_capita\",\n",
    "                                               \"GDP per capita (2011 PPP $)\":\"gdp_per_capita\"}, inplace=True)"
   ]
  },
  {
   "cell_type": "markdown",
   "id": "d511f346",
   "metadata": {},
   "source": [
    "Always check your data to make sure your code was successful"
   ]
  },
  {
   "cell_type": "code",
   "execution_count": 240,
   "id": "0e16cd05",
   "metadata": {},
   "outputs": [
    {
     "data": {
      "text/html": [
       "<div>\n",
       "<style scoped>\n",
       "    .dataframe tbody tr th:only-of-type {\n",
       "        vertical-align: middle;\n",
       "    }\n",
       "\n",
       "    .dataframe tbody tr th {\n",
       "        vertical-align: top;\n",
       "    }\n",
       "\n",
       "    .dataframe thead th {\n",
       "        text-align: right;\n",
       "    }\n",
       "</style>\n",
       "<table border=\"1\" class=\"dataframe\">\n",
       "  <thead>\n",
       "    <tr style=\"text-align: right;\">\n",
       "      <th></th>\n",
       "      <th>country_name</th>\n",
       "      <th>human_indicator_code</th>\n",
       "      <th>human_indicator_name</th>\n",
       "      <th>human_indicator_value</th>\n",
       "      <th>year</th>\n",
       "    </tr>\n",
       "  </thead>\n",
       "  <tbody>\n",
       "    <tr>\n",
       "      <th>1</th>\n",
       "      <td>Saint Kitts and Nevis</td>\n",
       "      <td>31706</td>\n",
       "      <td>share_seats_women_in_parliament</td>\n",
       "      <td>13.333333</td>\n",
       "      <td>2017</td>\n",
       "    </tr>\n",
       "    <tr>\n",
       "      <th>7</th>\n",
       "      <td>Saint Kitts and Nevis</td>\n",
       "      <td>69206</td>\n",
       "      <td>life_expectancy_at_birth</td>\n",
       "      <td>74.372000</td>\n",
       "      <td>2017</td>\n",
       "    </tr>\n",
       "    <tr>\n",
       "      <th>8</th>\n",
       "      <td>Saint Kitts and Nevis</td>\n",
       "      <td>69706</td>\n",
       "      <td>expected_years_of_schooling</td>\n",
       "      <td>14.389470</td>\n",
       "      <td>2017</td>\n",
       "    </tr>\n",
       "    <tr>\n",
       "      <th>9</th>\n",
       "      <td>Saint Kitts and Nevis</td>\n",
       "      <td>103006</td>\n",
       "      <td>mean_years_of_schooling</td>\n",
       "      <td>8.400000</td>\n",
       "      <td>2017</td>\n",
       "    </tr>\n",
       "    <tr>\n",
       "      <th>16</th>\n",
       "      <td>Saint Kitts and Nevis</td>\n",
       "      <td>136706</td>\n",
       "      <td>gdp_per_capita</td>\n",
       "      <td>24654.385400</td>\n",
       "      <td>2017</td>\n",
       "    </tr>\n",
       "    <tr>\n",
       "      <th>...</th>\n",
       "      <td>...</td>\n",
       "      <td>...</td>\n",
       "      <td>...</td>\n",
       "      <td>...</td>\n",
       "      <td>...</td>\n",
       "    </tr>\n",
       "    <tr>\n",
       "      <th>519</th>\n",
       "      <td>Saint Kitts and Nevis</td>\n",
       "      <td>69206</td>\n",
       "      <td>life_expectancy_at_birth</td>\n",
       "      <td>67.314000</td>\n",
       "      <td>1990</td>\n",
       "    </tr>\n",
       "    <tr>\n",
       "      <th>520</th>\n",
       "      <td>Saint Kitts and Nevis</td>\n",
       "      <td>69706</td>\n",
       "      <td>expected_years_of_schooling</td>\n",
       "      <td>12.717320</td>\n",
       "      <td>1990</td>\n",
       "    </tr>\n",
       "    <tr>\n",
       "      <th>530</th>\n",
       "      <td>Saint Kitts and Nevis</td>\n",
       "      <td>136706</td>\n",
       "      <td>gdp_per_capita</td>\n",
       "      <td>14326.225240</td>\n",
       "      <td>1990</td>\n",
       "    </tr>\n",
       "    <tr>\n",
       "      <th>531</th>\n",
       "      <td>Saint Kitts and Nevis</td>\n",
       "      <td>141706</td>\n",
       "      <td>gross_national_income_per_capita</td>\n",
       "      <td>13992.051630</td>\n",
       "      <td>1990</td>\n",
       "    </tr>\n",
       "    <tr>\n",
       "      <th>537</th>\n",
       "      <td>Saint Kitts and Nevis</td>\n",
       "      <td>181706</td>\n",
       "      <td>rural_population_access_electricity</td>\n",
       "      <td>82.082064</td>\n",
       "      <td>1990</td>\n",
       "    </tr>\n",
       "  </tbody>\n",
       "</table>\n",
       "<p>152 rows × 5 columns</p>\n",
       "</div>"
      ],
      "text/plain": [
       "              country_name  human_indicator_code  \\\n",
       "1    Saint Kitts and Nevis                 31706   \n",
       "7    Saint Kitts and Nevis                 69206   \n",
       "8    Saint Kitts and Nevis                 69706   \n",
       "9    Saint Kitts and Nevis                103006   \n",
       "16   Saint Kitts and Nevis                136706   \n",
       "..                     ...                   ...   \n",
       "519  Saint Kitts and Nevis                 69206   \n",
       "520  Saint Kitts and Nevis                 69706   \n",
       "530  Saint Kitts and Nevis                136706   \n",
       "531  Saint Kitts and Nevis                141706   \n",
       "537  Saint Kitts and Nevis                181706   \n",
       "\n",
       "                    human_indicator_name  human_indicator_value  year  \n",
       "1        share_seats_women_in_parliament              13.333333  2017  \n",
       "7               life_expectancy_at_birth              74.372000  2017  \n",
       "8            expected_years_of_schooling              14.389470  2017  \n",
       "9                mean_years_of_schooling               8.400000  2017  \n",
       "16                        gdp_per_capita           24654.385400  2017  \n",
       "..                                   ...                    ...   ...  \n",
       "519             life_expectancy_at_birth              67.314000  1990  \n",
       "520          expected_years_of_schooling              12.717320  1990  \n",
       "530                       gdp_per_capita           14326.225240  1990  \n",
       "531     gross_national_income_per_capita           13992.051630  1990  \n",
       "537  rural_population_access_electricity              82.082064  1990  \n",
       "\n",
       "[152 rows x 5 columns]"
      ]
     },
     "metadata": {},
     "output_type": "display_data"
    }
   ],
   "source": [
    "display(human_indicators2)"
   ]
  },
  {
   "cell_type": "markdown",
   "id": "2a14a6eb",
   "metadata": {},
   "source": [
    "drop country_name column since it is only one country referred to"
   ]
  },
  {
   "cell_type": "code",
   "execution_count": 241,
   "id": "0a742887",
   "metadata": {},
   "outputs": [
    {
     "name": "stderr",
     "output_type": "stream",
     "text": [
      "C:\\Users\\admin\\AppData\\Local\\Temp\\ipykernel_15084\\2510790435.py:1: SettingWithCopyWarning: \n",
      "A value is trying to be set on a copy of a slice from a DataFrame\n",
      "\n",
      "See the caveats in the documentation: https://pandas.pydata.org/pandas-docs/stable/user_guide/indexing.html#returning-a-view-versus-a-copy\n",
      "  human_indicators2.drop(columns=[\"country_name\"], axis=1, inplace=True)\n"
     ]
    }
   ],
   "source": [
    "human_indicators2.drop(columns=[\"country_name\"], axis=1, inplace=True)"
   ]
  },
  {
   "cell_type": "code",
   "execution_count": 242,
   "id": "8d360f04",
   "metadata": {},
   "outputs": [
    {
     "data": {
      "text/html": [
       "<div>\n",
       "<style scoped>\n",
       "    .dataframe tbody tr th:only-of-type {\n",
       "        vertical-align: middle;\n",
       "    }\n",
       "\n",
       "    .dataframe tbody tr th {\n",
       "        vertical-align: top;\n",
       "    }\n",
       "\n",
       "    .dataframe thead th {\n",
       "        text-align: right;\n",
       "    }\n",
       "</style>\n",
       "<table border=\"1\" class=\"dataframe\">\n",
       "  <thead>\n",
       "    <tr style=\"text-align: right;\">\n",
       "      <th></th>\n",
       "      <th>human_indicator_code</th>\n",
       "      <th>human_indicator_name</th>\n",
       "      <th>human_indicator_value</th>\n",
       "      <th>year</th>\n",
       "    </tr>\n",
       "  </thead>\n",
       "  <tbody>\n",
       "    <tr>\n",
       "      <th>1</th>\n",
       "      <td>31706</td>\n",
       "      <td>share_seats_women_in_parliament</td>\n",
       "      <td>13.333333</td>\n",
       "      <td>2017</td>\n",
       "    </tr>\n",
       "    <tr>\n",
       "      <th>7</th>\n",
       "      <td>69206</td>\n",
       "      <td>life_expectancy_at_birth</td>\n",
       "      <td>74.372000</td>\n",
       "      <td>2017</td>\n",
       "    </tr>\n",
       "    <tr>\n",
       "      <th>8</th>\n",
       "      <td>69706</td>\n",
       "      <td>expected_years_of_schooling</td>\n",
       "      <td>14.389470</td>\n",
       "      <td>2017</td>\n",
       "    </tr>\n",
       "    <tr>\n",
       "      <th>9</th>\n",
       "      <td>103006</td>\n",
       "      <td>mean_years_of_schooling</td>\n",
       "      <td>8.400000</td>\n",
       "      <td>2017</td>\n",
       "    </tr>\n",
       "    <tr>\n",
       "      <th>16</th>\n",
       "      <td>136706</td>\n",
       "      <td>gdp_per_capita</td>\n",
       "      <td>24654.385400</td>\n",
       "      <td>2017</td>\n",
       "    </tr>\n",
       "    <tr>\n",
       "      <th>...</th>\n",
       "      <td>...</td>\n",
       "      <td>...</td>\n",
       "      <td>...</td>\n",
       "      <td>...</td>\n",
       "    </tr>\n",
       "    <tr>\n",
       "      <th>519</th>\n",
       "      <td>69206</td>\n",
       "      <td>life_expectancy_at_birth</td>\n",
       "      <td>67.314000</td>\n",
       "      <td>1990</td>\n",
       "    </tr>\n",
       "    <tr>\n",
       "      <th>520</th>\n",
       "      <td>69706</td>\n",
       "      <td>expected_years_of_schooling</td>\n",
       "      <td>12.717320</td>\n",
       "      <td>1990</td>\n",
       "    </tr>\n",
       "    <tr>\n",
       "      <th>530</th>\n",
       "      <td>136706</td>\n",
       "      <td>gdp_per_capita</td>\n",
       "      <td>14326.225240</td>\n",
       "      <td>1990</td>\n",
       "    </tr>\n",
       "    <tr>\n",
       "      <th>531</th>\n",
       "      <td>141706</td>\n",
       "      <td>gross_national_income_per_capita</td>\n",
       "      <td>13992.051630</td>\n",
       "      <td>1990</td>\n",
       "    </tr>\n",
       "    <tr>\n",
       "      <th>537</th>\n",
       "      <td>181706</td>\n",
       "      <td>rural_population_access_electricity</td>\n",
       "      <td>82.082064</td>\n",
       "      <td>1990</td>\n",
       "    </tr>\n",
       "  </tbody>\n",
       "</table>\n",
       "<p>152 rows × 4 columns</p>\n",
       "</div>"
      ],
      "text/plain": [
       "     human_indicator_code                 human_indicator_name  \\\n",
       "1                   31706      share_seats_women_in_parliament   \n",
       "7                   69206             life_expectancy_at_birth   \n",
       "8                   69706          expected_years_of_schooling   \n",
       "9                  103006              mean_years_of_schooling   \n",
       "16                 136706                       gdp_per_capita   \n",
       "..                    ...                                  ...   \n",
       "519                 69206             life_expectancy_at_birth   \n",
       "520                 69706          expected_years_of_schooling   \n",
       "530                136706                       gdp_per_capita   \n",
       "531                141706     gross_national_income_per_capita   \n",
       "537                181706  rural_population_access_electricity   \n",
       "\n",
       "     human_indicator_value  year  \n",
       "1                13.333333  2017  \n",
       "7                74.372000  2017  \n",
       "8                14.389470  2017  \n",
       "9                 8.400000  2017  \n",
       "16            24654.385400  2017  \n",
       "..                     ...   ...  \n",
       "519              67.314000  1990  \n",
       "520              12.717320  1990  \n",
       "530           14326.225240  1990  \n",
       "531           13992.051630  1990  \n",
       "537              82.082064  1990  \n",
       "\n",
       "[152 rows x 4 columns]"
      ]
     },
     "metadata": {},
     "output_type": "display_data"
    }
   ],
   "source": [
    "display(human_indicators2)"
   ]
  },
  {
   "cell_type": "markdown",
   "id": "f71b70bc",
   "metadata": {},
   "source": [
    "Changing Categorical values to Numerical  Values\n",
    "\n",
    "use 'map' to assign specific numerical values to each variable in a column. The 'map()' method takes a dictionary as an argument, where the keys are the variables in the column and the values are the numerical values to be assigned to each varaible. After running the code the varaibles in the specified column will be replaced with the corresponding numerical values.\n",
    "\n",
    "The 'map' method is important in linear regression analysis because it allows you to map specific values in the dataset to new values that are more suyitable for analysis. The text values are not suitable for use in regression analysis. By using'map' method they are converted to numerical values that can be used in regression analysis, presenting the relationships between the values and allowing more meaningful analysis. This conversion from categorical to numerical also helps reduce potential biases and inaccuarcies that can occur when working with text data. "
   ]
  },
  {
   "cell_type": "code",
   "execution_count": 243,
   "id": "1e0ff9e9",
   "metadata": {},
   "outputs": [
    {
     "name": "stderr",
     "output_type": "stream",
     "text": [
      "C:\\Users\\admin\\AppData\\Local\\Temp\\ipykernel_15084\\145160798.py:1: SettingWithCopyWarning: \n",
      "A value is trying to be set on a copy of a slice from a DataFrame.\n",
      "Try using .loc[row_indexer,col_indexer] = value instead\n",
      "\n",
      "See the caveats in the documentation: https://pandas.pydata.org/pandas-docs/stable/user_guide/indexing.html#returning-a-view-versus-a-copy\n",
      "  human_indicators2['human_indicator_nameR'] = human_indicators2['human_indicator_name'].map({'life_expectancy_at_birth':1, 'expected_years_of_schooling':2, 'gdp_per_capita':3, 'human_development_index':4, 'gross_national_income_per_capita':5, 'mean_years_of_schooling':6, 'rural_population_access_electricity':7, 'share_seats_women_in_parliament':8, 'proportion_births_handled_by_skilled_personnel':9})\n"
     ]
    }
   ],
   "source": [
    "human_indicators2['human_indicator_nameR'] = human_indicators2['human_indicator_name'].map({'life_expectancy_at_birth':1, 'expected_years_of_schooling':2, 'gdp_per_capita':3, 'human_development_index':4, 'gross_national_income_per_capita':5, 'mean_years_of_schooling':6, 'rural_population_access_electricity':7, 'share_seats_women_in_parliament':8, 'proportion_births_handled_by_skilled_personnel':9})"
   ]
  },
  {
   "cell_type": "markdown",
   "id": "4b33e60a",
   "metadata": {},
   "source": [
    "Examine the data to ensure the code was successful"
   ]
  },
  {
   "cell_type": "code",
   "execution_count": 244,
   "id": "8cddd660",
   "metadata": {},
   "outputs": [
    {
     "data": {
      "text/html": [
       "<div>\n",
       "<style scoped>\n",
       "    .dataframe tbody tr th:only-of-type {\n",
       "        vertical-align: middle;\n",
       "    }\n",
       "\n",
       "    .dataframe tbody tr th {\n",
       "        vertical-align: top;\n",
       "    }\n",
       "\n",
       "    .dataframe thead th {\n",
       "        text-align: right;\n",
       "    }\n",
       "</style>\n",
       "<table border=\"1\" class=\"dataframe\">\n",
       "  <thead>\n",
       "    <tr style=\"text-align: right;\">\n",
       "      <th></th>\n",
       "      <th>human_indicator_code</th>\n",
       "      <th>human_indicator_name</th>\n",
       "      <th>human_indicator_value</th>\n",
       "      <th>year</th>\n",
       "      <th>human_indicator_nameR</th>\n",
       "    </tr>\n",
       "  </thead>\n",
       "  <tbody>\n",
       "    <tr>\n",
       "      <th>1</th>\n",
       "      <td>31706</td>\n",
       "      <td>share_seats_women_in_parliament</td>\n",
       "      <td>13.333333</td>\n",
       "      <td>2017</td>\n",
       "      <td>8</td>\n",
       "    </tr>\n",
       "    <tr>\n",
       "      <th>7</th>\n",
       "      <td>69206</td>\n",
       "      <td>life_expectancy_at_birth</td>\n",
       "      <td>74.372000</td>\n",
       "      <td>2017</td>\n",
       "      <td>1</td>\n",
       "    </tr>\n",
       "    <tr>\n",
       "      <th>8</th>\n",
       "      <td>69706</td>\n",
       "      <td>expected_years_of_schooling</td>\n",
       "      <td>14.389470</td>\n",
       "      <td>2017</td>\n",
       "      <td>2</td>\n",
       "    </tr>\n",
       "    <tr>\n",
       "      <th>9</th>\n",
       "      <td>103006</td>\n",
       "      <td>mean_years_of_schooling</td>\n",
       "      <td>8.400000</td>\n",
       "      <td>2017</td>\n",
       "      <td>6</td>\n",
       "    </tr>\n",
       "    <tr>\n",
       "      <th>16</th>\n",
       "      <td>136706</td>\n",
       "      <td>gdp_per_capita</td>\n",
       "      <td>24654.385400</td>\n",
       "      <td>2017</td>\n",
       "      <td>3</td>\n",
       "    </tr>\n",
       "    <tr>\n",
       "      <th>...</th>\n",
       "      <td>...</td>\n",
       "      <td>...</td>\n",
       "      <td>...</td>\n",
       "      <td>...</td>\n",
       "      <td>...</td>\n",
       "    </tr>\n",
       "    <tr>\n",
       "      <th>519</th>\n",
       "      <td>69206</td>\n",
       "      <td>life_expectancy_at_birth</td>\n",
       "      <td>67.314000</td>\n",
       "      <td>1990</td>\n",
       "      <td>1</td>\n",
       "    </tr>\n",
       "    <tr>\n",
       "      <th>520</th>\n",
       "      <td>69706</td>\n",
       "      <td>expected_years_of_schooling</td>\n",
       "      <td>12.717320</td>\n",
       "      <td>1990</td>\n",
       "      <td>2</td>\n",
       "    </tr>\n",
       "    <tr>\n",
       "      <th>530</th>\n",
       "      <td>136706</td>\n",
       "      <td>gdp_per_capita</td>\n",
       "      <td>14326.225240</td>\n",
       "      <td>1990</td>\n",
       "      <td>3</td>\n",
       "    </tr>\n",
       "    <tr>\n",
       "      <th>531</th>\n",
       "      <td>141706</td>\n",
       "      <td>gross_national_income_per_capita</td>\n",
       "      <td>13992.051630</td>\n",
       "      <td>1990</td>\n",
       "      <td>5</td>\n",
       "    </tr>\n",
       "    <tr>\n",
       "      <th>537</th>\n",
       "      <td>181706</td>\n",
       "      <td>rural_population_access_electricity</td>\n",
       "      <td>82.082064</td>\n",
       "      <td>1990</td>\n",
       "      <td>7</td>\n",
       "    </tr>\n",
       "  </tbody>\n",
       "</table>\n",
       "<p>152 rows × 5 columns</p>\n",
       "</div>"
      ],
      "text/plain": [
       "     human_indicator_code                 human_indicator_name  \\\n",
       "1                   31706      share_seats_women_in_parliament   \n",
       "7                   69206             life_expectancy_at_birth   \n",
       "8                   69706          expected_years_of_schooling   \n",
       "9                  103006              mean_years_of_schooling   \n",
       "16                 136706                       gdp_per_capita   \n",
       "..                    ...                                  ...   \n",
       "519                 69206             life_expectancy_at_birth   \n",
       "520                 69706          expected_years_of_schooling   \n",
       "530                136706                       gdp_per_capita   \n",
       "531                141706     gross_national_income_per_capita   \n",
       "537                181706  rural_population_access_electricity   \n",
       "\n",
       "     human_indicator_value  year  human_indicator_nameR  \n",
       "1                13.333333  2017                      8  \n",
       "7                74.372000  2017                      1  \n",
       "8                14.389470  2017                      2  \n",
       "9                 8.400000  2017                      6  \n",
       "16            24654.385400  2017                      3  \n",
       "..                     ...   ...                    ...  \n",
       "519              67.314000  1990                      1  \n",
       "520              12.717320  1990                      2  \n",
       "530           14326.225240  1990                      3  \n",
       "531           13992.051630  1990                      5  \n",
       "537              82.082064  1990                      7  \n",
       "\n",
       "[152 rows x 5 columns]"
      ]
     },
     "metadata": {},
     "output_type": "display_data"
    }
   ],
   "source": [
    "display(human_indicators2)"
   ]
  },
  {
   "cell_type": "markdown",
   "id": "c71f43af",
   "metadata": {},
   "source": [
    "Identify columns with strings using 'dtypes' attribute, which returns the data type of each column. Filter the columns with string data type"
   ]
  },
  {
   "cell_type": "code",
   "execution_count": 245,
   "id": "8daf8788",
   "metadata": {},
   "outputs": [],
   "source": [
    "string_cols = human_indicators2.select_dtypes(include=['object']).columns"
   ]
  },
  {
   "cell_type": "code",
   "execution_count": 246,
   "id": "8cdf76e0",
   "metadata": {},
   "outputs": [
    {
     "data": {
      "text/plain": [
       "Index(['human_indicator_name'], dtype='object')"
      ]
     },
     "metadata": {},
     "output_type": "display_data"
    }
   ],
   "source": [
    "display (string_cols)"
   ]
  },
  {
   "cell_type": "code",
   "execution_count": 247,
   "id": "9bc708b0",
   "metadata": {},
   "outputs": [
    {
     "name": "stdout",
     "output_type": "stream",
     "text": [
      "human_indicator_code       int64\n",
      "human_indicator_name      object\n",
      "human_indicator_value    float64\n",
      "year                       int64\n",
      "human_indicator_nameR      int64\n",
      "dtype: object\n"
     ]
    }
   ],
   "source": [
    "print (human_indicators2.dtypes)"
   ]
  },
  {
   "cell_type": "markdown",
   "id": "5a5c1ad4",
   "metadata": {},
   "source": [
    "The data type is now numerical and ready for regression analysis"
   ]
  },
  {
   "cell_type": "markdown",
   "id": "2a1ab5cf",
   "metadata": {},
   "source": [
    "Reset the Index\n",
    "\n",
    "\n",
    "This makes it easy to manipulate the dataframe and help eliminate index-related errors or issues that may arise during analysis."
   ]
  },
  {
   "cell_type": "code",
   "execution_count": 248,
   "id": "cc626a3e",
   "metadata": {},
   "outputs": [
    {
     "data": {
      "text/html": [
       "<div>\n",
       "<style scoped>\n",
       "    .dataframe tbody tr th:only-of-type {\n",
       "        vertical-align: middle;\n",
       "    }\n",
       "\n",
       "    .dataframe tbody tr th {\n",
       "        vertical-align: top;\n",
       "    }\n",
       "\n",
       "    .dataframe thead th {\n",
       "        text-align: right;\n",
       "    }\n",
       "</style>\n",
       "<table border=\"1\" class=\"dataframe\">\n",
       "  <thead>\n",
       "    <tr style=\"text-align: right;\">\n",
       "      <th></th>\n",
       "      <th>human_indicator_code</th>\n",
       "      <th>human_indicator_name</th>\n",
       "      <th>human_indicator_value</th>\n",
       "      <th>year</th>\n",
       "      <th>human_indicator_nameR</th>\n",
       "    </tr>\n",
       "  </thead>\n",
       "  <tbody>\n",
       "    <tr>\n",
       "      <th>0</th>\n",
       "      <td>31706</td>\n",
       "      <td>share_seats_women_in_parliament</td>\n",
       "      <td>13.333333</td>\n",
       "      <td>2017</td>\n",
       "      <td>8</td>\n",
       "    </tr>\n",
       "    <tr>\n",
       "      <th>1</th>\n",
       "      <td>69206</td>\n",
       "      <td>life_expectancy_at_birth</td>\n",
       "      <td>74.372000</td>\n",
       "      <td>2017</td>\n",
       "      <td>1</td>\n",
       "    </tr>\n",
       "    <tr>\n",
       "      <th>2</th>\n",
       "      <td>69706</td>\n",
       "      <td>expected_years_of_schooling</td>\n",
       "      <td>14.389470</td>\n",
       "      <td>2017</td>\n",
       "      <td>2</td>\n",
       "    </tr>\n",
       "    <tr>\n",
       "      <th>3</th>\n",
       "      <td>103006</td>\n",
       "      <td>mean_years_of_schooling</td>\n",
       "      <td>8.400000</td>\n",
       "      <td>2017</td>\n",
       "      <td>6</td>\n",
       "    </tr>\n",
       "    <tr>\n",
       "      <th>4</th>\n",
       "      <td>136706</td>\n",
       "      <td>gdp_per_capita</td>\n",
       "      <td>24654.385400</td>\n",
       "      <td>2017</td>\n",
       "      <td>3</td>\n",
       "    </tr>\n",
       "    <tr>\n",
       "      <th>...</th>\n",
       "      <td>...</td>\n",
       "      <td>...</td>\n",
       "      <td>...</td>\n",
       "      <td>...</td>\n",
       "      <td>...</td>\n",
       "    </tr>\n",
       "    <tr>\n",
       "      <th>147</th>\n",
       "      <td>69206</td>\n",
       "      <td>life_expectancy_at_birth</td>\n",
       "      <td>67.314000</td>\n",
       "      <td>1990</td>\n",
       "      <td>1</td>\n",
       "    </tr>\n",
       "    <tr>\n",
       "      <th>148</th>\n",
       "      <td>69706</td>\n",
       "      <td>expected_years_of_schooling</td>\n",
       "      <td>12.717320</td>\n",
       "      <td>1990</td>\n",
       "      <td>2</td>\n",
       "    </tr>\n",
       "    <tr>\n",
       "      <th>149</th>\n",
       "      <td>136706</td>\n",
       "      <td>gdp_per_capita</td>\n",
       "      <td>14326.225240</td>\n",
       "      <td>1990</td>\n",
       "      <td>3</td>\n",
       "    </tr>\n",
       "    <tr>\n",
       "      <th>150</th>\n",
       "      <td>141706</td>\n",
       "      <td>gross_national_income_per_capita</td>\n",
       "      <td>13992.051630</td>\n",
       "      <td>1990</td>\n",
       "      <td>5</td>\n",
       "    </tr>\n",
       "    <tr>\n",
       "      <th>151</th>\n",
       "      <td>181706</td>\n",
       "      <td>rural_population_access_electricity</td>\n",
       "      <td>82.082064</td>\n",
       "      <td>1990</td>\n",
       "      <td>7</td>\n",
       "    </tr>\n",
       "  </tbody>\n",
       "</table>\n",
       "<p>152 rows × 5 columns</p>\n",
       "</div>"
      ],
      "text/plain": [
       "     human_indicator_code                 human_indicator_name  \\\n",
       "0                   31706      share_seats_women_in_parliament   \n",
       "1                   69206             life_expectancy_at_birth   \n",
       "2                   69706          expected_years_of_schooling   \n",
       "3                  103006              mean_years_of_schooling   \n",
       "4                  136706                       gdp_per_capita   \n",
       "..                    ...                                  ...   \n",
       "147                 69206             life_expectancy_at_birth   \n",
       "148                 69706          expected_years_of_schooling   \n",
       "149                136706                       gdp_per_capita   \n",
       "150                141706     gross_national_income_per_capita   \n",
       "151                181706  rural_population_access_electricity   \n",
       "\n",
       "     human_indicator_value  year  human_indicator_nameR  \n",
       "0                13.333333  2017                      8  \n",
       "1                74.372000  2017                      1  \n",
       "2                14.389470  2017                      2  \n",
       "3                 8.400000  2017                      6  \n",
       "4             24654.385400  2017                      3  \n",
       "..                     ...   ...                    ...  \n",
       "147              67.314000  1990                      1  \n",
       "148              12.717320  1990                      2  \n",
       "149           14326.225240  1990                      3  \n",
       "150           13992.051630  1990                      5  \n",
       "151              82.082064  1990                      7  \n",
       "\n",
       "[152 rows x 5 columns]"
      ]
     },
     "execution_count": 248,
     "metadata": {},
     "output_type": "execute_result"
    }
   ],
   "source": [
    "human_indicators2.reset_index(drop=True)"
   ]
  },
  {
   "cell_type": "markdown",
   "id": "ff787160",
   "metadata": {},
   "source": [
    "Testing For Assumptions\n",
    "\n",
    "\n",
    "Testing for assumptions is important when preparing to do linear regression because it helps to ensure that the results obtained from the regression analysis are reliable and accurate.\n",
    "\n",
    "There are several assumptions that must be met for regression analysis to produce valid results. Some of these assumptions include:\n",
    "\n",
    "Linearity: The relationship between the dependent and independent variables should be linear.\n",
    "\n",
    "Independence: The observations should be independent of each other.\n",
    "\n",
    "Homoscedasticity: The variance of the residuals should be constant for all levels of the independent variables.\n",
    "\n",
    "Normality: The residuals should be normally distributed.\n",
    "\n",
    "No multicollinearity: The independent variables should not be highly correlated with each other.\n",
    "\n",
    "By testing for these assumptions, it is possible to identify any potential issues with the data and make necessary adjustments before conducting the regression analysis. This helps to improve the accuracy and reliability of the results and provides more meaningful insights into the relationship between the variables being studied."
   ]
  },
  {
   "cell_type": "markdown",
   "id": "cfabb2c9",
   "metadata": {},
   "source": [
    "Check For Linearity\n",
    "\n",
    "Checking for linearity is important because simple linear regression assumes that there is a linear relationship between the independent variable (time) and the dependent variable (human development index). If the relationship between the two variables is non-linear, the results of the regression analysis may not be meaningful or accurate.\n",
    "\n",
    "In general, if the relationship between the variables is non-linear, it may be necessary to transform one or both of the variables to make the relationship linear. This could involve transforming the variables using techniques such as logarithmic transformation or polynomial transformation.\n",
    "Checking for linearity is an important step in the regression analysis process, as it helps ensure that the results of the analysis are meaningful and accurate.\n"
   ]
  },
  {
   "cell_type": "code",
   "execution_count": 249,
   "id": "999edb3f",
   "metadata": {},
   "outputs": [],
   "source": [
    "from pylab import *\n",
    "%matplotlib inline\n",
    "import  statsmodels.api as sm\n",
    "import statsmodels.stats.api as sms\n",
    "from scipy.stats import boxcox"
   ]
  },
  {
   "cell_type": "code",
   "execution_count": 250,
   "id": "395d512f",
   "metadata": {},
   "outputs": [
    {
     "data": {
      "text/html": [
       "<div>\n",
       "<style scoped>\n",
       "    .dataframe tbody tr th:only-of-type {\n",
       "        vertical-align: middle;\n",
       "    }\n",
       "\n",
       "    .dataframe tbody tr th {\n",
       "        vertical-align: top;\n",
       "    }\n",
       "\n",
       "    .dataframe thead th {\n",
       "        text-align: right;\n",
       "    }\n",
       "</style>\n",
       "<table border=\"1\" class=\"dataframe\">\n",
       "  <thead>\n",
       "    <tr style=\"text-align: right;\">\n",
       "      <th></th>\n",
       "      <th>human_indicator_code</th>\n",
       "      <th>human_indicator_name</th>\n",
       "      <th>human_indicator_value</th>\n",
       "      <th>year</th>\n",
       "      <th>human_indicator_nameR</th>\n",
       "    </tr>\n",
       "  </thead>\n",
       "  <tbody>\n",
       "    <tr>\n",
       "      <th>1</th>\n",
       "      <td>31706</td>\n",
       "      <td>share_seats_women_in_parliament</td>\n",
       "      <td>13.333333</td>\n",
       "      <td>2017</td>\n",
       "      <td>8</td>\n",
       "    </tr>\n",
       "    <tr>\n",
       "      <th>7</th>\n",
       "      <td>69206</td>\n",
       "      <td>life_expectancy_at_birth</td>\n",
       "      <td>74.372000</td>\n",
       "      <td>2017</td>\n",
       "      <td>1</td>\n",
       "    </tr>\n",
       "    <tr>\n",
       "      <th>8</th>\n",
       "      <td>69706</td>\n",
       "      <td>expected_years_of_schooling</td>\n",
       "      <td>14.389470</td>\n",
       "      <td>2017</td>\n",
       "      <td>2</td>\n",
       "    </tr>\n",
       "    <tr>\n",
       "      <th>9</th>\n",
       "      <td>103006</td>\n",
       "      <td>mean_years_of_schooling</td>\n",
       "      <td>8.400000</td>\n",
       "      <td>2017</td>\n",
       "      <td>6</td>\n",
       "    </tr>\n",
       "    <tr>\n",
       "      <th>16</th>\n",
       "      <td>136706</td>\n",
       "      <td>gdp_per_capita</td>\n",
       "      <td>24654.385400</td>\n",
       "      <td>2017</td>\n",
       "      <td>3</td>\n",
       "    </tr>\n",
       "  </tbody>\n",
       "</table>\n",
       "</div>"
      ],
      "text/plain": [
       "    human_indicator_code             human_indicator_name  \\\n",
       "1                  31706  share_seats_women_in_parliament   \n",
       "7                  69206         life_expectancy_at_birth   \n",
       "8                  69706      expected_years_of_schooling   \n",
       "9                 103006          mean_years_of_schooling   \n",
       "16                136706                   gdp_per_capita   \n",
       "\n",
       "    human_indicator_value  year  human_indicator_nameR  \n",
       "1               13.333333  2017                      8  \n",
       "7               74.372000  2017                      1  \n",
       "8               14.389470  2017                      2  \n",
       "9                8.400000  2017                      6  \n",
       "16           24654.385400  2017                      3  "
      ]
     },
     "execution_count": 250,
     "metadata": {},
     "output_type": "execute_result"
    }
   ],
   "source": [
    "human_indicators2.head()"
   ]
  },
  {
   "cell_type": "markdown",
   "id": "2ef65553",
   "metadata": {},
   "source": [
    "`sns.pairplot` is a function from the seaborn library in Python that creates a matrix of pairwise relationships between variables in a dataframe. It is a useful tool for exploring and visualizing the relationships between multiple variables in a dataset. By plotting each variable against all the others, it allows you to quickly identify relationships between variables, as well as to see any distributional characteristics of the data. The kind parameter in sns.pairplot allows you to specify the type of plot you want to create, such as scatter plots, histograms, or kernel density plots. sns.pairplot is a quick and convenient way to get an overview of the relationships between variables in a dataset, and it can help inform further analysis, such as regression or clustering, by providing a visual representation of the relationships between variables.\n"
   ]
  },
  {
   "cell_type": "code",
   "execution_count": 251,
   "id": "af68d9a5",
   "metadata": {},
   "outputs": [
    {
     "data": {
      "text/plain": [
       "<seaborn.axisgrid.PairGrid at 0x2688a112020>"
      ]
     },
     "execution_count": 251,
     "metadata": {},
     "output_type": "execute_result"
    },
    {
     "data": {
      "image/png": "[encoded data removed]",
      "text/plain": [
       "<Figure size 1000x1000 with 20 Axes>"
      ]
     },
     "metadata": {},
     "output_type": "display_data"
    }
   ],
   "source": [
    "sns.pairplot(human_indicators2)"
   ]
  },
  {
   "cell_type": "code",
   "execution_count": 252,
   "id": "74a6aa59",
   "metadata": {},
   "outputs": [
    {
     "data": {
      "text/plain": [
       "<AxesSubplot: xlabel='human_indicator_code', ylabel='Density'>"
      ]
     },
     "execution_count": 252,
     "metadata": {},
     "output_type": "execute_result"
    },
    {
     "data": {
      "image/png": "[encoded data removed]",
      "text/plain": [
       "<Figure size 640x480 with 1 Axes>"
      ]
     },
     "metadata": {},
     "output_type": "display_data"
    }
   ],
   "source": [
    "sns.histplot(\n",
    "    human_indicators2[\"human_indicator_code\"], kde=True,\n",
    "    stat=\"density\", kde_kws=dict(cut=3),\n",
    "    alpha=.4, edgecolor=(1, 1, 1, .4),\n",
    ")"
   ]
  },
  {
   "cell_type": "code",
   "execution_count": 253,
   "id": "f75af88b",
   "metadata": {},
   "outputs": [
    {
     "data": {
      "text/plain": [
       "<AxesSubplot: xlabel='human_indicator_value', ylabel='Density'>"
      ]
     },
     "execution_count": 253,
     "metadata": {},
     "output_type": "execute_result"
    },
    {
     "data": {
      "image/png": "[encoded data removed]",
      "text/plain": [
       "<Figure size 640x480 with 1 Axes>"
      ]
     },
     "metadata": {},
     "output_type": "display_data"
    }
   ],
   "source": [
    "sns.histplot(\n",
    "    human_indicators2[\"human_indicator_value\"], kde=True,\n",
    "    stat=\"density\", kde_kws=dict(cut=3),\n",
    "    alpha=.4, edgecolor=(1, 1, 1, .4),\n",
    ")"
   ]
  },
  {
   "cell_type": "code",
   "execution_count": 254,
   "id": "d0afa228",
   "metadata": {},
   "outputs": [
    {
     "data": {
      "text/plain": [
       "<AxesSubplot: xlabel='year', ylabel='Density'>"
      ]
     },
     "execution_count": 254,
     "metadata": {},
     "output_type": "execute_result"
    },
    {
     "data": {
      "image/png": "[encoded data removed]",
      "text/plain": [
       "<Figure size 640x480 with 1 Axes>"
      ]
     },
     "metadata": {},
     "output_type": "display_data"
    }
   ],
   "source": [
    "sns.histplot(\n",
    "    human_indicators2[\"year\"], kde=True,\n",
    "    stat=\"density\", kde_kws=dict(cut=3),\n",
    "    alpha=.4, edgecolor=(1, 1, 1, .4),\n",
    ")"
   ]
  },
  {
   "cell_type": "code",
   "execution_count": 255,
   "id": "35082b6b",
   "metadata": {},
   "outputs": [
    {
     "data": {
      "text/plain": [
       "<AxesSubplot: xlabel='human_indicator_nameR', ylabel='Density'>"
      ]
     },
     "execution_count": 255,
     "metadata": {},
     "output_type": "execute_result"
    },
    {
     "data": {
      "image/png": "[encoded data removed]",
      "text/plain": [
       "<Figure size 640x480 with 1 Axes>"
      ]
     },
     "metadata": {},
     "output_type": "display_data"
    }
   ],
   "source": [
    "sns.histplot(\n",
    "    human_indicators2[\"human_indicator_nameR\"], kde=True,\n",
    "    stat=\"density\", kde_kws=dict(cut=3),\n",
    "    alpha=.4, edgecolor=(1, 1, 1, .4),\n",
    ")"
   ]
  },
  {
   "cell_type": "code",
   "execution_count": null,
   "id": "805dc70b",
   "metadata": {},
   "outputs": [],
   "source": []
  },
  {
   "cell_type": "markdown",
   "id": "e3751f78",
   "metadata": {},
   "source": [
    "Test For Homoscedasticity"
   ]
  },
  {
   "cell_type": "markdown",
   "id": "55a3c4bf",
   "metadata": {},
   "source": [
    "Homoscedasticity is an important assumption in regression analysis that states that the variance of the residuals (errors) is constant across the range of the independent variable. In other words, the spread of the residuals is the same regardless of the value of the independent variable.\n",
    "\n",
    "This assumption is important because if the residuals are heteroscedastic (the spread is not constant), then the results of the regression analysis may be biased and unreliable. For example, if the residuals are larger for larger values of the independent variable, then the regression line will tend to underestimate the response for large values and overestimate it for small values. This can lead to incorrect conclusions about the relationship between the independent and dependent variables.\n",
    "\n",
    "Therefore, checking for homoscedasticity is an important step in regression analysis to ensure that the results are valid and trustworthy. There are various statistical tests and visual methods that can be used to check for homoscedasticity, such as the Breusch-Pagan test, the White test, and residual plots.\n",
    "\n",
    "Create The Basic Model"
   ]
  },
  {
   "cell_type": "code",
   "execution_count": 256,
   "id": "b85ada90",
   "metadata": {},
   "outputs": [],
   "source": [
    "x = human_indicators2['human_indicator_nameR']\n",
    "y = human_indicators2['human_indicator_value']"
   ]
  },
  {
   "cell_type": "markdown",
   "id": "288019dd",
   "metadata": {},
   "source": [
    "Build the Basic Model"
   ]
  },
  {
   "cell_type": "code",
   "execution_count": 257,
   "id": "1ffebedd",
   "metadata": {},
   "outputs": [],
   "source": [
    "human_indicators2_model = sm.OLS(y,x).fit()"
   ]
  },
  {
   "cell_type": "markdown",
   "id": "acde5b17",
   "metadata": {},
   "source": [
    "Test for Homoscedasticity"
   ]
  },
  {
   "cell_type": "code",
   "execution_count": 258,
   "id": "cb6ac7c4",
   "metadata": {},
   "outputs": [],
   "source": [
    "pred_val = human_indicators2_model.fittedvalues.copy()\n",
    "true_val = human_indicators2['human_indicator_nameR'].values.copy()\n",
    "residual = true_val - pred_val"
   ]
  },
  {
   "cell_type": "markdown",
   "id": "b5f829f5",
   "metadata": {},
   "source": [
    "Graph it"
   ]
  },
  {
   "cell_type": "code",
   "execution_count": 259,
   "id": "3b6a4cca",
   "metadata": {},
   "outputs": [
    {
     "data": {
      "image/png": "[encoded data removed]",
      "text/plain": [
       "<Figure size 600x250 with 1 Axes>"
      ]
     },
     "metadata": {},
     "output_type": "display_data"
    }
   ],
   "source": [
    "fig, ax = plt.subplots(figsize=(6, 2.5))\n",
    "_ = ax.scatter(residual, pred_val)"
   ]
  },
  {
   "cell_type": "markdown",
   "id": "de5064ec",
   "metadata": {},
   "source": [
    "Double Check the Graph with statistics"
   ]
  },
  {
   "cell_type": "code",
   "execution_count": 260,
   "id": "45b1d33f",
   "metadata": {},
   "outputs": [
    {
     "data": {
      "text/plain": [
       "(14.738885095330474, nan, 16.214145214692486, 8.928146245932116e-05)"
      ]
     },
     "execution_count": 260,
     "metadata": {},
     "output_type": "execute_result"
    }
   ],
   "source": [
    "sms.diagnostic.het_breuschpagan(residual, human_indicators2[['human_indicator_value']])"
   ]
  },
  {
   "cell_type": "markdown",
   "id": "3e2deebb",
   "metadata": {},
   "source": [
    "16.21 : This is the  F value to test for homoscedasticity. Life all F values, the bigger it is, the more likely it is to be statistically significant. \n",
    "    \n",
    "\n",
    "    00000.89: This is the p value to test for homoscedasticity. if it is > .05 (not statistically significant), then this means the assumption for homoscedasticity has been met.  "
   ]
  },
  {
   "cell_type": "markdown",
   "id": "54f56aa2",
   "metadata": {},
   "source": [
    "Havier Collier Test"
   ]
  },
  {
   "cell_type": "code",
   "execution_count": 262,
   "id": "f71e2824",
   "metadata": {},
   "outputs": [
    {
     "data": {
      "text/plain": [
       "Ttest_1sampResult(statistic=2.485162149569125, pvalue=0.014062283228318434)"
      ]
     },
     "execution_count": 262,
     "metadata": {},
     "output_type": "execute_result"
    }
   ],
   "source": [
    "sms.linear_harvey_collier(human_indicators2_model)"
   ]
  },
  {
   "cell_type": "markdown",
   "id": "44256422",
   "metadata": {},
   "source": [
    "It shows the assumption is violated. This makes sense since the data shows heteroscedasticity."
   ]
  }
 ],
 "metadata": {
  "kernelspec": {
   "display_name": "Python 3 (ipykernel)",
   "language": "python",
   "name": "python3"
  },
  "language_info": {
   "codemirror_mode": {
    "name": "ipython",
    "version": 3
   },
   "file_extension": ".py",
   "mimetype": "text/x-python",
   "name": "python",
   "nbconvert_exporter": "python",
   "pygments_lexer": "ipython3",
   "version": "3.10.6"
  }
 },
 "nbformat": 4,
 "nbformat_minor": 5
}
