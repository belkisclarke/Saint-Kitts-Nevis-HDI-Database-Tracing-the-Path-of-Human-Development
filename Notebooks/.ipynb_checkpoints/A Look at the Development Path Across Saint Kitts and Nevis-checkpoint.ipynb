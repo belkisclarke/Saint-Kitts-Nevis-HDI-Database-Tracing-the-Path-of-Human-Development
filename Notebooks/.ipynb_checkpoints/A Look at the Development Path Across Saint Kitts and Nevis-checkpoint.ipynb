{
 "cells": [
  {
   "cell_type": "markdown",
   "id": "3674932c",
   "metadata": {},
   "source": [
    "This project aims to create a data lake solution to analyze the trend in human development indicators in Saint Kitts and Nevis over time. The data lake will be built using the data from https://data.world/hdro/663862f6-ca08-4957-8b5e-51471cedd04f/workspace/file?filename=human-development-indicators-for-saint-kitts-and-nevis-1.csv\n",
    "\n",
    "The Analysis Question being looked at is : What humam factors contribute the most to human development in Saint Kitts and Nevis and how have they changed over time?\n",
    "\n",
    "Data Wrangling For Data prepration and exploration, the following packages will be useful:\n",
    "\n",
    "Pandas: For loading, cleaning, and manipulating data.\n",
    "\n",
    "Numpy: For mathematical and scientific computing.\n",
    "\n",
    "Matplotlib: for visulaizing data and creating graphs and charts\n",
    "\n",
    "Seaborn : For creating more advanced visulization and charts\n",
    "\n",
    "Sckit-learn : For machine learning and data analysis.\n",
    "\n",
    "Import Dataset Human development indicators for Saint Kitts and Nevis\n",
    "\n",
    "Import Packages"
   ]
  },
  {
   "cell_type": "code",
   "execution_count": 1247,
   "id": "d731809b",
   "metadata": {},
   "outputs": [],
   "source": [
    "import pandas as pd\n",
    "import numpy as np\n",
    "import matplotlib.pyplot as plt\n",
    "import seaborn as sns\n",
    "from sklearn.linear_model import LinearRegression\n",
    "from pandas.plotting import scatter_matrix\n",
    "from sklearn.preprocessing import StandardScaler\n",
    "from sklearn.model_selection import train_test_split\n",
    "from sklearn.metrics import mean_squared_error, r2_score"
   ]
  },
  {
   "cell_type": "markdown",
   "id": "bcc1604b",
   "metadata": {},
   "source": [
    "Import Data"
   ]
  },
  {
   "cell_type": "code",
   "execution_count": 1248,
   "id": "a8089131",
   "metadata": {},
   "outputs": [],
   "source": [
    "human_indicators = pd.read_csv(\"C:/Users/admin/Desktop/Entity/Final Project/Datasets/human-development-indicators-for-saint-kitts-and-nevis.csv\")"
   ]
  },
  {
   "cell_type": "code",
   "execution_count": 1249,
   "id": "0bc5e030",
   "metadata": {},
   "outputs": [
    {
     "data": {
      "text/html": [
       "<div>\n",
       "<style scoped>\n",
       "    .dataframe tbody tr th:only-of-type {\n",
       "        vertical-align: middle;\n",
       "    }\n",
       "\n",
       "    .dataframe tbody tr th {\n",
       "        vertical-align: top;\n",
       "    }\n",
       "\n",
       "    .dataframe thead th {\n",
       "        text-align: right;\n",
       "    }\n",
       "</style>\n",
       "<table border=\"1\" class=\"dataframe\">\n",
       "  <thead>\n",
       "    <tr style=\"text-align: right;\">\n",
       "      <th></th>\n",
       "      <th>#country+code</th>\n",
       "      <th>#country+name</th>\n",
       "      <th>#indicator+code</th>\n",
       "      <th>#indicator+name</th>\n",
       "      <th>#indicator+value+num</th>\n",
       "      <th>#date+year</th>\n",
       "    </tr>\n",
       "  </thead>\n",
       "  <tbody>\n",
       "    <tr>\n",
       "      <th>0</th>\n",
       "      <td>KNA</td>\n",
       "      <td>Saint Kitts and Nevis</td>\n",
       "      <td>21806</td>\n",
       "      <td>Refugees by country of origin (thousands)</td>\n",
       "      <td>0.050000</td>\n",
       "      <td>2017</td>\n",
       "    </tr>\n",
       "    <tr>\n",
       "      <th>1</th>\n",
       "      <td>KNA</td>\n",
       "      <td>Saint Kitts and Nevis</td>\n",
       "      <td>31706</td>\n",
       "      <td>Share of seats in parliament (% held by women)</td>\n",
       "      <td>13.333333</td>\n",
       "      <td>2017</td>\n",
       "    </tr>\n",
       "    <tr>\n",
       "      <th>2</th>\n",
       "      <td>KNA</td>\n",
       "      <td>Saint Kitts and Nevis</td>\n",
       "      <td>44206</td>\n",
       "      <td>Total population (millions)</td>\n",
       "      <td>0.055345</td>\n",
       "      <td>2017</td>\n",
       "    </tr>\n",
       "    <tr>\n",
       "      <th>3</th>\n",
       "      <td>KNA</td>\n",
       "      <td>Saint Kitts and Nevis</td>\n",
       "      <td>45106</td>\n",
       "      <td>Urban population (%)</td>\n",
       "      <td>30.800000</td>\n",
       "      <td>2017</td>\n",
       "    </tr>\n",
       "    <tr>\n",
       "      <th>4</th>\n",
       "      <td>KNA</td>\n",
       "      <td>Saint Kitts and Nevis</td>\n",
       "      <td>52606</td>\n",
       "      <td>Remittances, inflows (% of GDP)</td>\n",
       "      <td>1.124040</td>\n",
       "      <td>2017</td>\n",
       "    </tr>\n",
       "  </tbody>\n",
       "</table>\n",
       "</div>"
      ],
      "text/plain": [
       "  #country+code          #country+name  #indicator+code  \\\n",
       "0           KNA  Saint Kitts and Nevis            21806   \n",
       "1           KNA  Saint Kitts and Nevis            31706   \n",
       "2           KNA  Saint Kitts and Nevis            44206   \n",
       "3           KNA  Saint Kitts and Nevis            45106   \n",
       "4           KNA  Saint Kitts and Nevis            52606   \n",
       "\n",
       "                                  #indicator+name  #indicator+value+num  \\\n",
       "0       Refugees by country of origin (thousands)              0.050000   \n",
       "1  Share of seats in parliament (% held by women)             13.333333   \n",
       "2                     Total population (millions)              0.055345   \n",
       "3                            Urban population (%)             30.800000   \n",
       "4                 Remittances, inflows (% of GDP)              1.124040   \n",
       "\n",
       "   #date+year  \n",
       "0        2017  \n",
       "1        2017  \n",
       "2        2017  \n",
       "3        2017  \n",
       "4        2017  "
      ]
     },
     "execution_count": 1249,
     "metadata": {},
     "output_type": "execute_result"
    }
   ],
   "source": [
    "human_indicators.head()"
   ]
  },
  {
   "cell_type": "code",
   "execution_count": 1250,
   "id": "80523b96",
   "metadata": {},
   "outputs": [
    {
     "data": {
      "text/plain": [
       "(538, 6)"
      ]
     },
     "execution_count": 1250,
     "metadata": {},
     "output_type": "execute_result"
    }
   ],
   "source": [
    "human_indicators.shape"
   ]
  },
  {
   "cell_type": "markdown",
   "id": "1578a390",
   "metadata": {},
   "source": [
    "Take a look at the data to observe the structure and get familiar with the contents. "
   ]
  },
  {
   "cell_type": "code",
   "execution_count": 1251,
   "id": "40aaa95d",
   "metadata": {},
   "outputs": [
    {
     "name": "stdout",
     "output_type": "stream",
     "text": [
      "<class 'pandas.core.frame.DataFrame'>\n",
      "RangeIndex: 538 entries, 0 to 537\n",
      "Data columns (total 6 columns):\n",
      " #   Column                Non-Null Count  Dtype  \n",
      "---  ------                --------------  -----  \n",
      " 0   #country+code         538 non-null    object \n",
      " 1   #country+name         538 non-null    object \n",
      " 2   #indicator+code       538 non-null    int64  \n",
      " 3   #indicator+name       538 non-null    object \n",
      " 4   #indicator+value+num  538 non-null    float64\n",
      " 5   #date+year            538 non-null    int64  \n",
      "dtypes: float64(1), int64(2), object(3)\n",
      "memory usage: 25.3+ KB\n"
     ]
    }
   ],
   "source": [
    "human_indicators.info()"
   ]
  },
  {
   "cell_type": "markdown",
   "id": "eb4bd3d3",
   "metadata": {},
   "source": [
    "Double Check the data was uploaded correctly as a dataframe. "
   ]
  },
  {
   "cell_type": "code",
   "execution_count": 1252,
   "id": "5331a321",
   "metadata": {},
   "outputs": [
    {
     "name": "stdout",
     "output_type": "stream",
     "text": [
      "<class 'pandas.core.frame.DataFrame'>\n"
     ]
    }
   ],
   "source": [
    "print(type(human_indicators))"
   ]
  },
  {
   "cell_type": "markdown",
   "id": "91bade86",
   "metadata": {},
   "source": [
    "It is a DataFrame\n",
    "\n",
    "Create a function using the 'def' keyword. The function retruns the dataframe when called. The fucntion can be pulled multiple times to retrieve information in the dataframe."
   ]
  },
  {
   "cell_type": "code",
   "execution_count": 1253,
   "id": "3eec37d6",
   "metadata": {},
   "outputs": [],
   "source": [
    "def human_indicators_function():\n",
    "    return human_indicators"
   ]
  },
  {
   "cell_type": "markdown",
   "id": "b4c69188",
   "metadata": {},
   "source": [
    "Call the function"
   ]
  },
  {
   "cell_type": "code",
   "execution_count": 1254,
   "id": "a585b8d3",
   "metadata": {},
   "outputs": [],
   "source": [
    "result = human_indicators_function()"
   ]
  },
  {
   "cell_type": "markdown",
   "id": "ab770b4a",
   "metadata": {},
   "source": [
    "Print the results to make sure that the code was succesful"
   ]
  },
  {
   "cell_type": "code",
   "execution_count": 1255,
   "id": "7b7f2346",
   "metadata": {},
   "outputs": [
    {
     "name": "stdout",
     "output_type": "stream",
     "text": [
      "    #country+code          #country+name  #indicator+code  \\\n",
      "0             KNA  Saint Kitts and Nevis            21806   \n",
      "1             KNA  Saint Kitts and Nevis            31706   \n",
      "2             KNA  Saint Kitts and Nevis            44206   \n",
      "3             KNA  Saint Kitts and Nevis            45106   \n",
      "4             KNA  Saint Kitts and Nevis            52606   \n",
      "..            ...                    ...              ...   \n",
      "533           KNA  Saint Kitts and Nevis           163906   \n",
      "534           KNA  Saint Kitts and Nevis           174306   \n",
      "535           KNA  Saint Kitts and Nevis           174406   \n",
      "536           KNA  Saint Kitts and Nevis           175206   \n",
      "537           KNA  Saint Kitts and Nevis           181706   \n",
      "\n",
      "                                       #indicator+name  #indicator+value+num  \\\n",
      "0            Refugees by country of origin (thousands)              0.050000   \n",
      "1       Share of seats in parliament (% held by women)             13.333333   \n",
      "2                          Total population (millions)              0.055345   \n",
      "3                                 Urban population (%)             30.800000   \n",
      "4                      Remittances, inflows (% of GDP)              1.124040   \n",
      "..                                                 ...                   ...   \n",
      "533  Renewable energy consumption (% of total final...             40.032326   \n",
      "534  Fossil fuel energy consumption (% of total ene...              0.000000   \n",
      "535  Carbon dioxide emissions (kg per 2011 PPP $ of...              0.181784   \n",
      "536    Antenatal care coverage, at least one visit (%)            100.000000   \n",
      "537    Rural population with access to electricity (%)             82.082064   \n",
      "\n",
      "     #date+year  \n",
      "0          2017  \n",
      "1          2017  \n",
      "2          2017  \n",
      "3          2017  \n",
      "4          2017  \n",
      "..          ...  \n",
      "533        1990  \n",
      "534        1990  \n",
      "535        1990  \n",
      "536        1990  \n",
      "537        1990  \n",
      "\n",
      "[538 rows x 6 columns]\n"
     ]
    }
   ],
   "source": [
    "print(result)"
   ]
  },
  {
   "cell_type": "markdown",
   "id": "59463375",
   "metadata": {},
   "source": [
    "Check for Missing values\n",
    "\n",
    "The 'isna' method is used to check for missing values in the dataframe. The result is a datframe with the same shape as the original data frame, where each element is 'True' if the corresponding value in the original dataframe is missing, and 'False' otherwise.\n",
    "\n",
    "the 'sum' method is then used to count the number of missing values in each column. The result is a series with the number of missing values for each column.\n",
    "\n",
    "Call the function to retrieve the data frame"
   ]
  },
  {
   "cell_type": "code",
   "execution_count": 1256,
   "id": "c64d0dd1",
   "metadata": {},
   "outputs": [],
   "source": [
    "human_indicators1 =human_indicators_function()"
   ]
  },
  {
   "cell_type": "markdown",
   "id": "47662036",
   "metadata": {},
   "source": [
    "Check for Missing Vlaues"
   ]
  },
  {
   "cell_type": "code",
   "execution_count": 1257,
   "id": "9fe1dc29",
   "metadata": {},
   "outputs": [],
   "source": [
    "missing_values = human_indicators1 = human_indicators.isna()"
   ]
  },
  {
   "cell_type": "markdown",
   "id": "9c7843be",
   "metadata": {},
   "source": [
    "Take a look to make sure it was successful.\n",
    "\n",
    "Print the Results"
   ]
  },
  {
   "cell_type": "code",
   "execution_count": 1258,
   "id": "3ccec3d7",
   "metadata": {},
   "outputs": [
    {
     "name": "stdout",
     "output_type": "stream",
     "text": [
      "#country+code           0\n",
      "#country+name           0\n",
      "#indicator+code         0\n",
      "#indicator+name         0\n",
      "#indicator+value+num    0\n",
      "#date+year              0\n",
      "dtype: int64\n"
     ]
    }
   ],
   "source": [
    "print(missing_values.sum())"
   ]
  },
  {
   "cell_type": "markdown",
   "id": "da809ff7",
   "metadata": {},
   "source": [
    "There are no missing results.\n",
    "\n",
    "Continue with Wrangling.\n",
    "\n",
    "Rename Columns then check it was done succesfully"
   ]
  },
  {
   "cell_type": "code",
   "execution_count": 1259,
   "id": "17cabab7",
   "metadata": {},
   "outputs": [],
   "source": [
    "human_indicators.rename(columns={'#indicator+value+num':'human_indicator_value',\n",
    "                                         '#country+name':'country_name',\n",
    "                                         '#indicator+code':'human_indicator_code',\n",
    "                                         '#indicator+name':'human_indicator_name',\n",
    "                                         '#date+year':'year'}, inplace=True)"
   ]
  },
  {
   "cell_type": "code",
   "execution_count": 1260,
   "id": "88d0eb5c",
   "metadata": {},
   "outputs": [
    {
     "data": {
      "text/html": [
       "<div>\n",
       "<style scoped>\n",
       "    .dataframe tbody tr th:only-of-type {\n",
       "        vertical-align: middle;\n",
       "    }\n",
       "\n",
       "    .dataframe tbody tr th {\n",
       "        vertical-align: top;\n",
       "    }\n",
       "\n",
       "    .dataframe thead th {\n",
       "        text-align: right;\n",
       "    }\n",
       "</style>\n",
       "<table border=\"1\" class=\"dataframe\">\n",
       "  <thead>\n",
       "    <tr style=\"text-align: right;\">\n",
       "      <th></th>\n",
       "      <th>#country+code</th>\n",
       "      <th>country_name</th>\n",
       "      <th>human_indicator_code</th>\n",
       "      <th>human_indicator_name</th>\n",
       "      <th>human_indicator_value</th>\n",
       "      <th>year</th>\n",
       "    </tr>\n",
       "  </thead>\n",
       "  <tbody>\n",
       "    <tr>\n",
       "      <th>0</th>\n",
       "      <td>KNA</td>\n",
       "      <td>Saint Kitts and Nevis</td>\n",
       "      <td>21806</td>\n",
       "      <td>Refugees by country of origin (thousands)</td>\n",
       "      <td>0.050000</td>\n",
       "      <td>2017</td>\n",
       "    </tr>\n",
       "    <tr>\n",
       "      <th>1</th>\n",
       "      <td>KNA</td>\n",
       "      <td>Saint Kitts and Nevis</td>\n",
       "      <td>31706</td>\n",
       "      <td>Share of seats in parliament (% held by women)</td>\n",
       "      <td>13.333333</td>\n",
       "      <td>2017</td>\n",
       "    </tr>\n",
       "    <tr>\n",
       "      <th>2</th>\n",
       "      <td>KNA</td>\n",
       "      <td>Saint Kitts and Nevis</td>\n",
       "      <td>44206</td>\n",
       "      <td>Total population (millions)</td>\n",
       "      <td>0.055345</td>\n",
       "      <td>2017</td>\n",
       "    </tr>\n",
       "    <tr>\n",
       "      <th>3</th>\n",
       "      <td>KNA</td>\n",
       "      <td>Saint Kitts and Nevis</td>\n",
       "      <td>45106</td>\n",
       "      <td>Urban population (%)</td>\n",
       "      <td>30.800000</td>\n",
       "      <td>2017</td>\n",
       "    </tr>\n",
       "    <tr>\n",
       "      <th>4</th>\n",
       "      <td>KNA</td>\n",
       "      <td>Saint Kitts and Nevis</td>\n",
       "      <td>52606</td>\n",
       "      <td>Remittances, inflows (% of GDP)</td>\n",
       "      <td>1.124040</td>\n",
       "      <td>2017</td>\n",
       "    </tr>\n",
       "  </tbody>\n",
       "</table>\n",
       "</div>"
      ],
      "text/plain": [
       "  #country+code           country_name  human_indicator_code  \\\n",
       "0           KNA  Saint Kitts and Nevis                 21806   \n",
       "1           KNA  Saint Kitts and Nevis                 31706   \n",
       "2           KNA  Saint Kitts and Nevis                 44206   \n",
       "3           KNA  Saint Kitts and Nevis                 45106   \n",
       "4           KNA  Saint Kitts and Nevis                 52606   \n",
       "\n",
       "                             human_indicator_name  human_indicator_value  year  \n",
       "0       Refugees by country of origin (thousands)               0.050000  2017  \n",
       "1  Share of seats in parliament (% held by women)              13.333333  2017  \n",
       "2                     Total population (millions)               0.055345  2017  \n",
       "3                            Urban population (%)              30.800000  2017  \n",
       "4                 Remittances, inflows (% of GDP)               1.124040  2017  "
      ]
     },
     "execution_count": 1260,
     "metadata": {},
     "output_type": "execute_result"
    }
   ],
   "source": [
    "human_indicators.head()"
   ]
  },
  {
   "cell_type": "code",
   "execution_count": 1261,
   "id": "ddcf162b",
   "metadata": {},
   "outputs": [
    {
     "data": {
      "text/plain": [
       "KNA    538\n",
       "Name: #country+code, dtype: int64"
      ]
     },
     "execution_count": 1261,
     "metadata": {},
     "output_type": "execute_result"
    }
   ],
   "source": [
    "human_indicators[\"#country+code\"].value_counts()"
   ]
  },
  {
   "cell_type": "code",
   "execution_count": 1262,
   "id": "01e15513",
   "metadata": {},
   "outputs": [
    {
     "data": {
      "text/plain": [
       "Gross national income (GNI) per capita (2011 PPP $)                         28\n",
       "Life expectancy at birth (years)                                            28\n",
       "Expected years of schooling (years)                                         28\n",
       "Life expectancy index                                                       28\n",
       "Income index                                                                28\n",
       "Education index                                                             13\n",
       "Human Development Index (HDI)                                               13\n",
       "Mean years of schooling (years)                                             13\n",
       "Expected years of schooling, female (years)                                 12\n",
       "Share of seats in parliament (% held by women)                              12\n",
       "Gross domestic product (GDP), total (2011 PPP $ billions)                   12\n",
       "Domestic credit provided by financial sector (% of GDP)                     12\n",
       "Expected years of schooling, male (years)                                   12\n",
       "GDP per capita (2011 PPP $)                                                 12\n",
       "Infants lacking immunization, DPT (% of one-year-olds)                      12\n",
       "Infants lacking immunization, measles (% of one-year-olds)                  12\n",
       "Remittances, inflows (% of GDP)                                             12\n",
       "Urban population (%)                                                        12\n",
       "Total population (millions)                                                 12\n",
       "Pupil-teacher ratio, primary school (pupils per teacher)                    11\n",
       "Exports and imports (% of GDP)                                              11\n",
       "Private capital flows (% of GDP)                                            11\n",
       "Mortality rate, under-five (per 1,000 live births)                          11\n",
       "Foreign direct investment, net inflows (% of GDP)                           11\n",
       "Mortality rate, infant (per 1,000 live births)                              11\n",
       "Rural population with access to electricity (%)                             11\n",
       "Forest area (% of total land area)                                          10\n",
       "Renewable energy consumption (% of total final energy consumption)          10\n",
       "International inbound tourists (thousands)                                   9\n",
       "Carbon dioxide emissions, per capita (tonnes)                                9\n",
       "Carbon dioxide emissions (kg per 2011 PPP $ of GDP)                          9\n",
       "Tuberculosis incidence (per 100,000 people)                                  9\n",
       "Mobile phone subscriptions (per 100 people)                                  9\n",
       "Primary school teachers trained to teach (%)                                 9\n",
       "Internet users, total (% of population)                                      9\n",
       "Current health expenditure (% of GDP)                                        8\n",
       "Net official development assistance received (% of GNI)                      8\n",
       "Concentration index (exports) (value)                                        7\n",
       "Proportion of births attended by skilled health personnel (%)                7\n",
       "Homicide rate (per 100,000 people)                                           5\n",
       "Government expenditure on education (% of GDP)                               4\n",
       "Survival rate to the last grade of lower secondary general education (%)     4\n",
       "Primary school dropout rate (% of primary school cohort)                     4\n",
       "Population using improved drinking-water sources (%)                         3\n",
       "Population using improved sanitation facilities (%)                          3\n",
       "Antenatal care coverage, at least one visit (%)                              2\n",
       "Fossil fuel energy consumption (% of total energy consumption)               2\n",
       "Mortality rate, female adult (per 1,000 people)                              2\n",
       "Mortality rate, male adult (per 1,000 people)                                2\n",
       "HDI rank                                                                     2\n",
       "Fresh water withdrawals (% of total renewable water resources)               1\n",
       "International student mobility (% of total tertiary enrolment)               1\n",
       "Red List Index (value)                                                       1\n",
       "Refugees by country of origin (thousands)                                    1\n",
       "Name: human_indicator_name, dtype: int64"
      ]
     },
     "execution_count": 1262,
     "metadata": {},
     "output_type": "execute_result"
    }
   ],
   "source": [
    "human_indicators[\"human_indicator_name\"].value_counts()"
   ]
  },
  {
   "cell_type": "code",
   "execution_count": 1263,
   "id": "2f368922",
   "metadata": {},
   "outputs": [
    {
     "data": {
      "text/plain": [
       "2005    44\n",
       "2010    43\n",
       "2012    42\n",
       "2000    42\n",
       "2014    41\n",
       "2011    41\n",
       "2013    40\n",
       "2015    37\n",
       "2016    32\n",
       "1990    31\n",
       "1995    30\n",
       "2017    22\n",
       "2006     8\n",
       "2007     8\n",
       "2008     8\n",
       "2009     8\n",
       "1997     6\n",
       "2004     5\n",
       "2002     5\n",
       "2001     5\n",
       "1999     5\n",
       "1998     5\n",
       "1996     5\n",
       "1994     5\n",
       "1993     5\n",
       "1992     5\n",
       "1991     5\n",
       "2003     5\n",
       "Name: year, dtype: int64"
      ]
     },
     "execution_count": 1263,
     "metadata": {},
     "output_type": "execute_result"
    }
   ],
   "source": [
    "human_indicators[\"year\"].value_counts()"
   ]
  },
  {
   "cell_type": "markdown",
   "id": "4c922348",
   "metadata": {},
   "source": [
    "display(human_indicators)"
   ]
  },
  {
   "cell_type": "markdown",
   "id": "012b470d",
   "metadata": {},
   "source": [
    "All looks as it should.\n",
    "\n",
    "Subset the data.\n",
    "\n",
    "Remove information that I will not be using.\n",
    "\n",
    "Drop the single column 'country+code' that I will not be using"
   ]
  },
  {
   "cell_type": "code",
   "execution_count": 1264,
   "id": "a9b30ba3",
   "metadata": {},
   "outputs": [],
   "source": [
    "human_indicators_modified = human_indicators.drop(\"#country+code\",axis=1)"
   ]
  },
  {
   "cell_type": "markdown",
   "id": "862704a2",
   "metadata": {},
   "source": [
    "At every step take a quick look at the data to ensure your code is successful. It helps to identify errors early so they can be corrected. "
   ]
  },
  {
   "cell_type": "code",
   "execution_count": 1265,
   "id": "b4d55561",
   "metadata": {},
   "outputs": [
    {
     "data": {
      "text/html": [
       "<div>\n",
       "<style scoped>\n",
       "    .dataframe tbody tr th:only-of-type {\n",
       "        vertical-align: middle;\n",
       "    }\n",
       "\n",
       "    .dataframe tbody tr th {\n",
       "        vertical-align: top;\n",
       "    }\n",
       "\n",
       "    .dataframe thead th {\n",
       "        text-align: right;\n",
       "    }\n",
       "</style>\n",
       "<table border=\"1\" class=\"dataframe\">\n",
       "  <thead>\n",
       "    <tr style=\"text-align: right;\">\n",
       "      <th></th>\n",
       "      <th>country_name</th>\n",
       "      <th>human_indicator_code</th>\n",
       "      <th>human_indicator_name</th>\n",
       "      <th>human_indicator_value</th>\n",
       "      <th>year</th>\n",
       "    </tr>\n",
       "  </thead>\n",
       "  <tbody>\n",
       "    <tr>\n",
       "      <th>0</th>\n",
       "      <td>Saint Kitts and Nevis</td>\n",
       "      <td>21806</td>\n",
       "      <td>Refugees by country of origin (thousands)</td>\n",
       "      <td>0.050000</td>\n",
       "      <td>2017</td>\n",
       "    </tr>\n",
       "    <tr>\n",
       "      <th>1</th>\n",
       "      <td>Saint Kitts and Nevis</td>\n",
       "      <td>31706</td>\n",
       "      <td>Share of seats in parliament (% held by women)</td>\n",
       "      <td>13.333333</td>\n",
       "      <td>2017</td>\n",
       "    </tr>\n",
       "    <tr>\n",
       "      <th>2</th>\n",
       "      <td>Saint Kitts and Nevis</td>\n",
       "      <td>44206</td>\n",
       "      <td>Total population (millions)</td>\n",
       "      <td>0.055345</td>\n",
       "      <td>2017</td>\n",
       "    </tr>\n",
       "    <tr>\n",
       "      <th>3</th>\n",
       "      <td>Saint Kitts and Nevis</td>\n",
       "      <td>45106</td>\n",
       "      <td>Urban population (%)</td>\n",
       "      <td>30.800000</td>\n",
       "      <td>2017</td>\n",
       "    </tr>\n",
       "    <tr>\n",
       "      <th>4</th>\n",
       "      <td>Saint Kitts and Nevis</td>\n",
       "      <td>52606</td>\n",
       "      <td>Remittances, inflows (% of GDP)</td>\n",
       "      <td>1.124040</td>\n",
       "      <td>2017</td>\n",
       "    </tr>\n",
       "    <tr>\n",
       "      <th>...</th>\n",
       "      <td>...</td>\n",
       "      <td>...</td>\n",
       "      <td>...</td>\n",
       "      <td>...</td>\n",
       "      <td>...</td>\n",
       "    </tr>\n",
       "    <tr>\n",
       "      <th>533</th>\n",
       "      <td>Saint Kitts and Nevis</td>\n",
       "      <td>163906</td>\n",
       "      <td>Renewable energy consumption (% of total final...</td>\n",
       "      <td>40.032326</td>\n",
       "      <td>1990</td>\n",
       "    </tr>\n",
       "    <tr>\n",
       "      <th>534</th>\n",
       "      <td>Saint Kitts and Nevis</td>\n",
       "      <td>174306</td>\n",
       "      <td>Fossil fuel energy consumption (% of total ene...</td>\n",
       "      <td>0.000000</td>\n",
       "      <td>1990</td>\n",
       "    </tr>\n",
       "    <tr>\n",
       "      <th>535</th>\n",
       "      <td>Saint Kitts and Nevis</td>\n",
       "      <td>174406</td>\n",
       "      <td>Carbon dioxide emissions (kg per 2011 PPP $ of...</td>\n",
       "      <td>0.181784</td>\n",
       "      <td>1990</td>\n",
       "    </tr>\n",
       "    <tr>\n",
       "      <th>536</th>\n",
       "      <td>Saint Kitts and Nevis</td>\n",
       "      <td>175206</td>\n",
       "      <td>Antenatal care coverage, at least one visit (%)</td>\n",
       "      <td>100.000000</td>\n",
       "      <td>1990</td>\n",
       "    </tr>\n",
       "    <tr>\n",
       "      <th>537</th>\n",
       "      <td>Saint Kitts and Nevis</td>\n",
       "      <td>181706</td>\n",
       "      <td>Rural population with access to electricity (%)</td>\n",
       "      <td>82.082064</td>\n",
       "      <td>1990</td>\n",
       "    </tr>\n",
       "  </tbody>\n",
       "</table>\n",
       "<p>538 rows × 5 columns</p>\n",
       "</div>"
      ],
      "text/plain": [
       "              country_name  human_indicator_code  \\\n",
       "0    Saint Kitts and Nevis                 21806   \n",
       "1    Saint Kitts and Nevis                 31706   \n",
       "2    Saint Kitts and Nevis                 44206   \n",
       "3    Saint Kitts and Nevis                 45106   \n",
       "4    Saint Kitts and Nevis                 52606   \n",
       "..                     ...                   ...   \n",
       "533  Saint Kitts and Nevis                163906   \n",
       "534  Saint Kitts and Nevis                174306   \n",
       "535  Saint Kitts and Nevis                174406   \n",
       "536  Saint Kitts and Nevis                175206   \n",
       "537  Saint Kitts and Nevis                181706   \n",
       "\n",
       "                                  human_indicator_name  human_indicator_value  \\\n",
       "0            Refugees by country of origin (thousands)               0.050000   \n",
       "1       Share of seats in parliament (% held by women)              13.333333   \n",
       "2                          Total population (millions)               0.055345   \n",
       "3                                 Urban population (%)              30.800000   \n",
       "4                      Remittances, inflows (% of GDP)               1.124040   \n",
       "..                                                 ...                    ...   \n",
       "533  Renewable energy consumption (% of total final...              40.032326   \n",
       "534  Fossil fuel energy consumption (% of total ene...               0.000000   \n",
       "535  Carbon dioxide emissions (kg per 2011 PPP $ of...               0.181784   \n",
       "536    Antenatal care coverage, at least one visit (%)             100.000000   \n",
       "537    Rural population with access to electricity (%)              82.082064   \n",
       "\n",
       "     year  \n",
       "0    2017  \n",
       "1    2017  \n",
       "2    2017  \n",
       "3    2017  \n",
       "4    2017  \n",
       "..    ...  \n",
       "533  1990  \n",
       "534  1990  \n",
       "535  1990  \n",
       "536  1990  \n",
       "537  1990  \n",
       "\n",
       "[538 rows x 5 columns]"
      ]
     },
     "metadata": {},
     "output_type": "display_data"
    }
   ],
   "source": [
    "display(human_indicators_modified)"
   ]
  },
  {
   "cell_type": "markdown",
   "id": "dc219945",
   "metadata": {},
   "source": [
    "All looks as is expected\n",
    "\n",
    "Keep the rows I will use.\n",
    "\n",
    "I will create a list of the rows I wish to keep. The 'isin' method is used to check if each value in the column is in the list. The result will be a new dataframe that only contains the rows where the values in the column are in the list.\n",
    "\n",
    "\n",
    "Create a list of rows I wish to keep."
   ]
  },
  {
   "cell_type": "code",
   "execution_count": 1315,
   "id": "72129bbc",
   "metadata": {},
   "outputs": [],
   "source": [
    "keep_list = [\"Life expectancy at birth (years)\", \"Expected years of schooling (years)\", \"GDP per capita (2011 PPP $)\", \"Mean years of schooling (years)\", \"Gross national income (GNI) per capita (2011 PPP $)\", \"Rural population with access to electricity (%)\", \"Proportion of births attended by skilled health personnel (%)\", \"Share of seats in parliament (% held by women)\", \" Income index \", \"Education index\", \"Human Development Index (HDI)\"]"
   ]
  },
  {
   "cell_type": "code",
   "execution_count": 1316,
   "id": "72d287ca",
   "metadata": {},
   "outputs": [
    {
     "data": {
      "text/plain": [
       "['Life expectancy at birth (years)',\n",
       " 'Expected years of schooling (years)',\n",
       " 'GDP per capita (2011 PPP $)',\n",
       " 'Mean years of schooling (years)',\n",
       " 'Gross national income (GNI) per capita (2011 PPP $)',\n",
       " 'Rural population with access to electricity (%)',\n",
       " 'Proportion of births attended by skilled health personnel (%)',\n",
       " 'Share of seats in parliament (% held by women)',\n",
       " ' Income index ',\n",
       " 'Education index',\n",
       " 'Human Development Index (HDI)']"
      ]
     },
     "execution_count": 1316,
     "metadata": {},
     "output_type": "execute_result"
    }
   ],
   "source": [
    "keep_list"
   ]
  },
  {
   "cell_type": "code",
   "execution_count": 1317,
   "id": "091ed2e7",
   "metadata": {},
   "outputs": [],
   "source": [
    "human_indicators2=human_indicators_modified[human_indicators_modified[\"human_indicator_name\"].isin(keep_list)]"
   ]
  },
  {
   "cell_type": "markdown",
   "id": "654abf1f",
   "metadata": {},
   "source": [
    "Take a quick look at the data to ensure it was successful"
   ]
  },
  {
   "cell_type": "code",
   "execution_count": 1318,
   "id": "f525754a",
   "metadata": {},
   "outputs": [
    {
     "data": {
      "text/html": [
       "<div>\n",
       "<style scoped>\n",
       "    .dataframe tbody tr th:only-of-type {\n",
       "        vertical-align: middle;\n",
       "    }\n",
       "\n",
       "    .dataframe tbody tr th {\n",
       "        vertical-align: top;\n",
       "    }\n",
       "\n",
       "    .dataframe thead th {\n",
       "        text-align: right;\n",
       "    }\n",
       "</style>\n",
       "<table border=\"1\" class=\"dataframe\">\n",
       "  <thead>\n",
       "    <tr style=\"text-align: right;\">\n",
       "      <th></th>\n",
       "      <th>country_name</th>\n",
       "      <th>human_indicator_code</th>\n",
       "      <th>human_indicator_name</th>\n",
       "      <th>human_indicator_value</th>\n",
       "      <th>year</th>\n",
       "    </tr>\n",
       "  </thead>\n",
       "  <tbody>\n",
       "    <tr>\n",
       "      <th>1</th>\n",
       "      <td>Saint Kitts and Nevis</td>\n",
       "      <td>31706</td>\n",
       "      <td>Share of seats in parliament (% held by women)</td>\n",
       "      <td>13.333333</td>\n",
       "      <td>2017</td>\n",
       "    </tr>\n",
       "    <tr>\n",
       "      <th>7</th>\n",
       "      <td>Saint Kitts and Nevis</td>\n",
       "      <td>69206</td>\n",
       "      <td>Life expectancy at birth (years)</td>\n",
       "      <td>74.372000</td>\n",
       "      <td>2017</td>\n",
       "    </tr>\n",
       "    <tr>\n",
       "      <th>8</th>\n",
       "      <td>Saint Kitts and Nevis</td>\n",
       "      <td>69706</td>\n",
       "      <td>Expected years of schooling (years)</td>\n",
       "      <td>14.389470</td>\n",
       "      <td>2017</td>\n",
       "    </tr>\n",
       "    <tr>\n",
       "      <th>9</th>\n",
       "      <td>Saint Kitts and Nevis</td>\n",
       "      <td>103006</td>\n",
       "      <td>Mean years of schooling (years)</td>\n",
       "      <td>8.400000</td>\n",
       "      <td>2017</td>\n",
       "    </tr>\n",
       "    <tr>\n",
       "      <th>12</th>\n",
       "      <td>Saint Kitts and Nevis</td>\n",
       "      <td>103706</td>\n",
       "      <td>Education index</td>\n",
       "      <td>0.679708</td>\n",
       "      <td>2017</td>\n",
       "    </tr>\n",
       "    <tr>\n",
       "      <th>...</th>\n",
       "      <td>...</td>\n",
       "      <td>...</td>\n",
       "      <td>...</td>\n",
       "      <td>...</td>\n",
       "      <td>...</td>\n",
       "    </tr>\n",
       "    <tr>\n",
       "      <th>519</th>\n",
       "      <td>Saint Kitts and Nevis</td>\n",
       "      <td>69206</td>\n",
       "      <td>Life expectancy at birth (years)</td>\n",
       "      <td>67.314000</td>\n",
       "      <td>1990</td>\n",
       "    </tr>\n",
       "    <tr>\n",
       "      <th>520</th>\n",
       "      <td>Saint Kitts and Nevis</td>\n",
       "      <td>69706</td>\n",
       "      <td>Expected years of schooling (years)</td>\n",
       "      <td>12.717320</td>\n",
       "      <td>1990</td>\n",
       "    </tr>\n",
       "    <tr>\n",
       "      <th>530</th>\n",
       "      <td>Saint Kitts and Nevis</td>\n",
       "      <td>136706</td>\n",
       "      <td>GDP per capita (2011 PPP $)</td>\n",
       "      <td>14326.225240</td>\n",
       "      <td>1990</td>\n",
       "    </tr>\n",
       "    <tr>\n",
       "      <th>531</th>\n",
       "      <td>Saint Kitts and Nevis</td>\n",
       "      <td>141706</td>\n",
       "      <td>Gross national income (GNI) per capita (2011 P...</td>\n",
       "      <td>13992.051630</td>\n",
       "      <td>1990</td>\n",
       "    </tr>\n",
       "    <tr>\n",
       "      <th>537</th>\n",
       "      <td>Saint Kitts and Nevis</td>\n",
       "      <td>181706</td>\n",
       "      <td>Rural population with access to electricity (%)</td>\n",
       "      <td>82.082064</td>\n",
       "      <td>1990</td>\n",
       "    </tr>\n",
       "  </tbody>\n",
       "</table>\n",
       "<p>165 rows × 5 columns</p>\n",
       "</div>"
      ],
      "text/plain": [
       "              country_name  human_indicator_code  \\\n",
       "1    Saint Kitts and Nevis                 31706   \n",
       "7    Saint Kitts and Nevis                 69206   \n",
       "8    Saint Kitts and Nevis                 69706   \n",
       "9    Saint Kitts and Nevis                103006   \n",
       "12   Saint Kitts and Nevis                103706   \n",
       "..                     ...                   ...   \n",
       "519  Saint Kitts and Nevis                 69206   \n",
       "520  Saint Kitts and Nevis                 69706   \n",
       "530  Saint Kitts and Nevis                136706   \n",
       "531  Saint Kitts and Nevis                141706   \n",
       "537  Saint Kitts and Nevis                181706   \n",
       "\n",
       "                                  human_indicator_name  human_indicator_value  \\\n",
       "1       Share of seats in parliament (% held by women)              13.333333   \n",
       "7                     Life expectancy at birth (years)              74.372000   \n",
       "8                  Expected years of schooling (years)              14.389470   \n",
       "9                      Mean years of schooling (years)               8.400000   \n",
       "12                                     Education index               0.679708   \n",
       "..                                                 ...                    ...   \n",
       "519                   Life expectancy at birth (years)              67.314000   \n",
       "520                Expected years of schooling (years)              12.717320   \n",
       "530                        GDP per capita (2011 PPP $)           14326.225240   \n",
       "531  Gross national income (GNI) per capita (2011 P...           13992.051630   \n",
       "537    Rural population with access to electricity (%)              82.082064   \n",
       "\n",
       "     year  \n",
       "1    2017  \n",
       "7    2017  \n",
       "8    2017  \n",
       "9    2017  \n",
       "12   2017  \n",
       "..    ...  \n",
       "519  1990  \n",
       "520  1990  \n",
       "530  1990  \n",
       "531  1990  \n",
       "537  1990  \n",
       "\n",
       "[165 rows x 5 columns]"
      ]
     },
     "metadata": {},
     "output_type": "display_data"
    }
   ],
   "source": [
    "display(human_indicators2)"
   ]
  },
  {
   "cell_type": "markdown",
   "id": "1bcb9336",
   "metadata": {},
   "source": [
    "All looks as is expected\n",
    "\n",
    "Check the values of the specific column .\n",
    "\n",
    "my intentioon is to do simple linear regression and multiple linear regression.\n",
    "\n",
    "Using the 'value_counts' method check for the values. The 'value_counts' methods returns a series that contains the unique values of the column, along with the count of each value.\n",
    "\n",
    "Checking the values of the columns is an important step in data preparation for multiple regression analysis because:\n",
    "\n",
    "    * Missing values: If there are missing values in the columns, they can impact the accuracy and results of the regression analysis. Check for missing values using the .isna() method.\n",
    "\n",
    "    * Outliers: Outliers can also have a significant impact on the results of the regression analysis. Check for outliers using various visualization methods such as a box plot, scatter plot, or histogram\n",
    "\n",
    "    * Data type: Make sure that the data type of each column is appropriate for the analussi to be conducted. For example, categorical variables should be converted to numeric data types.\n",
    "\n",
    "*Data distribution: Checking the values of the columns can also helps to understand the distribution of the data, which can impact the results of the regression analysis. For example, if the data is not normally distributed, it may need to be transformed to achieve a normal distribution"
   ]
  },
  {
   "cell_type": "code",
   "execution_count": 1319,
   "id": "200e6d1e",
   "metadata": {},
   "outputs": [],
   "source": [
    "value_counts= human_indicators2[\"human_indicator_name\"].value_counts()"
   ]
  },
  {
   "cell_type": "code",
   "execution_count": 1320,
   "id": "0afc7b37",
   "metadata": {},
   "outputs": [
    {
     "name": "stdout",
     "output_type": "stream",
     "text": [
      "Life expectancy at birth (years)                                 28\n",
      "Expected years of schooling (years)                              28\n",
      "Gross national income (GNI) per capita (2011 PPP $)              28\n",
      "Mean years of schooling (years)                                  13\n",
      "Education index                                                  13\n",
      "Human Development Index (HDI)                                    13\n",
      "Share of seats in parliament (% held by women)                   12\n",
      "GDP per capita (2011 PPP $)                                      12\n",
      "Rural population with access to electricity (%)                  11\n",
      "Proportion of births attended by skilled health personnel (%)     7\n",
      "Name: human_indicator_name, dtype: int64\n"
     ]
    }
   ],
   "source": [
    "print(value_counts)"
   ]
  },
  {
   "cell_type": "markdown",
   "id": "365a5a17",
   "metadata": {},
   "source": [
    "Take a look at the data in varoius ways to esnure it is appropraite for the analysis to be perfomed.\n",
    "\n",
    "The intention is do do simple linear regression and multiple regressioin analysis.\n",
    "\n",
    "The following is to observe the data and to ensure it is ready for  regression analysis."
   ]
  },
  {
   "cell_type": "code",
   "execution_count": 1321,
   "id": "245ffaa9",
   "metadata": {},
   "outputs": [
    {
     "name": "stdout",
     "output_type": "stream",
     "text": [
      "<class 'pandas.core.frame.DataFrame'>\n",
      "Int64Index: 165 entries, 1 to 537\n",
      "Data columns (total 5 columns):\n",
      " #   Column                 Non-Null Count  Dtype  \n",
      "---  ------                 --------------  -----  \n",
      " 0   country_name           165 non-null    object \n",
      " 1   human_indicator_code   165 non-null    int64  \n",
      " 2   human_indicator_name   165 non-null    object \n",
      " 3   human_indicator_value  165 non-null    float64\n",
      " 4   year                   165 non-null    int64  \n",
      "dtypes: float64(1), int64(2), object(2)\n",
      "memory usage: 7.7+ KB\n"
     ]
    }
   ],
   "source": [
    "human_indicators2.info()"
   ]
  },
  {
   "cell_type": "markdown",
   "id": "c3440aab",
   "metadata": {},
   "source": [
    "Check the shape of the dataframe\n",
    "\n",
    "This returns a tuple with the number of rows and cloumns in the dataframe."
   ]
  },
  {
   "cell_type": "code",
   "execution_count": 1322,
   "id": "854af252",
   "metadata": {},
   "outputs": [
    {
     "name": "stdout",
     "output_type": "stream",
     "text": [
      "(165, 5)\n"
     ]
    }
   ],
   "source": [
    "print(human_indicators2.shape)"
   ]
  },
  {
   "cell_type": "markdown",
   "id": "2fe0c61a",
   "metadata": {},
   "source": [
    "Summary Statitistics\n",
    "\n",
    "To get summary statitstics use 'describe()' method. This will return the count, mean, standard deviation, minimun, 25th percentile, median (50th percentile). 75th percentile, and maximun column in the dataframe."
   ]
  },
  {
   "cell_type": "code",
   "execution_count": 1323,
   "id": "98ee02b0",
   "metadata": {},
   "outputs": [
    {
     "name": "stdout",
     "output_type": "stream",
     "text": [
      "       human_indicator_code  human_indicator_value         year\n",
      "count            165.000000             165.000000   165.000000\n",
      "mean          106789.636364            4841.809407  2006.496970\n",
      "std            43030.043802            8666.868482     7.861316\n",
      "min            31706.000000               0.100000  1990.000000\n",
      "25%            69706.000000               8.400000  2000.000000\n",
      "50%           103706.000000              68.084000  2008.000000\n",
      "75%           141706.000000             100.000000  2013.000000\n",
      "max           181706.000000           24654.385400  2017.000000\n"
     ]
    }
   ],
   "source": [
    "print(human_indicators2.describe())"
   ]
  },
  {
   "cell_type": "markdown",
   "id": "08aa0010",
   "metadata": {},
   "source": [
    "This shows a quick overview of the data. it prvides information about the central tendency, dispersion, and shape of the data. It can be useful for identifying patterns and trends in the data, as well as comparing the distributions of different datasets. \n",
    "\n",
    "It shows begining and end of the data set (1990 - 2017) with 2006 being mean year. The standard deviation gives an overview of the interpretable measure of the spread of data. It will be explored more as we progress. \n",
    "\n",
    "It returns data only for those columns that are numerical which indicate the need to convert the categorical columns to numerical.\n",
    "\n",
    "Check for categorical or numeric Data\n",
    "\n",
    "Use 'dtypes' attibute to checkfor categorical data. It retruns the data type for each column in the dataframe. Categorical data will have the data type 'category'.\n",
    "\n",
    "Find the data type of each column"
   ]
  },
  {
   "cell_type": "code",
   "execution_count": 1324,
   "id": "8a0ef8f0",
   "metadata": {},
   "outputs": [
    {
     "data": {
      "text/plain": [
       "country_name              object\n",
       "human_indicator_code       int64\n",
       "human_indicator_name      object\n",
       "human_indicator_value    float64\n",
       "year                       int64\n",
       "dtype: object"
      ]
     },
     "execution_count": 1324,
     "metadata": {},
     "output_type": "execute_result"
    }
   ],
   "source": [
    "human_indicators2.dtypes"
   ]
  },
  {
   "cell_type": "markdown",
   "id": "27ed5313",
   "metadata": {},
   "source": [
    "Two columns show up as categorical.\n",
    "\n",
    "Find the categorical columns"
   ]
  },
  {
   "cell_type": "code",
   "execution_count": 1325,
   "id": "33102f99",
   "metadata": {},
   "outputs": [],
   "source": [
    "categorical_columns = human_indicators2.select_dtypes(include=['object']).columns"
   ]
  },
  {
   "cell_type": "code",
   "execution_count": 1326,
   "id": "a251f133",
   "metadata": {},
   "outputs": [
    {
     "name": "stdout",
     "output_type": "stream",
     "text": [
      "Index(['country_name', 'human_indicator_name'], dtype='object')\n"
     ]
    }
   ],
   "source": [
    "print(categorical_columns)"
   ]
  },
  {
   "cell_type": "markdown",
   "id": "81f58a48",
   "metadata": {},
   "source": [
    "It shows that 'country_name' and 'human_indicator_name' columns are categorical.\n",
    "\n",
    "Change categorical data to numeric. \n",
    "\n",
    "First, Replace Specific values in a column\n",
    "\n",
    "Rename the rows under the column human_indicator_name so that the row names do not have objects such as % in them. Modify the column human_indicator_name and replace the old row names in that column with new names. The 'inplace=True' argument tells the 'replace' method to modify the dataframe in place, so I do not need to assign the result to a new dataframe.\n",
    "\n",
    "This will replace all instances of the old values in the specified column with the new values, without splitting the column into multiple columns. This can be useful way to clean and standardize values in a column without changing the structure of the dataframe."
   ]
  },
  {
   "cell_type": "code",
   "execution_count": 1327,
   "id": "598dae2b",
   "metadata": {},
   "outputs": [
    {
     "name": "stderr",
     "output_type": "stream",
     "text": [
      "C:\\Users\\admin\\AppData\\Local\\Temp\\ipykernel_15084\\3402315699.py:1: SettingWithCopyWarning: \n",
      "A value is trying to be set on a copy of a slice from a DataFrame\n",
      "\n",
      "See the caveats in the documentation: https://pandas.pydata.org/pandas-docs/stable/user_guide/indexing.html#returning-a-view-versus-a-copy\n",
      "  human_indicators2 [\"human_indicator_name\"].replace({\"Life expectancy at birth (years)\":\"life_expectancy_at_birth\",\n"
     ]
    }
   ],
   "source": [
    "human_indicators2 [\"human_indicator_name\"].replace({\"Life expectancy at birth (years)\":\"life_expectancy_at_birth\", \n",
    "                                              \"Expected years of schooling (years)\":\"expected_years_of_schooling\",\n",
    "                                              \"Human Development Index (HDI)\":\"human_development_index\",\n",
    "                                              \"Education index\":\"education_index\",\n",
    "                                              \"Income index \":\"income_index\",\n",
    "                                              \"Share of seats in parliament (% held by women)\": \"share_seats_women_in_parliament\",\n",
    "                                              \"Mean years of schooling (years)\":\"mean_years_of_schooling\",\n",
    "                                              \"Proportion of births attended by skilled health personnel (%)\":\"proportion_births_handled_by_skilled_personnel\",\n",
    "                                               \"Rural population with access to electricity (%)\":\"rural_population_access_electricity\",\n",
    "                                               \"Gross national income (GNI) per capita (2011 PPP $)\":\"gross_national_income_per_capita\",\n",
    "                                               \"GDP per capita (2011 PPP $)\":\"gdp_per_capita\"}, inplace=True)"
   ]
  },
  {
   "cell_type": "markdown",
   "id": "d511f346",
   "metadata": {},
   "source": [
    "Always check your data to make sure your code was successful"
   ]
  },
  {
   "cell_type": "code",
   "execution_count": 1328,
   "id": "0e16cd05",
   "metadata": {},
   "outputs": [
    {
     "data": {
      "text/html": [
       "<div>\n",
       "<style scoped>\n",
       "    .dataframe tbody tr th:only-of-type {\n",
       "        vertical-align: middle;\n",
       "    }\n",
       "\n",
       "    .dataframe tbody tr th {\n",
       "        vertical-align: top;\n",
       "    }\n",
       "\n",
       "    .dataframe thead th {\n",
       "        text-align: right;\n",
       "    }\n",
       "</style>\n",
       "<table border=\"1\" class=\"dataframe\">\n",
       "  <thead>\n",
       "    <tr style=\"text-align: right;\">\n",
       "      <th></th>\n",
       "      <th>country_name</th>\n",
       "      <th>human_indicator_code</th>\n",
       "      <th>human_indicator_name</th>\n",
       "      <th>human_indicator_value</th>\n",
       "      <th>year</th>\n",
       "    </tr>\n",
       "  </thead>\n",
       "  <tbody>\n",
       "    <tr>\n",
       "      <th>1</th>\n",
       "      <td>Saint Kitts and Nevis</td>\n",
       "      <td>31706</td>\n",
       "      <td>share_seats_women_in_parliament</td>\n",
       "      <td>13.333333</td>\n",
       "      <td>2017</td>\n",
       "    </tr>\n",
       "    <tr>\n",
       "      <th>7</th>\n",
       "      <td>Saint Kitts and Nevis</td>\n",
       "      <td>69206</td>\n",
       "      <td>life_expectancy_at_birth</td>\n",
       "      <td>74.372000</td>\n",
       "      <td>2017</td>\n",
       "    </tr>\n",
       "    <tr>\n",
       "      <th>8</th>\n",
       "      <td>Saint Kitts and Nevis</td>\n",
       "      <td>69706</td>\n",
       "      <td>expected_years_of_schooling</td>\n",
       "      <td>14.389470</td>\n",
       "      <td>2017</td>\n",
       "    </tr>\n",
       "    <tr>\n",
       "      <th>9</th>\n",
       "      <td>Saint Kitts and Nevis</td>\n",
       "      <td>103006</td>\n",
       "      <td>mean_years_of_schooling</td>\n",
       "      <td>8.400000</td>\n",
       "      <td>2017</td>\n",
       "    </tr>\n",
       "    <tr>\n",
       "      <th>12</th>\n",
       "      <td>Saint Kitts and Nevis</td>\n",
       "      <td>103706</td>\n",
       "      <td>education_index</td>\n",
       "      <td>0.679708</td>\n",
       "      <td>2017</td>\n",
       "    </tr>\n",
       "    <tr>\n",
       "      <th>...</th>\n",
       "      <td>...</td>\n",
       "      <td>...</td>\n",
       "      <td>...</td>\n",
       "      <td>...</td>\n",
       "      <td>...</td>\n",
       "    </tr>\n",
       "    <tr>\n",
       "      <th>519</th>\n",
       "      <td>Saint Kitts and Nevis</td>\n",
       "      <td>69206</td>\n",
       "      <td>life_expectancy_at_birth</td>\n",
       "      <td>67.314000</td>\n",
       "      <td>1990</td>\n",
       "    </tr>\n",
       "    <tr>\n",
       "      <th>520</th>\n",
       "      <td>Saint Kitts and Nevis</td>\n",
       "      <td>69706</td>\n",
       "      <td>expected_years_of_schooling</td>\n",
       "      <td>12.717320</td>\n",
       "      <td>1990</td>\n",
       "    </tr>\n",
       "    <tr>\n",
       "      <th>530</th>\n",
       "      <td>Saint Kitts and Nevis</td>\n",
       "      <td>136706</td>\n",
       "      <td>gdp_per_capita</td>\n",
       "      <td>14326.225240</td>\n",
       "      <td>1990</td>\n",
       "    </tr>\n",
       "    <tr>\n",
       "      <th>531</th>\n",
       "      <td>Saint Kitts and Nevis</td>\n",
       "      <td>141706</td>\n",
       "      <td>gross_national_income_per_capita</td>\n",
       "      <td>13992.051630</td>\n",
       "      <td>1990</td>\n",
       "    </tr>\n",
       "    <tr>\n",
       "      <th>537</th>\n",
       "      <td>Saint Kitts and Nevis</td>\n",
       "      <td>181706</td>\n",
       "      <td>rural_population_access_electricity</td>\n",
       "      <td>82.082064</td>\n",
       "      <td>1990</td>\n",
       "    </tr>\n",
       "  </tbody>\n",
       "</table>\n",
       "<p>165 rows × 5 columns</p>\n",
       "</div>"
      ],
      "text/plain": [
       "              country_name  human_indicator_code  \\\n",
       "1    Saint Kitts and Nevis                 31706   \n",
       "7    Saint Kitts and Nevis                 69206   \n",
       "8    Saint Kitts and Nevis                 69706   \n",
       "9    Saint Kitts and Nevis                103006   \n",
       "12   Saint Kitts and Nevis                103706   \n",
       "..                     ...                   ...   \n",
       "519  Saint Kitts and Nevis                 69206   \n",
       "520  Saint Kitts and Nevis                 69706   \n",
       "530  Saint Kitts and Nevis                136706   \n",
       "531  Saint Kitts and Nevis                141706   \n",
       "537  Saint Kitts and Nevis                181706   \n",
       "\n",
       "                    human_indicator_name  human_indicator_value  year  \n",
       "1        share_seats_women_in_parliament              13.333333  2017  \n",
       "7               life_expectancy_at_birth              74.372000  2017  \n",
       "8            expected_years_of_schooling              14.389470  2017  \n",
       "9                mean_years_of_schooling               8.400000  2017  \n",
       "12                       education_index               0.679708  2017  \n",
       "..                                   ...                    ...   ...  \n",
       "519             life_expectancy_at_birth              67.314000  1990  \n",
       "520          expected_years_of_schooling              12.717320  1990  \n",
       "530                       gdp_per_capita           14326.225240  1990  \n",
       "531     gross_national_income_per_capita           13992.051630  1990  \n",
       "537  rural_population_access_electricity              82.082064  1990  \n",
       "\n",
       "[165 rows x 5 columns]"
      ]
     },
     "metadata": {},
     "output_type": "display_data"
    }
   ],
   "source": [
    "display(human_indicators2)"
   ]
  },
  {
   "cell_type": "markdown",
   "id": "2a14a6eb",
   "metadata": {},
   "source": [
    "drop country_name column since it is only one country referred to"
   ]
  },
  {
   "cell_type": "code",
   "execution_count": 1329,
   "id": "0a742887",
   "metadata": {},
   "outputs": [
    {
     "name": "stderr",
     "output_type": "stream",
     "text": [
      "C:\\Users\\admin\\AppData\\Local\\Temp\\ipykernel_15084\\2510790435.py:1: SettingWithCopyWarning: \n",
      "A value is trying to be set on a copy of a slice from a DataFrame\n",
      "\n",
      "See the caveats in the documentation: https://pandas.pydata.org/pandas-docs/stable/user_guide/indexing.html#returning-a-view-versus-a-copy\n",
      "  human_indicators2.drop(columns=[\"country_name\"], axis=1, inplace=True)\n"
     ]
    }
   ],
   "source": [
    "human_indicators2.drop(columns=[\"country_name\"], axis=1, inplace=True)"
   ]
  },
  {
   "cell_type": "code",
   "execution_count": 1330,
   "id": "8d360f04",
   "metadata": {},
   "outputs": [
    {
     "data": {
      "text/html": [
       "<div>\n",
       "<style scoped>\n",
       "    .dataframe tbody tr th:only-of-type {\n",
       "        vertical-align: middle;\n",
       "    }\n",
       "\n",
       "    .dataframe tbody tr th {\n",
       "        vertical-align: top;\n",
       "    }\n",
       "\n",
       "    .dataframe thead th {\n",
       "        text-align: right;\n",
       "    }\n",
       "</style>\n",
       "<table border=\"1\" class=\"dataframe\">\n",
       "  <thead>\n",
       "    <tr style=\"text-align: right;\">\n",
       "      <th></th>\n",
       "      <th>human_indicator_code</th>\n",
       "      <th>human_indicator_name</th>\n",
       "      <th>human_indicator_value</th>\n",
       "      <th>year</th>\n",
       "    </tr>\n",
       "  </thead>\n",
       "  <tbody>\n",
       "    <tr>\n",
       "      <th>1</th>\n",
       "      <td>31706</td>\n",
       "      <td>share_seats_women_in_parliament</td>\n",
       "      <td>13.333333</td>\n",
       "      <td>2017</td>\n",
       "    </tr>\n",
       "    <tr>\n",
       "      <th>7</th>\n",
       "      <td>69206</td>\n",
       "      <td>life_expectancy_at_birth</td>\n",
       "      <td>74.372000</td>\n",
       "      <td>2017</td>\n",
       "    </tr>\n",
       "    <tr>\n",
       "      <th>8</th>\n",
       "      <td>69706</td>\n",
       "      <td>expected_years_of_schooling</td>\n",
       "      <td>14.389470</td>\n",
       "      <td>2017</td>\n",
       "    </tr>\n",
       "    <tr>\n",
       "      <th>9</th>\n",
       "      <td>103006</td>\n",
       "      <td>mean_years_of_schooling</td>\n",
       "      <td>8.400000</td>\n",
       "      <td>2017</td>\n",
       "    </tr>\n",
       "    <tr>\n",
       "      <th>12</th>\n",
       "      <td>103706</td>\n",
       "      <td>education_index</td>\n",
       "      <td>0.679708</td>\n",
       "      <td>2017</td>\n",
       "    </tr>\n",
       "    <tr>\n",
       "      <th>...</th>\n",
       "      <td>...</td>\n",
       "      <td>...</td>\n",
       "      <td>...</td>\n",
       "      <td>...</td>\n",
       "    </tr>\n",
       "    <tr>\n",
       "      <th>519</th>\n",
       "      <td>69206</td>\n",
       "      <td>life_expectancy_at_birth</td>\n",
       "      <td>67.314000</td>\n",
       "      <td>1990</td>\n",
       "    </tr>\n",
       "    <tr>\n",
       "      <th>520</th>\n",
       "      <td>69706</td>\n",
       "      <td>expected_years_of_schooling</td>\n",
       "      <td>12.717320</td>\n",
       "      <td>1990</td>\n",
       "    </tr>\n",
       "    <tr>\n",
       "      <th>530</th>\n",
       "      <td>136706</td>\n",
       "      <td>gdp_per_capita</td>\n",
       "      <td>14326.225240</td>\n",
       "      <td>1990</td>\n",
       "    </tr>\n",
       "    <tr>\n",
       "      <th>531</th>\n",
       "      <td>141706</td>\n",
       "      <td>gross_national_income_per_capita</td>\n",
       "      <td>13992.051630</td>\n",
       "      <td>1990</td>\n",
       "    </tr>\n",
       "    <tr>\n",
       "      <th>537</th>\n",
       "      <td>181706</td>\n",
       "      <td>rural_population_access_electricity</td>\n",
       "      <td>82.082064</td>\n",
       "      <td>1990</td>\n",
       "    </tr>\n",
       "  </tbody>\n",
       "</table>\n",
       "<p>165 rows × 4 columns</p>\n",
       "</div>"
      ],
      "text/plain": [
       "     human_indicator_code                 human_indicator_name  \\\n",
       "1                   31706      share_seats_women_in_parliament   \n",
       "7                   69206             life_expectancy_at_birth   \n",
       "8                   69706          expected_years_of_schooling   \n",
       "9                  103006              mean_years_of_schooling   \n",
       "12                 103706                      education_index   \n",
       "..                    ...                                  ...   \n",
       "519                 69206             life_expectancy_at_birth   \n",
       "520                 69706          expected_years_of_schooling   \n",
       "530                136706                       gdp_per_capita   \n",
       "531                141706     gross_national_income_per_capita   \n",
       "537                181706  rural_population_access_electricity   \n",
       "\n",
       "     human_indicator_value  year  \n",
       "1                13.333333  2017  \n",
       "7                74.372000  2017  \n",
       "8                14.389470  2017  \n",
       "9                 8.400000  2017  \n",
       "12                0.679708  2017  \n",
       "..                     ...   ...  \n",
       "519              67.314000  1990  \n",
       "520              12.717320  1990  \n",
       "530           14326.225240  1990  \n",
       "531           13992.051630  1990  \n",
       "537              82.082064  1990  \n",
       "\n",
       "[165 rows x 4 columns]"
      ]
     },
     "metadata": {},
     "output_type": "display_data"
    }
   ],
   "source": [
    "display(human_indicators2)"
   ]
  },
  {
   "cell_type": "markdown",
   "id": "f71b70bc",
   "metadata": {},
   "source": [
    "Changing Categorical values to Numerical  Values\n",
    "\n",
    "use 'map' to assign specific numerical values to each variable in a column. The 'map()' method takes a dictionary as an argument, where the keys are the variables in the column and the values are the numerical values to be assigned to each varaible. After running the code the varaibles in the specified column will be replaced with the corresponding numerical values.\n",
    "\n",
    "The 'map' method is important in linear regression analysis because it allows you to map specific values in the dataset to new values that are more suyitable for analysis. The text values are not suitable for use in regression analysis. By using'map' method they are converted to numerical values that can be used in regression analysis, presenting the relationships between the values and allowing more meaningful analysis. This conversion from categorical to numerical also helps reduce potential biases and inaccuarcies that can occur when working with text data. "
   ]
  },
  {
   "cell_type": "code",
   "execution_count": 1331,
   "id": "cf37dee7",
   "metadata": {},
   "outputs": [],
   "source": [
    "mapping = {'life_expectancy_at_birth':1, 'expected_years_of_schooling':2, 'gdp_per_capita':3, 'human_development_index':4, 'gross_national_income_per_capita':5, 'mean_years_of_schooling':6, 'rural_population_access_electricity':7, 'share_seats_women_in_parliament':8, 'proportion_births_handled_by_skilled_personnel':9, 'education_index':10, 'income_index':11}"
   ]
  },
  {
   "cell_type": "code",
   "execution_count": 1332,
   "id": "1e0ff9e9",
   "metadata": {},
   "outputs": [
    {
     "name": "stderr",
     "output_type": "stream",
     "text": [
      "C:\\Users\\admin\\AppData\\Local\\Temp\\ipykernel_15084\\795129336.py:1: SettingWithCopyWarning: \n",
      "A value is trying to be set on a copy of a slice from a DataFrame.\n",
      "Try using .loc[row_indexer,col_indexer] = value instead\n",
      "\n",
      "See the caveats in the documentation: https://pandas.pydata.org/pandas-docs/stable/user_guide/indexing.html#returning-a-view-versus-a-copy\n",
      "  human_indicators2.loc[:, 'human_indicator_nameR'] = human_indicators2['human_indicator_name'].map(mapping)\n"
     ]
    }
   ],
   "source": [
    "human_indicators2.loc[:, 'human_indicator_nameR'] = human_indicators2['human_indicator_name'].map(mapping)"
   ]
  },
  {
   "cell_type": "markdown",
   "id": "4b33e60a",
   "metadata": {},
   "source": [
    "Examine the data to ensure the code was successful"
   ]
  },
  {
   "cell_type": "code",
   "execution_count": 1333,
   "id": "8cddd660",
   "metadata": {},
   "outputs": [
    {
     "data": {
      "text/html": [
       "<div>\n",
       "<style scoped>\n",
       "    .dataframe tbody tr th:only-of-type {\n",
       "        vertical-align: middle;\n",
       "    }\n",
       "\n",
       "    .dataframe tbody tr th {\n",
       "        vertical-align: top;\n",
       "    }\n",
       "\n",
       "    .dataframe thead th {\n",
       "        text-align: right;\n",
       "    }\n",
       "</style>\n",
       "<table border=\"1\" class=\"dataframe\">\n",
       "  <thead>\n",
       "    <tr style=\"text-align: right;\">\n",
       "      <th></th>\n",
       "      <th>human_indicator_code</th>\n",
       "      <th>human_indicator_name</th>\n",
       "      <th>human_indicator_value</th>\n",
       "      <th>year</th>\n",
       "      <th>human_indicator_nameR</th>\n",
       "    </tr>\n",
       "  </thead>\n",
       "  <tbody>\n",
       "    <tr>\n",
       "      <th>1</th>\n",
       "      <td>31706</td>\n",
       "      <td>share_seats_women_in_parliament</td>\n",
       "      <td>13.333333</td>\n",
       "      <td>2017</td>\n",
       "      <td>8</td>\n",
       "    </tr>\n",
       "    <tr>\n",
       "      <th>7</th>\n",
       "      <td>69206</td>\n",
       "      <td>life_expectancy_at_birth</td>\n",
       "      <td>74.372000</td>\n",
       "      <td>2017</td>\n",
       "      <td>1</td>\n",
       "    </tr>\n",
       "    <tr>\n",
       "      <th>8</th>\n",
       "      <td>69706</td>\n",
       "      <td>expected_years_of_schooling</td>\n",
       "      <td>14.389470</td>\n",
       "      <td>2017</td>\n",
       "      <td>2</td>\n",
       "    </tr>\n",
       "    <tr>\n",
       "      <th>9</th>\n",
       "      <td>103006</td>\n",
       "      <td>mean_years_of_schooling</td>\n",
       "      <td>8.400000</td>\n",
       "      <td>2017</td>\n",
       "      <td>6</td>\n",
       "    </tr>\n",
       "    <tr>\n",
       "      <th>12</th>\n",
       "      <td>103706</td>\n",
       "      <td>education_index</td>\n",
       "      <td>0.679708</td>\n",
       "      <td>2017</td>\n",
       "      <td>10</td>\n",
       "    </tr>\n",
       "    <tr>\n",
       "      <th>...</th>\n",
       "      <td>...</td>\n",
       "      <td>...</td>\n",
       "      <td>...</td>\n",
       "      <td>...</td>\n",
       "      <td>...</td>\n",
       "    </tr>\n",
       "    <tr>\n",
       "      <th>519</th>\n",
       "      <td>69206</td>\n",
       "      <td>life_expectancy_at_birth</td>\n",
       "      <td>67.314000</td>\n",
       "      <td>1990</td>\n",
       "      <td>1</td>\n",
       "    </tr>\n",
       "    <tr>\n",
       "      <th>520</th>\n",
       "      <td>69706</td>\n",
       "      <td>expected_years_of_schooling</td>\n",
       "      <td>12.717320</td>\n",
       "      <td>1990</td>\n",
       "      <td>2</td>\n",
       "    </tr>\n",
       "    <tr>\n",
       "      <th>530</th>\n",
       "      <td>136706</td>\n",
       "      <td>gdp_per_capita</td>\n",
       "      <td>14326.225240</td>\n",
       "      <td>1990</td>\n",
       "      <td>3</td>\n",
       "    </tr>\n",
       "    <tr>\n",
       "      <th>531</th>\n",
       "      <td>141706</td>\n",
       "      <td>gross_national_income_per_capita</td>\n",
       "      <td>13992.051630</td>\n",
       "      <td>1990</td>\n",
       "      <td>5</td>\n",
       "    </tr>\n",
       "    <tr>\n",
       "      <th>537</th>\n",
       "      <td>181706</td>\n",
       "      <td>rural_population_access_electricity</td>\n",
       "      <td>82.082064</td>\n",
       "      <td>1990</td>\n",
       "      <td>7</td>\n",
       "    </tr>\n",
       "  </tbody>\n",
       "</table>\n",
       "<p>165 rows × 5 columns</p>\n",
       "</div>"
      ],
      "text/plain": [
       "     human_indicator_code                 human_indicator_name  \\\n",
       "1                   31706      share_seats_women_in_parliament   \n",
       "7                   69206             life_expectancy_at_birth   \n",
       "8                   69706          expected_years_of_schooling   \n",
       "9                  103006              mean_years_of_schooling   \n",
       "12                 103706                      education_index   \n",
       "..                    ...                                  ...   \n",
       "519                 69206             life_expectancy_at_birth   \n",
       "520                 69706          expected_years_of_schooling   \n",
       "530                136706                       gdp_per_capita   \n",
       "531                141706     gross_national_income_per_capita   \n",
       "537                181706  rural_population_access_electricity   \n",
       "\n",
       "     human_indicator_value  year  human_indicator_nameR  \n",
       "1                13.333333  2017                      8  \n",
       "7                74.372000  2017                      1  \n",
       "8                14.389470  2017                      2  \n",
       "9                 8.400000  2017                      6  \n",
       "12                0.679708  2017                     10  \n",
       "..                     ...   ...                    ...  \n",
       "519              67.314000  1990                      1  \n",
       "520              12.717320  1990                      2  \n",
       "530           14326.225240  1990                      3  \n",
       "531           13992.051630  1990                      5  \n",
       "537              82.082064  1990                      7  \n",
       "\n",
       "[165 rows x 5 columns]"
      ]
     },
     "metadata": {},
     "output_type": "display_data"
    }
   ],
   "source": [
    "display(human_indicators2)"
   ]
  },
  {
   "cell_type": "markdown",
   "id": "c71f43af",
   "metadata": {},
   "source": [
    "Identify columns with strings using 'dtypes' attribute, which returns the data type of each column. Filter the columns with string data type"
   ]
  },
  {
   "cell_type": "code",
   "execution_count": 1334,
   "id": "8daf8788",
   "metadata": {},
   "outputs": [],
   "source": [
    "string_cols = human_indicators2.select_dtypes(include=['object']).columns"
   ]
  },
  {
   "cell_type": "code",
   "execution_count": 1335,
   "id": "8cdf76e0",
   "metadata": {},
   "outputs": [
    {
     "data": {
      "text/plain": [
       "Index(['human_indicator_name'], dtype='object')"
      ]
     },
     "metadata": {},
     "output_type": "display_data"
    }
   ],
   "source": [
    "display (string_cols)"
   ]
  },
  {
   "cell_type": "code",
   "execution_count": 1336,
   "id": "9bc708b0",
   "metadata": {},
   "outputs": [
    {
     "name": "stdout",
     "output_type": "stream",
     "text": [
      "human_indicator_code       int64\n",
      "human_indicator_name      object\n",
      "human_indicator_value    float64\n",
      "year                       int64\n",
      "human_indicator_nameR      int64\n",
      "dtype: object\n"
     ]
    }
   ],
   "source": [
    "print (human_indicators2.dtypes)"
   ]
  },
  {
   "cell_type": "markdown",
   "id": "5a5c1ad4",
   "metadata": {},
   "source": [
    "The data type is now numerical and ready for regression analysis"
   ]
  },
  {
   "cell_type": "markdown",
   "id": "2a1ab5cf",
   "metadata": {},
   "source": [
    "Reset the Index\n",
    "\n",
    "\n",
    "This makes it easy to manipulate the dataframe and help eliminate index-related errors or issues that may arise during analysis."
   ]
  },
  {
   "cell_type": "code",
   "execution_count": 1337,
   "id": "cc626a3e",
   "metadata": {},
   "outputs": [
    {
     "data": {
      "text/html": [
       "<div>\n",
       "<style scoped>\n",
       "    .dataframe tbody tr th:only-of-type {\n",
       "        vertical-align: middle;\n",
       "    }\n",
       "\n",
       "    .dataframe tbody tr th {\n",
       "        vertical-align: top;\n",
       "    }\n",
       "\n",
       "    .dataframe thead th {\n",
       "        text-align: right;\n",
       "    }\n",
       "</style>\n",
       "<table border=\"1\" class=\"dataframe\">\n",
       "  <thead>\n",
       "    <tr style=\"text-align: right;\">\n",
       "      <th></th>\n",
       "      <th>human_indicator_code</th>\n",
       "      <th>human_indicator_name</th>\n",
       "      <th>human_indicator_value</th>\n",
       "      <th>year</th>\n",
       "      <th>human_indicator_nameR</th>\n",
       "    </tr>\n",
       "  </thead>\n",
       "  <tbody>\n",
       "    <tr>\n",
       "      <th>0</th>\n",
       "      <td>31706</td>\n",
       "      <td>share_seats_women_in_parliament</td>\n",
       "      <td>13.333333</td>\n",
       "      <td>2017</td>\n",
       "      <td>8</td>\n",
       "    </tr>\n",
       "    <tr>\n",
       "      <th>1</th>\n",
       "      <td>69206</td>\n",
       "      <td>life_expectancy_at_birth</td>\n",
       "      <td>74.372000</td>\n",
       "      <td>2017</td>\n",
       "      <td>1</td>\n",
       "    </tr>\n",
       "    <tr>\n",
       "      <th>2</th>\n",
       "      <td>69706</td>\n",
       "      <td>expected_years_of_schooling</td>\n",
       "      <td>14.389470</td>\n",
       "      <td>2017</td>\n",
       "      <td>2</td>\n",
       "    </tr>\n",
       "    <tr>\n",
       "      <th>3</th>\n",
       "      <td>103006</td>\n",
       "      <td>mean_years_of_schooling</td>\n",
       "      <td>8.400000</td>\n",
       "      <td>2017</td>\n",
       "      <td>6</td>\n",
       "    </tr>\n",
       "    <tr>\n",
       "      <th>4</th>\n",
       "      <td>103706</td>\n",
       "      <td>education_index</td>\n",
       "      <td>0.679708</td>\n",
       "      <td>2017</td>\n",
       "      <td>10</td>\n",
       "    </tr>\n",
       "    <tr>\n",
       "      <th>...</th>\n",
       "      <td>...</td>\n",
       "      <td>...</td>\n",
       "      <td>...</td>\n",
       "      <td>...</td>\n",
       "      <td>...</td>\n",
       "    </tr>\n",
       "    <tr>\n",
       "      <th>160</th>\n",
       "      <td>69206</td>\n",
       "      <td>life_expectancy_at_birth</td>\n",
       "      <td>67.314000</td>\n",
       "      <td>1990</td>\n",
       "      <td>1</td>\n",
       "    </tr>\n",
       "    <tr>\n",
       "      <th>161</th>\n",
       "      <td>69706</td>\n",
       "      <td>expected_years_of_schooling</td>\n",
       "      <td>12.717320</td>\n",
       "      <td>1990</td>\n",
       "      <td>2</td>\n",
       "    </tr>\n",
       "    <tr>\n",
       "      <th>162</th>\n",
       "      <td>136706</td>\n",
       "      <td>gdp_per_capita</td>\n",
       "      <td>14326.225240</td>\n",
       "      <td>1990</td>\n",
       "      <td>3</td>\n",
       "    </tr>\n",
       "    <tr>\n",
       "      <th>163</th>\n",
       "      <td>141706</td>\n",
       "      <td>gross_national_income_per_capita</td>\n",
       "      <td>13992.051630</td>\n",
       "      <td>1990</td>\n",
       "      <td>5</td>\n",
       "    </tr>\n",
       "    <tr>\n",
       "      <th>164</th>\n",
       "      <td>181706</td>\n",
       "      <td>rural_population_access_electricity</td>\n",
       "      <td>82.082064</td>\n",
       "      <td>1990</td>\n",
       "      <td>7</td>\n",
       "    </tr>\n",
       "  </tbody>\n",
       "</table>\n",
       "<p>165 rows × 5 columns</p>\n",
       "</div>"
      ],
      "text/plain": [
       "     human_indicator_code                 human_indicator_name  \\\n",
       "0                   31706      share_seats_women_in_parliament   \n",
       "1                   69206             life_expectancy_at_birth   \n",
       "2                   69706          expected_years_of_schooling   \n",
       "3                  103006              mean_years_of_schooling   \n",
       "4                  103706                      education_index   \n",
       "..                    ...                                  ...   \n",
       "160                 69206             life_expectancy_at_birth   \n",
       "161                 69706          expected_years_of_schooling   \n",
       "162                136706                       gdp_per_capita   \n",
       "163                141706     gross_national_income_per_capita   \n",
       "164                181706  rural_population_access_electricity   \n",
       "\n",
       "     human_indicator_value  year  human_indicator_nameR  \n",
       "0                13.333333  2017                      8  \n",
       "1                74.372000  2017                      1  \n",
       "2                14.389470  2017                      2  \n",
       "3                 8.400000  2017                      6  \n",
       "4                 0.679708  2017                     10  \n",
       "..                     ...   ...                    ...  \n",
       "160              67.314000  1990                      1  \n",
       "161              12.717320  1990                      2  \n",
       "162           14326.225240  1990                      3  \n",
       "163           13992.051630  1990                      5  \n",
       "164              82.082064  1990                      7  \n",
       "\n",
       "[165 rows x 5 columns]"
      ]
     },
     "execution_count": 1337,
     "metadata": {},
     "output_type": "execute_result"
    }
   ],
   "source": [
    "human_indicators2.reset_index(drop=True)"
   ]
  },
  {
   "cell_type": "markdown",
   "id": "2923cb60",
   "metadata": {},
   "source": [
    "Testing For Assumptions\n",
    "\n",
    "\n",
    "Testing for assumptions is important when preparing to do linear regression because it helps to ensure that the results obtained from the regression analysis are reliable and accurate.\n",
    "\n",
    "There are several assumptions that must be met for regression analysis to produce valid results. Some of these assumptions include:\n",
    "\n",
    "Linearity: The relationship between the dependent and independent variables should be linear.\n",
    "\n",
    "Independence: The observations should be independent of each other.\n",
    "\n",
    "Homoscedasticity: The variance of the residuals should be constant for all levels of the independent variables.\n",
    "\n",
    "Normality: The residuals should be normally distributed.\n",
    "\n",
    "No multicollinearity: The independent variables should not be highly correlated with each other.\n",
    "\n",
    "By testing for these assumptions, it is possible to identify any potential issues with the data and make necessary adjustments before conducting the regression analysis. This helps to improve the accuracy and reliability of the results and provides more meaningful insights into the relationship between the variables being studied."
   ]
  },
  {
   "cell_type": "markdown",
   "id": "cfabb2c9",
   "metadata": {},
   "source": [
    "Check For Linearity\n",
    "\n",
    "Checking for linearity is important because simple linear regression assumes that there is a linear relationship between the independent variable (time) and the dependent variable (human development index). If the relationship between the two variables is non-linear, the results of the regression analysis may not be meaningful or accurate.\n",
    "\n",
    "In general, if the relationship between the variables is non-linear, it may be necessary to transform one or both of the variables to make the relationship linear. This could involve transforming the variables using techniques such as logarithmic transformation or polynomial transformation.\n",
    "Checking for linearity is an important step in the regression analysis process, as it helps ensure that the results of the analysis are meaningful and accurate.\n"
   ]
  },
  {
   "cell_type": "code",
   "execution_count": 1338,
   "id": "337c9159",
   "metadata": {},
   "outputs": [],
   "source": [
    "from pylab import *\n",
    "%matplotlib inline\n",
    "import  statsmodels.api as sm\n",
    "import statsmodels.stats.api as sms\n",
    "from scipy.stats import boxcox"
   ]
  },
  {
   "cell_type": "code",
   "execution_count": 1339,
   "id": "85a735bc",
   "metadata": {},
   "outputs": [
    {
     "data": {
      "text/html": [
       "<div>\n",
       "<style scoped>\n",
       "    .dataframe tbody tr th:only-of-type {\n",
       "        vertical-align: middle;\n",
       "    }\n",
       "\n",
       "    .dataframe tbody tr th {\n",
       "        vertical-align: top;\n",
       "    }\n",
       "\n",
       "    .dataframe thead th {\n",
       "        text-align: right;\n",
       "    }\n",
       "</style>\n",
       "<table border=\"1\" class=\"dataframe\">\n",
       "  <thead>\n",
       "    <tr style=\"text-align: right;\">\n",
       "      <th></th>\n",
       "      <th>human_indicator_code</th>\n",
       "      <th>human_indicator_name</th>\n",
       "      <th>human_indicator_value</th>\n",
       "      <th>year</th>\n",
       "      <th>human_indicator_nameR</th>\n",
       "    </tr>\n",
       "  </thead>\n",
       "  <tbody>\n",
       "    <tr>\n",
       "      <th>1</th>\n",
       "      <td>31706</td>\n",
       "      <td>share_seats_women_in_parliament</td>\n",
       "      <td>13.333333</td>\n",
       "      <td>2017</td>\n",
       "      <td>8</td>\n",
       "    </tr>\n",
       "    <tr>\n",
       "      <th>7</th>\n",
       "      <td>69206</td>\n",
       "      <td>life_expectancy_at_birth</td>\n",
       "      <td>74.372000</td>\n",
       "      <td>2017</td>\n",
       "      <td>1</td>\n",
       "    </tr>\n",
       "    <tr>\n",
       "      <th>8</th>\n",
       "      <td>69706</td>\n",
       "      <td>expected_years_of_schooling</td>\n",
       "      <td>14.389470</td>\n",
       "      <td>2017</td>\n",
       "      <td>2</td>\n",
       "    </tr>\n",
       "    <tr>\n",
       "      <th>9</th>\n",
       "      <td>103006</td>\n",
       "      <td>mean_years_of_schooling</td>\n",
       "      <td>8.400000</td>\n",
       "      <td>2017</td>\n",
       "      <td>6</td>\n",
       "    </tr>\n",
       "    <tr>\n",
       "      <th>12</th>\n",
       "      <td>103706</td>\n",
       "      <td>education_index</td>\n",
       "      <td>0.679708</td>\n",
       "      <td>2017</td>\n",
       "      <td>10</td>\n",
       "    </tr>\n",
       "  </tbody>\n",
       "</table>\n",
       "</div>"
      ],
      "text/plain": [
       "    human_indicator_code             human_indicator_name  \\\n",
       "1                  31706  share_seats_women_in_parliament   \n",
       "7                  69206         life_expectancy_at_birth   \n",
       "8                  69706      expected_years_of_schooling   \n",
       "9                 103006          mean_years_of_schooling   \n",
       "12                103706                  education_index   \n",
       "\n",
       "    human_indicator_value  year  human_indicator_nameR  \n",
       "1               13.333333  2017                      8  \n",
       "7               74.372000  2017                      1  \n",
       "8               14.389470  2017                      2  \n",
       "9                8.400000  2017                      6  \n",
       "12               0.679708  2017                     10  "
      ]
     },
     "execution_count": 1339,
     "metadata": {},
     "output_type": "execute_result"
    }
   ],
   "source": [
    "human_indicators2.head()"
   ]
  },
  {
   "cell_type": "markdown",
   "id": "9061ad81",
   "metadata": {},
   "source": [
    "Group the data by the 'human indicators name' column"
   ]
  },
  {
   "cell_type": "code",
   "execution_count": 1340,
   "id": "abf3c686",
   "metadata": {},
   "outputs": [],
   "source": [
    "human_indicators2_grouped = human_indicators2.groupby('human_indicator_nameR')"
   ]
  },
  {
   "cell_type": "markdown",
   "id": "11499b97",
   "metadata": {},
   "source": [
    "Create a dataframe for each value in the 'human_indicators_nameR' column"
   ]
  },
  {
   "cell_type": "code",
   "execution_count": 1341,
   "id": "fce1baaf",
   "metadata": {},
   "outputs": [],
   "source": [
    "human_indicators2_list = [group for _, group in human_indicators2_grouped]"
   ]
  },
  {
   "cell_type": "markdown",
   "id": "e03b9643",
   "metadata": {},
   "source": [
    "Access each dataframe using indexing"
   ]
  },
  {
   "cell_type": "code",
   "execution_count": 1342,
   "id": "62f38bfa",
   "metadata": {},
   "outputs": [
    {
     "name": "stdout",
     "output_type": "stream",
     "text": [
      "     human_indicator_code      human_indicator_name  human_indicator_value  \\\n",
      "7                   69206  life_expectancy_at_birth                 74.372   \n",
      "35                  69206  life_expectancy_at_birth                 74.175   \n",
      "67                  69206  life_expectancy_at_birth                 73.975   \n",
      "106                 69206  life_expectancy_at_birth                 73.770   \n",
      "146                 69206  life_expectancy_at_birth                 73.561   \n",
      "188                 69206  life_expectancy_at_birth                 73.347   \n",
      "230                 69206  life_expectancy_at_birth                 73.127   \n",
      "270                 69206  life_expectancy_at_birth                 72.903   \n",
      "298                 69206  life_expectancy_at_birth                 72.674   \n",
      "306                 69206  life_expectancy_at_birth                 72.440   \n",
      "314                 69206  life_expectancy_at_birth                 72.200   \n",
      "322                 69206  life_expectancy_at_birth                 71.954   \n",
      "345                 69206  life_expectancy_at_birth                 71.697   \n",
      "374                 69206  life_expectancy_at_birth                 71.425   \n",
      "379                 69206  life_expectancy_at_birth                 71.137   \n",
      "384                 69206  life_expectancy_at_birth                 70.835   \n",
      "389                 69206  life_expectancy_at_birth                 70.519   \n",
      "412                 69206  life_expectancy_at_birth                 70.195   \n",
      "436                 69206  life_expectancy_at_birth                 69.868   \n",
      "441                 69206  life_expectancy_at_birth                 69.544   \n",
      "447                 69206  life_expectancy_at_birth                 69.228   \n",
      "452                 69206  life_expectancy_at_birth                 68.923   \n",
      "468                 69206  life_expectancy_at_birth                 68.631   \n",
      "487                 69206  life_expectancy_at_birth                 68.353   \n",
      "492                 69206  life_expectancy_at_birth                 68.084   \n",
      "497                 69206  life_expectancy_at_birth                 67.823   \n",
      "502                 69206  life_expectancy_at_birth                 67.568   \n",
      "519                 69206  life_expectancy_at_birth                 67.314   \n",
      "\n",
      "     year  human_indicator_nameR  \n",
      "7    2017                      1  \n",
      "35   2016                      1  \n",
      "67   2015                      1  \n",
      "106  2014                      1  \n",
      "146  2013                      1  \n",
      "188  2012                      1  \n",
      "230  2011                      1  \n",
      "270  2010                      1  \n",
      "298  2009                      1  \n",
      "306  2008                      1  \n",
      "314  2007                      1  \n",
      "322  2006                      1  \n",
      "345  2005                      1  \n",
      "374  2004                      1  \n",
      "379  2003                      1  \n",
      "384  2002                      1  \n",
      "389  2001                      1  \n",
      "412  2000                      1  \n",
      "436  1999                      1  \n",
      "441  1998                      1  \n",
      "447  1997                      1  \n",
      "452  1996                      1  \n",
      "468  1995                      1  \n",
      "487  1994                      1  \n",
      "492  1993                      1  \n",
      "497  1992                      1  \n",
      "502  1991                      1  \n",
      "519  1990                      1  \n",
      "     human_indicator_code         human_indicator_name  human_indicator_value  \\\n",
      "8                   69706  expected_years_of_schooling              14.389470   \n",
      "36                  69706  expected_years_of_schooling              14.173147   \n",
      "68                  69706  expected_years_of_schooling              14.173147   \n",
      "107                 69706  expected_years_of_schooling              14.173147   \n",
      "147                 69706  expected_years_of_schooling              13.956824   \n",
      "189                 69706  expected_years_of_schooling              13.740501   \n",
      "231                 69706  expected_years_of_schooling              13.524180   \n",
      "271                 69706  expected_years_of_schooling              13.307860   \n",
      "299                 69706  expected_years_of_schooling              13.005910   \n",
      "307                 69706  expected_years_of_schooling              12.875210   \n",
      "315                 69706  expected_years_of_schooling              12.883930   \n",
      "323                 69706  expected_years_of_schooling              12.892650   \n",
      "346                 69706  expected_years_of_schooling              12.901370   \n",
      "375                 69706  expected_years_of_schooling              12.910090   \n",
      "380                 69706  expected_years_of_schooling              12.918810   \n",
      "385                 69706  expected_years_of_schooling              12.927530   \n",
      "390                 69706  expected_years_of_schooling              12.936250   \n",
      "413                 69706  expected_years_of_schooling              12.944980   \n",
      "437                 69706  expected_years_of_schooling              12.953700   \n",
      "442                 69706  expected_years_of_schooling              12.962420   \n",
      "448                 69706  expected_years_of_schooling              12.971140   \n",
      "453                 69706  expected_years_of_schooling              12.979860   \n",
      "469                 69706  expected_years_of_schooling              12.988580   \n",
      "488                 69706  expected_years_of_schooling              12.997300   \n",
      "493                 69706  expected_years_of_schooling              13.006020   \n",
      "498                 69706  expected_years_of_schooling              12.876730   \n",
      "503                 69706  expected_years_of_schooling              12.797020   \n",
      "520                 69706  expected_years_of_schooling              12.717320   \n",
      "\n",
      "     year  human_indicator_nameR  \n",
      "8    2017                      2  \n",
      "36   2016                      2  \n",
      "68   2015                      2  \n",
      "107  2014                      2  \n",
      "147  2013                      2  \n",
      "189  2012                      2  \n",
      "231  2011                      2  \n",
      "271  2010                      2  \n",
      "299  2009                      2  \n",
      "307  2008                      2  \n",
      "315  2007                      2  \n",
      "323  2006                      2  \n",
      "346  2005                      2  \n",
      "375  2004                      2  \n",
      "380  2003                      2  \n",
      "385  2002                      2  \n",
      "390  2001                      2  \n",
      "413  2000                      2  \n",
      "437  1999                      2  \n",
      "442  1998                      2  \n",
      "448  1997                      2  \n",
      "453  1996                      2  \n",
      "469  1995                      2  \n",
      "488  1994                      2  \n",
      "493  1993                      2  \n",
      "498  1992                      2  \n",
      "503  1991                      2  \n",
      "520  1990                      2  \n",
      "     human_indicator_code human_indicator_name  human_indicator_value  year  \\\n",
      "16                 136706       gdp_per_capita            24654.38540  2017   \n",
      "46                 136706       gdp_per_capita            24463.61725  2016   \n",
      "80                 136706       gdp_per_capita            24169.85992  2015   \n",
      "119                136706       gdp_per_capita            23483.01238  2014   \n",
      "160                136706       gdp_per_capita            22399.09224  2013   \n",
      "203                136706       gdp_per_capita            21319.23496  2012   \n",
      "244                136706       gdp_per_capita            21689.30389  2011   \n",
      "284                136706       gdp_per_capita            21412.20145  2010   \n",
      "359                136706       gdp_per_capita            22127.64713  2005   \n",
      "424                136706       gdp_per_capita            20173.27281  2000   \n",
      "480                136706       gdp_per_capita            16585.38256  1995   \n",
      "530                136706       gdp_per_capita            14326.22524  1990   \n",
      "\n",
      "     human_indicator_nameR  \n",
      "16                       3  \n",
      "46                       3  \n",
      "80                       3  \n",
      "119                      3  \n",
      "160                      3  \n",
      "203                      3  \n",
      "244                      3  \n",
      "284                      3  \n",
      "359                      3  \n",
      "424                      3  \n",
      "480                      3  \n",
      "530                      3  \n",
      "     human_indicator_code     human_indicator_name  human_indicator_value  \\\n",
      "17                 137506  human_development_index               0.777845   \n",
      "47                 137506  human_development_index               0.774242   \n",
      "81                 137506  human_development_index               0.772708   \n",
      "120                137506  human_development_index               0.770395   \n",
      "161                137506  human_development_index               0.763297   \n",
      "204                137506  human_development_index               0.755679   \n",
      "245                137506  human_development_index               0.750983   \n",
      "285                137506  human_development_index               0.745055   \n",
      "304                137506  human_development_index               0.740151   \n",
      "312                137506  human_development_index               0.737748   \n",
      "320                137506  human_development_index               0.732687   \n",
      "328                137506  human_development_index               0.730279   \n",
      "360                137506  human_development_index               0.726518   \n",
      "\n",
      "     year  human_indicator_nameR  \n",
      "17   2017                      4  \n",
      "47   2016                      4  \n",
      "81   2015                      4  \n",
      "120  2014                      4  \n",
      "161  2013                      4  \n",
      "204  2012                      4  \n",
      "245  2011                      4  \n",
      "285  2010                      4  \n",
      "304  2009                      4  \n",
      "312  2008                      4  \n",
      "320  2007                      4  \n",
      "328  2006                      4  \n",
      "360  2005                      4  \n",
      "     human_indicator_code              human_indicator_name  \\\n",
      "18                 141706  gross_national_income_per_capita   \n",
      "48                 141706  gross_national_income_per_capita   \n",
      "82                 141706  gross_national_income_per_capita   \n",
      "121                141706  gross_national_income_per_capita   \n",
      "162                141706  gross_national_income_per_capita   \n",
      "205                141706  gross_national_income_per_capita   \n",
      "246                141706  gross_national_income_per_capita   \n",
      "286                141706  gross_national_income_per_capita   \n",
      "305                141706  gross_national_income_per_capita   \n",
      "313                141706  gross_national_income_per_capita   \n",
      "321                141706  gross_national_income_per_capita   \n",
      "329                141706  gross_national_income_per_capita   \n",
      "361                141706  gross_national_income_per_capita   \n",
      "378                141706  gross_national_income_per_capita   \n",
      "383                141706  gross_national_income_per_capita   \n",
      "388                141706  gross_national_income_per_capita   \n",
      "393                141706  gross_national_income_per_capita   \n",
      "425                141706  gross_national_income_per_capita   \n",
      "440                141706  gross_national_income_per_capita   \n",
      "445                141706  gross_national_income_per_capita   \n",
      "451                141706  gross_national_income_per_capita   \n",
      "456                141706  gross_national_income_per_capita   \n",
      "481                141706  gross_national_income_per_capita   \n",
      "491                141706  gross_national_income_per_capita   \n",
      "496                141706  gross_national_income_per_capita   \n",
      "501                141706  gross_national_income_per_capita   \n",
      "506                141706  gross_national_income_per_capita   \n",
      "531                141706  gross_national_income_per_capita   \n",
      "\n",
      "     human_indicator_value  year  human_indicator_nameR  \n",
      "18             23977.62596  2017                      5  \n",
      "48             23792.09437  2016                      5  \n",
      "82             23501.54856  2015                      5  \n",
      "121            22846.86231  2014                      5  \n",
      "162            21882.33998  2013                      5  \n",
      "205            20747.63523  2012                      5  \n",
      "246            20954.16097  2011                      5  \n",
      "286            20637.88903  2010                      5  \n",
      "305            21221.36551  2009                      5  \n",
      "313            22139.05055  2008                      5  \n",
      "321            21064.23936  2007                      5  \n",
      "329            21243.25636  2006                      5  \n",
      "361            20806.54137  2005                      5  \n",
      "378            19239.65755  2004                      5  \n",
      "383            18517.68950  2003                      5  \n",
      "388            19756.95173  2002                      5  \n",
      "393            19607.06632  2001                      5  \n",
      "425            18933.14503  2000                      5  \n",
      "440            17245.53408  1999                      5  \n",
      "445            17056.48432  1998                      5  \n",
      "451            17358.07392  1997                      5  \n",
      "456            16517.56176  1996                      5  \n",
      "481            15967.42419  1995                      5  \n",
      "491            15723.97151  1994                      5  \n",
      "496            15014.45760  1993                      5  \n",
      "501            14211.18968  1992                      5  \n",
      "506            13801.96697  1991                      5  \n",
      "531            13992.05163  1990                      5  \n",
      "     human_indicator_code     human_indicator_name  human_indicator_value  \\\n",
      "9                  103006  mean_years_of_schooling               8.400000   \n",
      "37                 103006  mean_years_of_schooling               8.400000   \n",
      "70                 103006  mean_years_of_schooling               8.400000   \n",
      "109                103006  mean_years_of_schooling               8.400000   \n",
      "150                103006  mean_years_of_schooling               8.261428   \n",
      "193                103006  mean_years_of_schooling               8.122856   \n",
      "234                103006  mean_years_of_schooling               7.984283   \n",
      "274                103006  mean_years_of_schooling               7.845711   \n",
      "300                103006  mean_years_of_schooling               7.709544   \n",
      "308                103006  mean_years_of_schooling               7.575740   \n",
      "316                103006  mean_years_of_schooling               7.444258   \n",
      "324                103006  mean_years_of_schooling               7.315058   \n",
      "349                103006  mean_years_of_schooling               7.188101   \n",
      "\n",
      "     year  human_indicator_nameR  \n",
      "9    2017                      6  \n",
      "37   2016                      6  \n",
      "70   2015                      6  \n",
      "109  2014                      6  \n",
      "150  2013                      6  \n",
      "193  2012                      6  \n",
      "234  2011                      6  \n",
      "274  2010                      6  \n",
      "300  2009                      6  \n",
      "308  2008                      6  \n",
      "316  2007                      6  \n",
      "324  2006                      6  \n",
      "349  2005                      6  \n",
      "     human_indicator_code                 human_indicator_name  \\\n",
      "52                 181706  rural_population_access_electricity   \n",
      "88                 181706  rural_population_access_electricity   \n",
      "129                181706  rural_population_access_electricity   \n",
      "169                181706  rural_population_access_electricity   \n",
      "211                181706  rural_population_access_electricity   \n",
      "252                181706  rural_population_access_electricity   \n",
      "295                181706  rural_population_access_electricity   \n",
      "371                181706  rural_population_access_electricity   \n",
      "433                181706  rural_population_access_electricity   \n",
      "486                181706  rural_population_access_electricity   \n",
      "537                181706  rural_population_access_electricity   \n",
      "\n",
      "     human_indicator_value  year  human_indicator_nameR  \n",
      "52              100.000000  2016                      7  \n",
      "88               99.902184  2015                      7  \n",
      "129              99.634254  2014                      7  \n",
      "169              99.125308  2013                      7  \n",
      "211              98.440071  2012                      7  \n",
      "252              97.692166  2011                      7  \n",
      "295              96.929525  2010                      7  \n",
      "371              93.489193  2005                      7  \n",
      "433              90.257529  2000                      7  \n",
      "486              86.420640  1995                      7  \n",
      "537              82.082064  1990                      7  \n",
      "     human_indicator_code             human_indicator_name  \\\n",
      "1                   31706  share_seats_women_in_parliament   \n",
      "22                  31706  share_seats_women_in_parliament   \n",
      "54                  31706  share_seats_women_in_parliament   \n",
      "92                  31706  share_seats_women_in_parliament   \n",
      "133                 31706  share_seats_women_in_parliament   \n",
      "173                 31706  share_seats_women_in_parliament   \n",
      "215                 31706  share_seats_women_in_parliament   \n",
      "256                 31706  share_seats_women_in_parliament   \n",
      "331                 31706  share_seats_women_in_parliament   \n",
      "395                 31706  share_seats_women_in_parliament   \n",
      "446                 31706  share_seats_women_in_parliament   \n",
      "458                 31706  share_seats_women_in_parliament   \n",
      "\n",
      "     human_indicator_value  year  human_indicator_nameR  \n",
      "1                13.333333  2017                      8  \n",
      "22               13.333333  2016                      8  \n",
      "54               13.333333  2015                      8  \n",
      "92                6.666667  2014                      8  \n",
      "133               6.666667  2013                      8  \n",
      "173               6.666667  2012                      8  \n",
      "215               6.666667  2011                      8  \n",
      "256               6.666667  2010                      8  \n",
      "331               0.100000  2005                      8  \n",
      "395              13.333333  2000                      8  \n",
      "446              13.333333  1997                      8  \n",
      "458              13.333333  1995                      8  \n",
      "     human_indicator_code                            human_indicator_name  \\\n",
      "128                181206  proportion_births_handled_by_skilled_personnel   \n",
      "168                181206  proportion_births_handled_by_skilled_personnel   \n",
      "210                181206  proportion_births_handled_by_skilled_personnel   \n",
      "251                181206  proportion_births_handled_by_skilled_personnel   \n",
      "294                181206  proportion_births_handled_by_skilled_personnel   \n",
      "370                181206  proportion_births_handled_by_skilled_personnel   \n",
      "432                181206  proportion_births_handled_by_skilled_personnel   \n",
      "\n",
      "     human_indicator_value  year  human_indicator_nameR  \n",
      "128                  100.0  2014                      9  \n",
      "168                  100.0  2013                      9  \n",
      "210                  100.0  2012                      9  \n",
      "251                  100.0  2011                      9  \n",
      "294                  100.0  2010                      9  \n",
      "370                  100.0  2005                      9  \n",
      "432                   99.4  2000                      9  \n",
      "     human_indicator_code human_indicator_name  human_indicator_value  year  \\\n",
      "12                 103706      education_index               0.679708  2017   \n",
      "40                 103706      education_index               0.673699  2016   \n",
      "73                 103706      education_index               0.673699  2015   \n",
      "112                103706      education_index               0.673699  2014   \n",
      "153                103706      education_index               0.663070  2013   \n",
      "196                103706      education_index               0.652442  2012   \n",
      "237                103706      education_index               0.641814  2011   \n",
      "277                103706      education_index               0.631186  2010   \n",
      "303                103706      education_index               0.618260  2009   \n",
      "311                103706      education_index               0.610169  2008   \n",
      "319                103706      education_index               0.606029  2007   \n",
      "327                103706      education_index               0.601964  2006   \n",
      "352                103706      education_index               0.597975  2005   \n",
      "\n",
      "     human_indicator_nameR  \n",
      "12                      10  \n",
      "40                      10  \n",
      "73                      10  \n",
      "112                     10  \n",
      "153                     10  \n",
      "196                     10  \n",
      "237                     10  \n",
      "277                     10  \n",
      "303                     10  \n",
      "311                     10  \n",
      "319                     10  \n",
      "327                     10  \n",
      "352                     10  \n"
     ]
    }
   ],
   "source": [
    "for i in range(len(human_indicators2_list)):\n",
    "    print(human_indicators2_list[i])"
   ]
  },
  {
   "cell_type": "markdown",
   "id": "7c7298e7",
   "metadata": {},
   "source": [
    "Loop through each dataframe in the list\n",
    "\n",
    "Get the independent variable\n",
    "Get the dependent variable\n",
    "\n",
    "Plot a scatter plot of each predictor variable against the dependent variable\n"
   ]
  },
  {
   "cell_type": "code",
   "execution_count": 1344,
   "id": "54490e19",
   "metadata": {},
   "outputs": [],
   "source": [
    "for i in range(len(human_indicators2_list)):\n",
    "    X = human_indicators2_list[i].drop(columns=['human_indicator_value', 'human_indicator_name'])\n",
    "    y = human_indicators2_list[i]['human_indicator_value']\n"
   ]
  },
  {
   "cell_type": "markdown",
   "id": "6a6c44ef",
   "metadata": {},
   "source": [
    "Check for Normality\n",
    "The independent variables and their associated values have been split into separate dataframes, therefore, check for normality of each independent variable in its own dataframe.  \n",
    "\n",
    "First Split the data into training and testing sets"
   ]
  },
  {
   "cell_type": "code",
   "execution_count": 1345,
   "id": "eb9ffa94",
   "metadata": {},
   "outputs": [],
   "source": [
    "X_train, X_test, y_train, y_test = train_test_split(X, y, test_size=0.2, random_state=0)"
   ]
  },
  {
   "cell_type": "markdown",
   "id": "772995da",
   "metadata": {},
   "source": [
    "Standardize the data"
   ]
  },
  {
   "cell_type": "code",
   "execution_count": 1346,
   "id": "16a5858d",
   "metadata": {},
   "outputs": [],
   "source": [
    "human_indicators2_scaler = StandardScaler()\n",
    "X_train = human_indicators2_scaler.fit_transform(X_train)\n",
    "X_test = human_indicators2_scaler.transform(X_test)"
   ]
  },
  {
   "cell_type": "markdown",
   "id": "8e26f014",
   "metadata": {},
   "source": [
    "Create a pair plot using seaborn.\n",
    "\n",
    "The 'human_indicator_value' is dropped from the sns.pairplot because it is the dependent variable in the multiple linear regression analysis, and the pairplot is used to visualize the relationships between the independent variables.\n",
    "In a pairplot, scatterplots are created between each pair of variables in the data. The purpose of the pairplot is to visualize the relationships between the independent variables, and to identify any outliers or trends in the data.\n",
    "Including the dependent variable, the human development index, in the pairplot would not provide meaningful information, as it is not a predictor variable. The relationships between the human development index and the independent variables will be analyzed in the multiple linear regression analysis, not in the pairplot.\n",
    "Therefore, to keep the focus on the relationships between the independent variables, the human development index column is dropped from the pairplot."
   ]
  },
  {
   "cell_type": "code",
   "execution_count": 1347,
   "id": "7a11bffe",
   "metadata": {},
   "outputs": [
    {
     "data": {
      "image/png": "[encoded data removed]",
      "text/plain": [
       "<Figure size 1500x1500 with 12 Axes>"
      ]
     },
     "metadata": {},
     "output_type": "display_data"
    }
   ],
   "source": [
    "sns.pairplot(human_indicators2_list[i].drop(columns=['human_indicator_value']), height=5)\n",
    "plt.show()"
   ]
  },
  {
   "cell_type": "markdown",
   "id": "338ec9ec",
   "metadata": {},
   "source": [
    "Loop through each column in the independent variable\n",
    "\n",
    "Create a histogram of the column using sns.displot"
   ]
  },
  {
   "cell_type": "code",
   "execution_count": 1348,
   "id": "2fab01cb",
   "metadata": {},
   "outputs": [
    {
     "data": {
      "image/png": "[encoded data removed]",
      "text/plain": [
       "<Figure size 640x480 with 1 Axes>"
      ]
     },
     "metadata": {},
     "output_type": "display_data"
    },
    {
     "data": {
      "image/png": "[encoded data removed]",
      "text/plain": [
       "<Figure size 640x480 with 1 Axes>"
      ]
     },
     "metadata": {},
     "output_type": "display_data"
    },
    {
     "data": {
      "image/png": "[encoded data removed]",
      "text/plain": [
       "<Figure size 640x480 with 1 Axes>"
      ]
     },
     "metadata": {},
     "output_type": "display_data"
    }
   ],
   "source": [
    "for column in X.columns:\n",
    "    sns.histplot(X[column], kde=True, stat=\"density\", kde_kws=dict(cut=3), alpha=.4, edgecolor=(1, 1, 1, .4))\n",
    "    plt.show()"
   ]
  },
  {
   "cell_type": "markdown",
   "id": "ae98bd4b",
   "metadata": {},
   "source": [
    "In a histogram, normality can be visually assessed by examining the shape of the distribution. A normal distribution is characterized by having a bell-shaped curve, with the majority of the data points clustered around the mean and tapering off at either end.\n",
    "\n",
    "In a histogram, a normal distribution will appear as a symmetrical, bell-shaped curve with a single peak that represents the mean of the data. The height of the peak represents the frequency of the data points that fall within the bin. The distribution should also be roughly uniform across all bins, with no outliers or skewness.\n",
    "\n",
    "If the histogram is not symmetrical, has multiple peaks, or has outliers, it may indicate that the data is not normally distributed. This can have implications for the validity of statistical tests and models, and it may require further investigation or data transformation.\n",
    "\n",
    "This histograms does not have bell curve except the year histogram. "
   ]
  },
  {
   "cell_type": "markdown",
   "id": "e937e045",
   "metadata": {},
   "source": [
    "Testing for Homoscedasticity\n",
    "\n",
    "Homoscedasticity is an important assumption in regression analysis that states that the variance of the residuals (errors) is constant across the range of the independent variable. In other words, the spread of the residuals is the same regardless of the value of the independent variable.\n",
    "\n",
    "This assumption is important because if the residuals are heteroscedastic (the spread is not constant), then the results of the regression analysis may be biased and unreliable. For example, if the residuals are larger for larger values of the independent variable, then the regression line will tend to underestimate the response for large values and overestimate it for small values. This can lead to incorrect conclusions about the relationship between the independent and dependent variables.\n",
    "\n",
    "Therefore, checking for homoscedasticity is an important step in regression analysis to ensure that the results are valid and trustworthy. There are various statistical tests and visual methods that can be used to check for homoscedasticity, such as the Breusch-Pagan test, the White test, and residual plots.\n",
    "\n",
    " a Loop through each dataframe in the list to get the independent and dependent variables (X and Y) was performed earlier."
   ]
  },
  {
   "cell_type": "markdown",
   "id": "cc63e016",
   "metadata": {},
   "source": [
    "Create a basic linear regression model"
   ]
  },
  {
   "cell_type": "code",
   "execution_count": 1349,
   "id": "1bee0878",
   "metadata": {},
   "outputs": [],
   "source": [
    "from statsmodels.regression.linear_model import OLS"
   ]
  },
  {
   "cell_type": "code",
   "execution_count": 1350,
   "id": "3a1fe39f",
   "metadata": {},
   "outputs": [],
   "source": [
    "model = sm.OLS(y, X).fit()"
   ]
  },
  {
   "cell_type": "markdown",
   "id": "170d3b69",
   "metadata": {},
   "source": [
    "Above call the OLS function out of the statsmodels package to indicate that an ordinary least squares regression will be performed instead of any other type, then place the y and x values, and call .fit().\n",
    "\n",
    "The smf.OLS function is used to create the linear regression model, and the fit method is used to fit the model to the data.\n",
    "\n",
    "Below the residuals from the model are stored in the residuals variable, and a scatterplot of the residuals is created using the sns.scatterplot function. The scatterplot shows the relationship between the residuals and the dependent variable.\n",
    "\n",
    "This code creates a scatterplot of the residuals for each dataframe in the list of dataframes. The scatterplot helps to visually inspect the homoscedasticity of the residuals, as homoscedastic residuals will have a constant variance across the values of the dependent variable.\n",
    "\n",
    "Plot the residuals against the dependent variable using plt.scatter\n",
    "\n",
    "First, get the predicted values from the model"
   ]
  },
  {
   "cell_type": "code",
   "execution_count": 1353,
   "id": "1f19fad2",
   "metadata": {},
   "outputs": [],
   "source": [
    "y_pred = model.fittedvalues.copy()\n",
    "Y_true = human_indicators2['human_indicator_name'].copy()"
   ]
  },
  {
   "cell_type": "markdown",
   "id": "40de0128",
   "metadata": {},
   "source": [
    "Get the residuals by subtracting the predicted values from the true values"
   ]
  },
  {
   "cell_type": "code",
   "execution_count": 1354,
   "id": "8ff12ec8",
   "metadata": {},
   "outputs": [],
   "source": [
    "residuals = y - y_pred"
   ]
  },
  {
   "cell_type": "markdown",
   "id": "2f4e5fe3",
   "metadata": {},
   "source": [
    "Plot the residuals against the dependent variable using plt.scatter"
   ]
  },
  {
   "cell_type": "code",
   "execution_count": 1355,
   "id": "e725822b",
   "metadata": {},
   "outputs": [
    {
     "data": {
      "image/png": "[encoded data removed]",
      "text/plain": [
       "<Figure size 640x480 with 1 Axes>"
      ]
     },
     "metadata": {},
     "output_type": "display_data"
    }
   ],
   "source": [
    "plt.scatter(y, residuals)\n",
    "plt.show()"
   ]
  },
  {
   "cell_type": "markdown",
   "id": "0c722797",
   "metadata": {},
   "source": [
    "Breusch Pagan Test"
   ]
  },
  {
   "cell_type": "code",
   "execution_count": 1356,
   "id": "583c9f0d",
   "metadata": {},
   "outputs": [],
   "source": [
    "import statsmodels.stats.api as sms"
   ]
  },
  {
   "cell_type": "code",
   "execution_count": 1357,
   "id": "b879733b",
   "metadata": {},
   "outputs": [
    {
     "ename": "ValueError",
     "evalue": "endog and exog matrices are different sizes",
     "output_type": "error",
     "traceback": [
      "\u001b[1;31m---------------------------------------------------------------------------\u001b[0m",
      "\u001b[1;31mValueError\u001b[0m                                Traceback (most recent call last)",
      "Cell \u001b[1;32mIn [1357], line 1\u001b[0m\n\u001b[1;32m----> 1\u001b[0m bp_test \u001b[38;5;241m=\u001b[39m \u001b[43msms\u001b[49m\u001b[38;5;241;43m.\u001b[39;49m\u001b[43mhet_breuschpagan\u001b[49m\u001b[43m(\u001b[49m\u001b[43mresidual\u001b[49m\u001b[43m,\u001b[49m\u001b[43m \u001b[49m\u001b[43mmodel\u001b[49m\u001b[38;5;241;43m.\u001b[39;49m\u001b[43mmodel\u001b[49m\u001b[38;5;241;43m.\u001b[39;49m\u001b[43mexog\u001b[49m\u001b[43m)\u001b[49m\n",
      "File \u001b[1;32mC:\\Python3\\lib\\site-packages\\statsmodels\\stats\\diagnostic.py:811\u001b[0m, in \u001b[0;36mhet_breuschpagan\u001b[1;34m(resid, exog_het, robust)\u001b[0m\n\u001b[0;32m    809\u001b[0m     y \u001b[38;5;241m=\u001b[39m y \u001b[38;5;241m/\u001b[39m np\u001b[38;5;241m.\u001b[39mmean(y)\n\u001b[0;32m    810\u001b[0m nobs, nvars \u001b[38;5;241m=\u001b[39m x\u001b[38;5;241m.\u001b[39mshape\n\u001b[1;32m--> 811\u001b[0m resols \u001b[38;5;241m=\u001b[39m \u001b[43mOLS\u001b[49m\u001b[43m(\u001b[49m\u001b[43my\u001b[49m\u001b[43m,\u001b[49m\u001b[43m \u001b[49m\u001b[43mx\u001b[49m\u001b[43m)\u001b[49m\u001b[38;5;241m.\u001b[39mfit()\n\u001b[0;32m    812\u001b[0m fval \u001b[38;5;241m=\u001b[39m resols\u001b[38;5;241m.\u001b[39mfvalue\n\u001b[0;32m    813\u001b[0m fpval \u001b[38;5;241m=\u001b[39m resols\u001b[38;5;241m.\u001b[39mf_pvalue\n",
      "File \u001b[1;32mC:\\Python3\\lib\\site-packages\\statsmodels\\regression\\linear_model.py:906\u001b[0m, in \u001b[0;36mOLS.__init__\u001b[1;34m(self, endog, exog, missing, hasconst, **kwargs)\u001b[0m\n\u001b[0;32m    903\u001b[0m     msg \u001b[38;5;241m=\u001b[39m (\u001b[38;5;124m\"\u001b[39m\u001b[38;5;124mWeights are not supported in OLS and will be ignored\u001b[39m\u001b[38;5;124m\"\u001b[39m\n\u001b[0;32m    904\u001b[0m            \u001b[38;5;124m\"\u001b[39m\u001b[38;5;124mAn exception will be raised in the next version.\u001b[39m\u001b[38;5;124m\"\u001b[39m)\n\u001b[0;32m    905\u001b[0m     warnings\u001b[38;5;241m.\u001b[39mwarn(msg, ValueWarning)\n\u001b[1;32m--> 906\u001b[0m \u001b[38;5;28msuper\u001b[39m(OLS, \u001b[38;5;28mself\u001b[39m)\u001b[38;5;241m.\u001b[39m\u001b[38;5;21m__init__\u001b[39m(endog, exog, missing\u001b[38;5;241m=\u001b[39mmissing,\n\u001b[0;32m    907\u001b[0m                           hasconst\u001b[38;5;241m=\u001b[39mhasconst, \u001b[38;5;241m*\u001b[39m\u001b[38;5;241m*\u001b[39mkwargs)\n\u001b[0;32m    908\u001b[0m \u001b[38;5;28;01mif\u001b[39;00m \u001b[38;5;124m\"\u001b[39m\u001b[38;5;124mweights\u001b[39m\u001b[38;5;124m\"\u001b[39m \u001b[38;5;129;01min\u001b[39;00m \u001b[38;5;28mself\u001b[39m\u001b[38;5;241m.\u001b[39m_init_keys:\n\u001b[0;32m    909\u001b[0m     \u001b[38;5;28mself\u001b[39m\u001b[38;5;241m.\u001b[39m_init_keys\u001b[38;5;241m.\u001b[39mremove(\u001b[38;5;124m\"\u001b[39m\u001b[38;5;124mweights\u001b[39m\u001b[38;5;124m\"\u001b[39m)\n",
      "File \u001b[1;32mC:\\Python3\\lib\\site-packages\\statsmodels\\regression\\linear_model.py:733\u001b[0m, in \u001b[0;36mWLS.__init__\u001b[1;34m(self, endog, exog, weights, missing, hasconst, **kwargs)\u001b[0m\n\u001b[0;32m    731\u001b[0m \u001b[38;5;28;01melse\u001b[39;00m:\n\u001b[0;32m    732\u001b[0m     weights \u001b[38;5;241m=\u001b[39m weights\u001b[38;5;241m.\u001b[39msqueeze()\n\u001b[1;32m--> 733\u001b[0m \u001b[38;5;28msuper\u001b[39m(WLS, \u001b[38;5;28mself\u001b[39m)\u001b[38;5;241m.\u001b[39m\u001b[38;5;21m__init__\u001b[39m(endog, exog, missing\u001b[38;5;241m=\u001b[39mmissing,\n\u001b[0;32m    734\u001b[0m                           weights\u001b[38;5;241m=\u001b[39mweights, hasconst\u001b[38;5;241m=\u001b[39mhasconst, \u001b[38;5;241m*\u001b[39m\u001b[38;5;241m*\u001b[39mkwargs)\n\u001b[0;32m    735\u001b[0m nobs \u001b[38;5;241m=\u001b[39m \u001b[38;5;28mself\u001b[39m\u001b[38;5;241m.\u001b[39mexog\u001b[38;5;241m.\u001b[39mshape[\u001b[38;5;241m0\u001b[39m]\n\u001b[0;32m    736\u001b[0m weights \u001b[38;5;241m=\u001b[39m \u001b[38;5;28mself\u001b[39m\u001b[38;5;241m.\u001b[39mweights\n",
      "File \u001b[1;32mC:\\Python3\\lib\\site-packages\\statsmodels\\regression\\linear_model.py:190\u001b[0m, in \u001b[0;36mRegressionModel.__init__\u001b[1;34m(self, endog, exog, **kwargs)\u001b[0m\n\u001b[0;32m    189\u001b[0m \u001b[38;5;28;01mdef\u001b[39;00m \u001b[38;5;21m__init__\u001b[39m(\u001b[38;5;28mself\u001b[39m, endog, exog, \u001b[38;5;241m*\u001b[39m\u001b[38;5;241m*\u001b[39mkwargs):\n\u001b[1;32m--> 190\u001b[0m     \u001b[38;5;28msuper\u001b[39m(RegressionModel, \u001b[38;5;28mself\u001b[39m)\u001b[38;5;241m.\u001b[39m\u001b[38;5;21m__init__\u001b[39m(endog, exog, \u001b[38;5;241m*\u001b[39m\u001b[38;5;241m*\u001b[39mkwargs)\n\u001b[0;32m    191\u001b[0m     \u001b[38;5;28mself\u001b[39m\u001b[38;5;241m.\u001b[39m_data_attr\u001b[38;5;241m.\u001b[39mextend([\u001b[38;5;124m'\u001b[39m\u001b[38;5;124mpinv_wexog\u001b[39m\u001b[38;5;124m'\u001b[39m, \u001b[38;5;124m'\u001b[39m\u001b[38;5;124mwendog\u001b[39m\u001b[38;5;124m'\u001b[39m, \u001b[38;5;124m'\u001b[39m\u001b[38;5;124mwexog\u001b[39m\u001b[38;5;124m'\u001b[39m, \u001b[38;5;124m'\u001b[39m\u001b[38;5;124mweights\u001b[39m\u001b[38;5;124m'\u001b[39m])\n",
      "File \u001b[1;32mC:\\Python3\\lib\\site-packages\\statsmodels\\base\\model.py:267\u001b[0m, in \u001b[0;36mLikelihoodModel.__init__\u001b[1;34m(self, endog, exog, **kwargs)\u001b[0m\n\u001b[0;32m    266\u001b[0m \u001b[38;5;28;01mdef\u001b[39;00m \u001b[38;5;21m__init__\u001b[39m(\u001b[38;5;28mself\u001b[39m, endog, exog\u001b[38;5;241m=\u001b[39m\u001b[38;5;28;01mNone\u001b[39;00m, \u001b[38;5;241m*\u001b[39m\u001b[38;5;241m*\u001b[39mkwargs):\n\u001b[1;32m--> 267\u001b[0m     \u001b[38;5;28msuper\u001b[39m()\u001b[38;5;241m.\u001b[39m\u001b[38;5;21m__init__\u001b[39m(endog, exog, \u001b[38;5;241m*\u001b[39m\u001b[38;5;241m*\u001b[39mkwargs)\n\u001b[0;32m    268\u001b[0m     \u001b[38;5;28mself\u001b[39m\u001b[38;5;241m.\u001b[39minitialize()\n",
      "File \u001b[1;32mC:\\Python3\\lib\\site-packages\\statsmodels\\base\\model.py:92\u001b[0m, in \u001b[0;36mModel.__init__\u001b[1;34m(self, endog, exog, **kwargs)\u001b[0m\n\u001b[0;32m     90\u001b[0m missing \u001b[38;5;241m=\u001b[39m kwargs\u001b[38;5;241m.\u001b[39mpop(\u001b[38;5;124m'\u001b[39m\u001b[38;5;124mmissing\u001b[39m\u001b[38;5;124m'\u001b[39m, \u001b[38;5;124m'\u001b[39m\u001b[38;5;124mnone\u001b[39m\u001b[38;5;124m'\u001b[39m)\n\u001b[0;32m     91\u001b[0m hasconst \u001b[38;5;241m=\u001b[39m kwargs\u001b[38;5;241m.\u001b[39mpop(\u001b[38;5;124m'\u001b[39m\u001b[38;5;124mhasconst\u001b[39m\u001b[38;5;124m'\u001b[39m, \u001b[38;5;28;01mNone\u001b[39;00m)\n\u001b[1;32m---> 92\u001b[0m \u001b[38;5;28mself\u001b[39m\u001b[38;5;241m.\u001b[39mdata \u001b[38;5;241m=\u001b[39m \u001b[38;5;28mself\u001b[39m\u001b[38;5;241m.\u001b[39m_handle_data(endog, exog, missing, hasconst,\n\u001b[0;32m     93\u001b[0m                               \u001b[38;5;241m*\u001b[39m\u001b[38;5;241m*\u001b[39mkwargs)\n\u001b[0;32m     94\u001b[0m \u001b[38;5;28mself\u001b[39m\u001b[38;5;241m.\u001b[39mk_constant \u001b[38;5;241m=\u001b[39m \u001b[38;5;28mself\u001b[39m\u001b[38;5;241m.\u001b[39mdata\u001b[38;5;241m.\u001b[39mk_constant\n\u001b[0;32m     95\u001b[0m \u001b[38;5;28mself\u001b[39m\u001b[38;5;241m.\u001b[39mexog \u001b[38;5;241m=\u001b[39m \u001b[38;5;28mself\u001b[39m\u001b[38;5;241m.\u001b[39mdata\u001b[38;5;241m.\u001b[39mexog\n",
      "File \u001b[1;32mC:\\Python3\\lib\\site-packages\\statsmodels\\base\\model.py:132\u001b[0m, in \u001b[0;36mModel._handle_data\u001b[1;34m(self, endog, exog, missing, hasconst, **kwargs)\u001b[0m\n\u001b[0;32m    131\u001b[0m \u001b[38;5;28;01mdef\u001b[39;00m \u001b[38;5;21m_handle_data\u001b[39m(\u001b[38;5;28mself\u001b[39m, endog, exog, missing, hasconst, \u001b[38;5;241m*\u001b[39m\u001b[38;5;241m*\u001b[39mkwargs):\n\u001b[1;32m--> 132\u001b[0m     data \u001b[38;5;241m=\u001b[39m handle_data(endog, exog, missing, hasconst, \u001b[38;5;241m*\u001b[39m\u001b[38;5;241m*\u001b[39mkwargs)\n\u001b[0;32m    133\u001b[0m     \u001b[38;5;66;03m# kwargs arrays could have changed, easier to just attach here\u001b[39;00m\n\u001b[0;32m    134\u001b[0m     \u001b[38;5;28;01mfor\u001b[39;00m key \u001b[38;5;129;01min\u001b[39;00m kwargs:\n",
      "File \u001b[1;32mC:\\Python3\\lib\\site-packages\\statsmodels\\base\\data.py:700\u001b[0m, in \u001b[0;36mhandle_data\u001b[1;34m(endog, exog, missing, hasconst, **kwargs)\u001b[0m\n\u001b[0;32m    697\u001b[0m     exog \u001b[38;5;241m=\u001b[39m np\u001b[38;5;241m.\u001b[39masarray(exog)\n\u001b[0;32m    699\u001b[0m klass \u001b[38;5;241m=\u001b[39m handle_data_class_factory(endog, exog)\n\u001b[1;32m--> 700\u001b[0m \u001b[38;5;28;01mreturn\u001b[39;00m klass(endog, exog\u001b[38;5;241m=\u001b[39mexog, missing\u001b[38;5;241m=\u001b[39mmissing, hasconst\u001b[38;5;241m=\u001b[39mhasconst,\n\u001b[0;32m    701\u001b[0m              \u001b[38;5;241m*\u001b[39m\u001b[38;5;241m*\u001b[39mkwargs)\n",
      "File \u001b[1;32mC:\\Python3\\lib\\site-packages\\statsmodels\\base\\data.py:89\u001b[0m, in \u001b[0;36mModelData.__init__\u001b[1;34m(self, endog, exog, missing, hasconst, **kwargs)\u001b[0m\n\u001b[0;32m     87\u001b[0m \u001b[38;5;28mself\u001b[39m\u001b[38;5;241m.\u001b[39mk_constant \u001b[38;5;241m=\u001b[39m \u001b[38;5;241m0\u001b[39m\n\u001b[0;32m     88\u001b[0m \u001b[38;5;28mself\u001b[39m\u001b[38;5;241m.\u001b[39m_handle_constant(hasconst)\n\u001b[1;32m---> 89\u001b[0m \u001b[38;5;28;43mself\u001b[39;49m\u001b[38;5;241;43m.\u001b[39;49m\u001b[43m_check_integrity\u001b[49m\u001b[43m(\u001b[49m\u001b[43m)\u001b[49m\n\u001b[0;32m     90\u001b[0m \u001b[38;5;28mself\u001b[39m\u001b[38;5;241m.\u001b[39m_cache \u001b[38;5;241m=\u001b[39m {}\n",
      "File \u001b[1;32mC:\\Python3\\lib\\site-packages\\statsmodels\\base\\data.py:436\u001b[0m, in \u001b[0;36mModelData._check_integrity\u001b[1;34m(self)\u001b[0m\n\u001b[0;32m    434\u001b[0m \u001b[38;5;28;01mif\u001b[39;00m \u001b[38;5;28mself\u001b[39m\u001b[38;5;241m.\u001b[39mexog \u001b[38;5;129;01mis\u001b[39;00m \u001b[38;5;129;01mnot\u001b[39;00m \u001b[38;5;28;01mNone\u001b[39;00m:\n\u001b[0;32m    435\u001b[0m     \u001b[38;5;28;01mif\u001b[39;00m \u001b[38;5;28mlen\u001b[39m(\u001b[38;5;28mself\u001b[39m\u001b[38;5;241m.\u001b[39mexog) \u001b[38;5;241m!=\u001b[39m \u001b[38;5;28mlen\u001b[39m(\u001b[38;5;28mself\u001b[39m\u001b[38;5;241m.\u001b[39mendog):\n\u001b[1;32m--> 436\u001b[0m         \u001b[38;5;28;01mraise\u001b[39;00m \u001b[38;5;167;01mValueError\u001b[39;00m(\u001b[38;5;124m\"\u001b[39m\u001b[38;5;124mendog and exog matrices are different sizes\u001b[39m\u001b[38;5;124m\"\u001b[39m)\n",
      "\u001b[1;31mValueError\u001b[0m: endog and exog matrices are different sizes"
     ]
    }
   ],
   "source": [
    "bp_test = sms.het_breuschpagan(residual, model.model.exog)"
   ]
  },
  {
   "cell_type": "code",
   "execution_count": null,
   "id": "cec9e86f",
   "metadata": {},
   "outputs": [],
   "source": [
    "print(bp_test)"
   ]
  },
  {
   "cell_type": "markdown",
   "id": "6d29331b",
   "metadata": {},
   "source": [
    "1738.36 is the F value to test for homoscedasticity. Like all F values, the bigger it is, the more likely it is to be statistically significant.\n",
    "\n",
    "9.564159156983852e-85 has 85 zeros before the decimal place followed by 96. This is the p value to test for homoscedasticity. If it is < .05 (stastically significant), then this means you have violated the assumption of homoscedasticity and your data is, in fact, heteroscedastic. Therefore the data above is heteroscedastic.\n",
    "\n"
   ]
  },
  {
   "cell_type": "markdown",
   "id": "7c653234",
   "metadata": {},
   "source": [
    "Transform the data so they become homocedastic"
   ]
  },
  {
   "cell_type": "code",
   "execution_count": null,
   "id": "1be0f8a3",
   "metadata": {},
   "outputs": [],
   "source": [
    "transformed, _ = boxcox(human_indicators2['human_indicator_nameR'])"
   ]
  },
  {
   "cell_type": "code",
   "execution_count": null,
   "id": "9bafdcbe",
   "metadata": {},
   "outputs": [],
   "source": [
    "plt.hist(transformed)"
   ]
  },
  {
   "cell_type": "markdown",
   "id": "d13050e9",
   "metadata": {},
   "source": [
    "still don't have a normal distribution with a beautiful bell curve, therefore it is unlikely hetereoscedasticity has been corrected.  Pull these values into a and re-run tests for homoscedasticity. Just re-assign x as transformed and create a new model:"
   ]
  },
  {
   "cell_type": "code",
   "execution_count": null,
   "id": "943b2248",
   "metadata": {},
   "outputs": [],
   "source": [
    "x = transformed\n",
    "model1 = OLS(y, X).fit()\n",
    "model1.summary()"
   ]
  },
  {
   "cell_type": "markdown",
   "id": "6a8fffde",
   "metadata": {},
   "source": [
    "Create new residual values"
   ]
  },
  {
   "cell_type": "code",
   "execution_count": null,
   "id": "0717e998",
   "metadata": {},
   "outputs": [],
   "source": [
    "y_pred = model1.predict(X)\n",
    "residuals = y - y_pred"
   ]
  },
  {
   "cell_type": "markdown",
   "id": "f56c7a34",
   "metadata": {},
   "source": [
    "Replot the graph"
   ]
  },
  {
   "cell_type": "code",
   "execution_count": null,
   "id": "38e0d46f",
   "metadata": {},
   "outputs": [],
   "source": [
    "plt.scatter(y, residuals)\n",
    "plt.show()"
   ]
  },
  {
   "cell_type": "markdown",
   "id": "e4f708e7",
   "metadata": {},
   "source": [
    "Data has not been fixed. "
   ]
  },
  {
   "cell_type": "markdown",
   "id": "1120c68e",
   "metadata": {},
   "source": [
    "Testing for Multicollinearity"
   ]
  },
  {
   "cell_type": "code",
   "execution_count": null,
   "id": "c929f87e",
   "metadata": {},
   "outputs": [],
   "source": [
    "human_indicators2.corr()"
   ]
  },
  {
   "cell_type": "code",
   "execution_count": null,
   "id": "c28ef298",
   "metadata": {},
   "outputs": [],
   "source": [
    "sns.heatmap(human_indicators2.corr(), annot=True)"
   ]
  },
  {
   "cell_type": "markdown",
   "id": "3cd24ed4",
   "metadata": {},
   "source": [
    "The Varance inflation factor VIF was calculated. \n",
    "A VIF value of 1 indicates that there is no multicollinearity, while a VIF value greater than 1 indicates increasing levels of multicollinearity. A VIF value of 5 or higher is generally considered to be a high level of multicollinearity. If there are any of the VIF values that are high, the varaible may need to be removed or find a way to reduce its correlation with the other variables. However, this is not the case as all values are one or lower. "
   ]
  },
  {
   "cell_type": "markdown",
   "id": "d213d3f8",
   "metadata": {},
   "source": [
    "Screening for outliers"
   ]
  },
  {
   "cell_type": "code",
   "execution_count": null,
   "id": "0fd5e48d",
   "metadata": {},
   "outputs": [],
   "source": [
    "fig, ax = plt.subplots(figsize=(12,8))\n",
    "fig = sm.graphics.influence_plot(model, alpha = .05, ax = ax, criterion=\"cooks\")"
   ]
  },
  {
   "cell_type": "markdown",
   "id": "fb590c4b",
   "metadata": {},
   "source": [
    "The larger the dot on this plot, the more likely something is to be an outlier. However, something is only officially an outlier when it has a row number next to it. In this case, there are two rows that need to be addressed. "
   ]
  },
  {
   "cell_type": "code",
   "execution_count": null,
   "id": "a3d596b0",
   "metadata": {},
   "outputs": [],
   "source": [
    "model.get_influence()\n",
    "print(infl.summary_frame())"
   ]
  },
  {
   "cell_type": "markdown",
   "id": "e89cd067",
   "metadata": {},
   "source": [
    "The DFBETAS value is shown in the dfb_human_indicator_nameR column, and if any value is greater than 1, then there is a problem with an influential value. \n",
    "\n",
    "The DFFITS value is shown in the dffits column, and like DFBETAS, if there is  a value greater than 1, this indicates a problem.\n",
    "\n",
    "Leverage values are shown in the hat_diag column, and if a value is in the .2 - .5 range, there may be a moderate outlier problem, and if it is over .5, then you have a large outlier problem.\n",
    "\n",
    "Studentized deleted residuals are shown in the student_resid column, and if there is a value over 2.5 or 3, there is probably an outlier problem.\n",
    "\n",
    "There do not seem to be an outlier problem"
   ]
  },
  {
   "cell_type": "code",
   "execution_count": null,
   "id": "fbf09c16",
   "metadata": {},
   "outputs": [],
   "source": [
    "Taking at look at the distribution of the data."
   ]
  },
  {
   "cell_type": "code",
   "execution_count": null,
   "id": "e00b865d",
   "metadata": {},
   "outputs": [],
   "source": [
    " for column in X.columns:\n",
    "        sns.boxplot(x=X[column], color=\"red\")\n",
    "        plt.show()"
   ]
  },
  {
   "cell_type": "code",
   "execution_count": null,
   "id": "204f924b",
   "metadata": {},
   "outputs": [],
   "source": [
    "for column in X.columns:\n",
    "        sns.scatterplot(x=X[column], y=y, color=\"blue\")\n",
    "        plt.show()"
   ]
  },
  {
   "cell_type": "markdown",
   "id": "0c99ba15",
   "metadata": {},
   "source": [
    "The presence of outliers can be determined by observing any points that lie outside of the whiskers in the boxplot. Additionally, a scatter plot is plotted for each independent variable against the dependent variable to visualize the relationship between the variables and identify any outliers.\n",
    "\n",
    "There seem to be very little outliers. "
   ]
  }
 ],
 "metadata": {
  "kernelspec": {
   "display_name": "Python 3 (ipykernel)",
   "language": "python",
   "name": "python3"
  },
  "language_info": {
   "codemirror_mode": {
    "name": "ipython",
    "version": 3
   },
   "file_extension": ".py",
   "mimetype": "text/x-python",
   "name": "python",
   "nbconvert_exporter": "python",
   "pygments_lexer": "ipython3",
   "version": "3.10.6"
  }
 },
 "nbformat": 4,
 "nbformat_minor": 5
}
